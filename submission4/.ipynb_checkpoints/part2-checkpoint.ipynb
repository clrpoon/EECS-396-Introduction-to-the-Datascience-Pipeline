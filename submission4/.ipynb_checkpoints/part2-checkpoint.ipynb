{
 "cells": [
  {
   "cell_type": "code",
   "execution_count": 2,
   "metadata": {},
   "outputs": [],
   "source": [
    "import json\n",
    "import pandas as pd\n",
    "import numpy as np\n",
    "import matplotlib.pyplot as plt\n",
    "from scipy.stats import pearsonr\n",
    "from scipy.stats import spearmanr"
   ]
  },
  {
   "cell_type": "code",
   "execution_count": 3,
   "metadata": {},
   "outputs": [],
   "source": [
    "# load business.json\n",
    "filepath = '../../yelp_dataset'\n",
    "\n",
    "business = []\n",
    "for l in open(filepath+\"/business.json\", encoding=\"utf8\").readlines():\n",
    "    business.append(json.loads(l))\n",
    "df_business = pd.DataFrame.from_records(business)\n"
   ]
  },
  {
   "cell_type": "code",
   "execution_count": 4,
   "metadata": {},
   "outputs": [],
   "source": [
    "# load data from previous preprocessing/EDA\n",
    "filepath = '../submission3/'\n",
    "\n",
    "df_restaurant_tips = pd.read_json(filepath+\"restaurant_tips.json\", encoding=\"utf8\")"
   ]
  },
  {
   "cell_type": "code",
   "execution_count": 5,
   "metadata": {},
   "outputs": [
    {
     "name": "stdout",
     "output_type": "stream",
     "text": [
      "Total Unique ID count: 59371\n"
     ]
    }
   ],
   "source": [
    "# Filter businesses that are only in the 'Restaurant' category\n",
    "def check_for_rest(row):\n",
    "    category = row['categories']\n",
    "    if category:\n",
    "        tokens = category.split(', ')\n",
    "        return 'Restaurants' in tokens\n",
    "    return False\n",
    "\n",
    "df_business['is_restaurant'] = df_business.apply(check_for_rest, axis=1)\n",
    "\n",
    "food_businesses = df_business[df_business['is_restaurant'] == True]\n",
    "\n",
    "# Get the unique IDs for all the businesses that are resturaunts\n",
    "restaurant_ids  = set(food_businesses['business_id'].unique())\n",
    "\n",
    "print('Total Unique ID count:',len(restaurant_ids))"
   ]
  },
  {
   "cell_type": "code",
   "execution_count": 6,
   "metadata": {},
   "outputs": [
    {
     "data": {
      "image/png": "[encoded data removed]",
      "text/plain": [
       "<Figure size 432x288 with 1 Axes>"
      ]
     },
     "metadata": {
      "needs_background": "light"
     },
     "output_type": "display_data"
    }
   ],
   "source": [
    "categories_series = food_businesses['categories']\n",
    "\n",
    "cuisine_counts = {}\n",
    "for _, categories in categories_series.iteritems():\n",
    "    tokens = categories.split(', ')\n",
    "    for category in tokens:\n",
    "        if category == 'Restaurants'or category == 'Food':\n",
    "            do = 'nothing' \n",
    "        elif category in cuisine_counts:\n",
    "            cuisine_counts[category] += 1\n",
    "        else:\n",
    "            cuisine_counts[category] = 1\n",
    "\n",
    "sorted_cuisine_counts = {k: v for k, v in sorted(cuisine_counts.items(), key=lambda item: item[1])}\n",
    "\n",
    "top_20 = dict(list(sorted_cuisine_counts.items())[-20:]) \n",
    "\n",
    "x = list(top_20.keys())\n",
    "x.reverse()\n",
    "x = np.array(x)\n",
    "y = list(top_20.values())\n",
    "y.reverse()\n",
    "y = np.array(y)\n",
    "\n",
    "\n",
    "fig, ax = plt.subplots()\n",
    "plt.bar(x, y)\n",
    "plt.xticks(x, x, color='black', rotation=45, fontsize='8', horizontalalignment='right')\n",
    "plt.xlabel(\"Business Categories\", fontweight='bold', fontsize='20')\n",
    "plt.ylabel(\"Quantity Count\", fontweight='bold', fontsize='20')\n",
    "\n",
    "plt.show()"
   ]
  },
  {
   "cell_type": "code",
   "execution_count": 7,
   "metadata": {},
   "outputs": [],
   "source": [
    "# Modifying DF['categories'] to make filtering more efficient\n",
    "# def split_category(row):\n",
    "#     return row['categories'].split(',  ')\n",
    "\n",
    "# food_businesses['categories'] = food_businesses.apply(split_category, axis=1)"
   ]
  },
  {
   "cell_type": "code",
   "execution_count": 8,
   "metadata": {
    "scrolled": false
   },
   "outputs": [
    {
     "name": "stderr",
     "output_type": "stream",
     "text": [
      "/Users/leannahue/Library/Python/3.7/lib/python/site-packages/ipykernel_launcher.py:25: SettingWithCopyWarning: \n",
      "A value is trying to be set on a copy of a slice from a DataFrame.\n",
      "Try using .loc[row_indexer,col_indexer] = value instead\n",
      "\n",
      "See the caveats in the documentation: http://pandas.pydata.org/pandas-docs/stable/user_guide/indexing.html#returning-a-view-versus-a-copy\n",
      "/Users/leannahue/Library/Python/3.7/lib/python/site-packages/ipykernel_launcher.py:29: SettingWithCopyWarning: \n",
      "A value is trying to be set on a copy of a slice from a DataFrame.\n",
      "Try using .loc[row_indexer,col_indexer] = value instead\n",
      "\n",
      "See the caveats in the documentation: http://pandas.pydata.org/pandas-docs/stable/user_guide/indexing.html#returning-a-view-versus-a-copy\n",
      "/Users/leannahue/Library/Python/3.7/lib/python/site-packages/ipykernel_launcher.py:33: SettingWithCopyWarning: \n",
      "A value is trying to be set on a copy of a slice from a DataFrame.\n",
      "Try using .loc[row_indexer,col_indexer] = value instead\n",
      "\n",
      "See the caveats in the documentation: http://pandas.pydata.org/pandas-docs/stable/user_guide/indexing.html#returning-a-view-versus-a-copy\n"
     ]
    }
   ],
   "source": [
    "# CUISINES WE WILL EXPLORE:\n",
    "# Fast Food, American (Traditional), American (New), Italian, Mexican, Chinese, Japanese\n",
    "def is_fast_food(row):\n",
    "    category = row['categories']\n",
    "    if category:\n",
    "        tokens = category.split(', ')\n",
    "        return 'Fast Food' in tokens\n",
    "    return False\n",
    "\n",
    "def is_american_traditional(row):\n",
    "    category = row['categories']\n",
    "    if category:\n",
    "        tokens = category.split(', ')\n",
    "        return 'American (Traditional)' in tokens\n",
    "    return False\n",
    "\n",
    "def is_american_new(row):\n",
    "    category = row['categories']\n",
    "    if category:\n",
    "        tokens = category.split(', ')\n",
    "        return 'American (New)' in tokens\n",
    "    return False\n",
    "\n",
    "# Fast Food\n",
    "food_businesses['is_fast_food'] = food_businesses.apply(is_fast_food, axis=1)\n",
    "df_fast_food = food_businesses[food_businesses['is_fast_food'] == True]\n",
    "\n",
    "# American (Traditional)\n",
    "food_businesses['is_american_t'] = food_businesses.apply(is_american_traditional, axis=1)\n",
    "df_american_t = food_businesses[food_businesses['is_american_t'] == True]\n",
    "\n",
    "# American (New)\n",
    "food_businesses['is_american_n'] = food_businesses.apply(is_american_new, axis=1)\n",
    "df_american_n = food_businesses[food_businesses['is_american_n'] == True]"
   ]
  },
  {
   "cell_type": "code",
   "execution_count": 9,
   "metadata": {},
   "outputs": [],
   "source": [
    "# get tips for Fast Food mapped to business_id\n",
    "fast_food_ids = set(df_fast_food.business_id.unique())\n",
    "american_t_ids = set(df_american_t.business_id.unique())\n",
    "american_n_ids = set(df_american_n.business_id.unique())\n",
    "\n",
    "# group tips\n",
    "\n",
    "cuisine_tips_fast_food = df_restaurant_tips[df_restaurant_tips['business_id'].isin(fast_food_ids)]\n",
    "cuisine_tips_american_t = df_restaurant_tips[df_restaurant_tips['business_id'].isin(american_t_ids)]\n",
    "cuisine_tips_american_n = df_restaurant_tips[df_restaurant_tips['business_id'].isin(american_n_ids)]\n"
   ]
  },
  {
   "cell_type": "code",
   "execution_count": 10,
   "metadata": {},
   "outputs": [],
   "source": [
    "from vaderSentiment.vaderSentiment import SentimentIntensityAnalyzer\n",
    "\n",
    "analyser = SentimentIntensityAnalyzer()\n",
    "\n",
    "def get_sentiment(sentence):\n",
    "    dic = analyser.polarity_scores(sentence)\n",
    "    # dic -> {'neg': 0.778, 'neu': 0.222, 'pos': 0.0, 'compound': -0.5423}\n",
    "    # for some reason only allows dictionary return type\n",
    "    return dic\n",
    "\n",
    "def get_positive_sentiment(row):\n",
    "    sentence = row['text']\n",
    "    dic = get_sentiment(sentence)\n",
    "    return dic['compound'] #score is normalized between 0-1"
   ]
  },
  {
   "cell_type": "code",
   "execution_count": 11,
   "metadata": {},
   "outputs": [
    {
     "name": "stderr",
     "output_type": "stream",
     "text": [
      "/Users/leannahue/Library/Python/3.7/lib/python/site-packages/ipykernel_launcher.py:2: SettingWithCopyWarning: \n",
      "A value is trying to be set on a copy of a slice from a DataFrame.\n",
      "Try using .loc[row_indexer,col_indexer] = value instead\n",
      "\n",
      "See the caveats in the documentation: http://pandas.pydata.org/pandas-docs/stable/user_guide/indexing.html#returning-a-view-versus-a-copy\n",
      "  \n",
      "/Users/leannahue/Library/Python/3.7/lib/python/site-packages/ipykernel_launcher.py:3: SettingWithCopyWarning: \n",
      "A value is trying to be set on a copy of a slice from a DataFrame.\n",
      "Try using .loc[row_indexer,col_indexer] = value instead\n",
      "\n",
      "See the caveats in the documentation: http://pandas.pydata.org/pandas-docs/stable/user_guide/indexing.html#returning-a-view-versus-a-copy\n",
      "  This is separate from the ipykernel package so we can avoid doing imports until\n",
      "/Users/leannahue/Library/Python/3.7/lib/python/site-packages/ipykernel_launcher.py:4: SettingWithCopyWarning: \n",
      "A value is trying to be set on a copy of a slice from a DataFrame.\n",
      "Try using .loc[row_indexer,col_indexer] = value instead\n",
      "\n",
      "See the caveats in the documentation: http://pandas.pydata.org/pandas-docs/stable/user_guide/indexing.html#returning-a-view-versus-a-copy\n",
      "  after removing the cwd from sys.path.\n"
     ]
    }
   ],
   "source": [
    "# Find sentiment analysis for each tip\n",
    "cuisine_tips_fast_food['text_sentiment'] = cuisine_tips_fast_food.apply(get_positive_sentiment, axis=1)\n",
    "cuisine_tips_american_t['text_sentiment'] = cuisine_tips_american_t.apply(get_positive_sentiment, axis=1)\n",
    "cuisine_tips_american_n['text_sentiment'] = cuisine_tips_american_n.apply(get_positive_sentiment, axis=1)"
   ]
  },
  {
   "cell_type": "code",
   "execution_count": 12,
   "metadata": {},
   "outputs": [],
   "source": [
    "#seperate into meal times\n",
    "breakfast_times = set([5,6,7,8,9,10])\n",
    "lunch_times = set([11,12,13,14,15,16])\n",
    "dinner_time = set([17,18,19,20,21,22])\n",
    "\n",
    "#fast food tips\n",
    "fast_food_tips_breakfast = cuisine_tips_fast_food[cuisine_tips_fast_food['local_hour'].isin(breakfast_times)]\n",
    "fast_food_tips_lunch = cuisine_tips_fast_food[cuisine_tips_fast_food['local_hour'].isin(lunch_times)]\n",
    "fast_food_tips_dinner = cuisine_tips_fast_food[cuisine_tips_fast_food['local_hour'].isin(dinner_time)]\n",
    "\n",
    "#american traditional tips\n",
    "american_t_tips_breakfast = cuisine_tips_american_t[cuisine_tips_american_t['local_hour'].isin(breakfast_times)]\n",
    "american_t_tips_lunch = cuisine_tips_american_t[cuisine_tips_american_t['local_hour'].isin(lunch_times)]\n",
    "american_t_tips_dinner = cuisine_tips_american_t[cuisine_tips_american_t['local_hour'].isin(dinner_time)]\n",
    "\n",
    "#american new tips\n",
    "american_n_tips_breakfast = cuisine_tips_american_n[cuisine_tips_american_n['local_hour'].isin(breakfast_times)]\n",
    "american_n_tips_lunch = cuisine_tips_american_n[cuisine_tips_american_n['local_hour'].isin(lunch_times)]\n",
    "american_n_tips_dinner = cuisine_tips_american_n[cuisine_tips_american_n['local_hour'].isin(dinner_time)]\n"
   ]
  },
  {
   "cell_type": "code",
   "execution_count": 13,
   "metadata": {},
   "outputs": [],
   "source": [
    "def find_avg_tip_sentiment(row, df_tips):\n",
    "    business_id = row['business_id']\n",
    "    tips_with_this_business = df_tips[df_tips['business_id'] == business_id]\n",
    "    return tips_with_this_business['text_sentiment'].mean()"
   ]
  },
  {
   "cell_type": "code",
   "execution_count": 14,
   "metadata": {},
   "outputs": [],
   "source": [
    "# Find average sentiment for each business separated by meal times\n",
    "\n",
    "# Fast food businesses\n",
    "fast_food_businesses_breakfast = pd.DataFrame({'business_id': list(fast_food_tips_breakfast['business_id'].unique())})\n",
    "fast_food_businesses_breakfast['avg_tip_sentiment'] = \\\n",
    "    fast_food_businesses_breakfast.apply(lambda row: find_avg_tip_sentiment(row, fast_food_tips_breakfast), axis=1)\n",
    "\n",
    "fast_food_businesses_lunch = pd.DataFrame({'business_id': list(fast_food_tips_lunch['business_id'].unique())})\n",
    "fast_food_businesses_lunch['avg_tip_sentiment'] = \\\n",
    "    fast_food_businesses_lunch.apply(lambda row: find_avg_tip_sentiment(row, fast_food_tips_lunch), axis=1)\n",
    "\n",
    "fast_food_businesses_dinner = pd.DataFrame({'business_id': list(fast_food_tips_dinner['business_id'].unique())})\n",
    "fast_food_businesses_dinner['avg_tip_sentiment'] = \\\n",
    "    fast_food_businesses_dinner.apply(lambda row: find_avg_tip_sentiment(row, fast_food_tips_dinner), axis=1)\n",
    "\n",
    "# American traditional businesses\n",
    "american_t_businesses_breakfast = pd.DataFrame({'business_id': list(american_t_tips_breakfast['business_id'].unique())})\n",
    "american_t_businesses_breakfast['avg_tip_sentiment'] = \\\n",
    "    american_t_businesses_breakfast.apply(lambda row: find_avg_tip_sentiment(row, american_t_tips_breakfast), axis=1)\n",
    "\n",
    "american_t_businesses_lunch = pd.DataFrame({'business_id': list(american_t_tips_lunch['business_id'].unique())})\n",
    "american_t_businesses_lunch['avg_tip_sentiment'] = \\\n",
    "    american_t_businesses_lunch.apply(lambda row: find_avg_tip_sentiment(row, american_t_tips_lunch), axis=1)\n",
    "\n",
    "american_t_businesses_dinner = pd.DataFrame({'business_id': list(american_t_tips_dinner['business_id'].unique())})\n",
    "american_t_businesses_dinner['avg_tip_sentiment'] = \\\n",
    "    american_t_businesses_dinner.apply(lambda row: find_avg_tip_sentiment(row, american_t_tips_dinner), axis=1)\n",
    "\n",
    "# American new businesses\n",
    "american_n_businesses_breakfast = pd.DataFrame({'business_id': list(american_n_tips_breakfast['business_id'].unique())})\n",
    "american_n_businesses_breakfast['avg_tip_sentiment'] = \\\n",
    "    american_n_businesses_breakfast.apply(lambda row: find_avg_tip_sentiment(row, american_n_tips_breakfast), axis=1)\n",
    "\n",
    "american_n_businesses_lunch = pd.DataFrame({'business_id': list(american_n_tips_lunch['business_id'].unique())})\n",
    "american_n_businesses_lunch['avg_tip_sentiment'] = \\\n",
    "    american_n_businesses_lunch.apply(lambda row: find_avg_tip_sentiment(row, american_n_tips_lunch), axis=1)\n",
    "\n",
    "american_n_businesses_dinner = pd.DataFrame({'business_id': list(american_n_tips_dinner['business_id'].unique())})\n",
    "american_n_businesses_dinner['avg_tip_sentiment'] = \\\n",
    "    american_n_businesses_dinner.apply(lambda row: find_avg_tip_sentiment(row, american_n_tips_dinner), axis=1)\n"
   ]
  },
  {
   "cell_type": "code",
   "execution_count": 15,
   "metadata": {},
   "outputs": [
    {
     "name": "stdout",
     "output_type": "stream",
     "text": [
      "Fast Food Average Sentiment\n",
      "Breakfast 0.24594675973802135\n",
      "Lunch 0.27942815796919845\n",
      "Dinner 0.25986229576874736 \n",
      "\n",
      "American(Traditional) Average Sentiment\n",
      "Breakfast 0.37827705110423554\n",
      "Lunch 0.36928978528285206\n",
      "Dinner 0.3506035504025976 \n",
      "\n",
      "American (New) Average Sentiment\n",
      "Breakfast 0.38622296670589046\n",
      "Lunch 0.38377011383447857\n",
      "Dinner 0.3771364192922204\n"
     ]
    }
   ],
   "source": [
    "# Find average sentiment for each meal time and cuisine\n",
    "\n",
    "#fast food tips\n",
    "fast_food_breakfast_avg_sentiment = fast_food_tips_breakfast['text_sentiment'].mean()\n",
    "fast_food_lunch_avg_sentiment = fast_food_tips_lunch['text_sentiment'].mean()\n",
    "fast_food_dinner_avg_sentiment = fast_food_tips_dinner['text_sentiment'].mean()\n",
    "print('Fast Food Average Sentiment')\n",
    "print('Breakfast', fast_food_breakfast_avg_sentiment)\n",
    "print('Lunch', fast_food_lunch_avg_sentiment)\n",
    "print('Dinner', fast_food_dinner_avg_sentiment, '\\n')\n",
    "\n",
    "#american traditional tips\n",
    "american_t_breakfast_avg_sentiment = american_t_tips_breakfast['text_sentiment'].mean()\n",
    "american_t_lunch_avg_sentiment = american_t_tips_lunch['text_sentiment'].mean()\n",
    "american_t_dinner_avg_sentiment = american_t_tips_dinner['text_sentiment'].mean()\n",
    "print('American(Traditional) Average Sentiment')\n",
    "print('Breakfast', american_t_breakfast_avg_sentiment)\n",
    "print('Lunch', american_t_lunch_avg_sentiment)\n",
    "print('Dinner', american_t_dinner_avg_sentiment, '\\n')\n",
    "\n",
    "#american new tips\n",
    "american_n_breakfast_avg_sentiment = american_n_tips_breakfast['text_sentiment'].mean()\n",
    "american_n_lunch_avg_sentiment = american_n_tips_lunch['text_sentiment'].mean()\n",
    "american_n_dinner_avg_sentiment = american_n_tips_dinner['text_sentiment'].mean()\n",
    "print('American (New) Average Sentiment')\n",
    "print('Breakfast', american_n_breakfast_avg_sentiment)\n",
    "print('Lunch', american_n_lunch_avg_sentiment)\n",
    "print('Dinner', american_n_dinner_avg_sentiment)\n"
   ]
  },
  {
   "cell_type": "code",
   "execution_count": 16,
   "metadata": {},
   "outputs": [],
   "source": [
    "# find averge sentiment per business id based on tips for each meal time\n",
    "\n",
    "# FAST FOOD\n",
    "fast_food_breakfast_ids = fast_food_tips_breakfast['business_id'].unique()\n",
    "\n",
    "fast_food_breakfast_ids_to_sentiment = {}\n",
    "for ID in fast_food_breakfast_ids:\n",
    "    temp = fast_food_tips_breakfast[fast_food_tips_breakfast['business_id'] == ID]\n",
    "    fast_food_breakfast_ids_to_sentiment[ID] = temp['text_sentiment'].mean()\n",
    "    \n",
    "fast_food_lunch_ids = fast_food_tips_lunch['business_id'].unique()\n",
    "\n",
    "fast_food_lunch_ids_to_sentiment = {}\n",
    "for ID in fast_food_lunch_ids:\n",
    "    temp = fast_food_tips_lunch[fast_food_tips_lunch['business_id'] == ID]\n",
    "    fast_food_lunch_ids_to_sentiment[ID] = temp['text_sentiment'].mean()\n",
    "\n",
    "    \n",
    "fast_food_dinner_ids = fast_food_tips_dinner['business_id'].unique()\n",
    "\n",
    "fast_food_dinner_ids_to_sentiment = {}\n",
    "for ID in fast_food_dinner_ids:\n",
    "    temp = fast_food_tips_dinner[fast_food_tips_dinner['business_id'] == ID]\n",
    "    fast_food_dinner_ids_to_sentiment[ID] = temp['text_sentiment'].mean()\n",
    "    "
   ]
  },
  {
   "cell_type": "code",
   "execution_count": 17,
   "metadata": {},
   "outputs": [],
   "source": [
    "# AMERICAN TRADITIONAL\n",
    "american_t_breakfast_ids = american_t_tips_breakfast['business_id'].unique()\n",
    "\n",
    "american_t_breakfast_ids_to_sentiment = {}\n",
    "for ID in american_t_tips_breakfast:\n",
    "    temp = american_t_tips_breakfast[american_t_tips_breakfast['business_id'] == ID]\n",
    "    american_t_breakfast_ids_to_sentiment[ID] = temp['text_sentiment'].mean()\n",
    "\n",
    "    \n",
    "american_t_lunch_ids = american_t_tips_lunch['business_id'].unique()\n",
    "\n",
    "american_t_lunch_ids_to_sentiment = {}\n",
    "for ID in american_t_tips_lunch:\n",
    "    temp = american_t_tips_lunch[american_t_tips_lunch['business_id'] == ID]\n",
    "    american_t_lunch_ids_to_sentiment[ID] = temp['text_sentiment'].mean()\n",
    "    \n",
    "    \n",
    "american_t_dinner_ids = american_t_tips_dinner['business_id'].unique()\n",
    "\n",
    "american_t_dinner_ids_to_sentiment = {}\n",
    "for ID in american_t_tips_dinner:\n",
    "    temp = american_t_tips_dinner[american_t_tips_dinner['business_id'] == ID]\n",
    "    american_t_dinner_ids_to_sentiment[ID] = temp['text_sentiment'].mean()\n",
    "    "
   ]
  },
  {
   "cell_type": "code",
   "execution_count": 18,
   "metadata": {},
   "outputs": [],
   "source": [
    "# AMERICAN NEW\n",
    "american_n_breakfast_ids = american_n_tips_breakfast['business_id'].unique()\n",
    "\n",
    "american_n_breakfast_ids_to_sentiment = {}\n",
    "for ID in american_n_tips_breakfast:\n",
    "    temp = american_n_tips_breakfast[american_n_tips_breakfast['business_id'] == ID]\n",
    "    american_n_breakfast_ids_to_sentiment[ID] = temp['text_sentiment'].mean()\n",
    "\n",
    "    \n",
    "american_n_lunch_ids = american_n_tips_lunch['business_id'].unique()\n",
    "\n",
    "american_n_lunch_ids_to_sentiment = {}\n",
    "for ID in american_n_tips_lunch:\n",
    "    temp = american_n_tips_lunch[american_n_tips_lunch['business_id'] == ID]\n",
    "    american_n_lunch_ids_to_sentiment[ID] = temp['text_sentiment'].mean()\n",
    "    \n",
    "    \n",
    "american_n_dinner_ids = american_n_tips_dinner['business_id'].unique()\n",
    "\n",
    "american_n_dinner_ids_to_sentiment = {}\n",
    "for ID in american_n_tips_dinner:\n",
    "    temp = american_n_tips_dinner[american_n_tips_dinner['business_id'] == ID]\n",
    "    american_n_dinner_ids_to_sentiment[ID] = temp['text_sentiment'].mean()\n",
    "    "
   ]
  },
  {
   "cell_type": "code",
   "execution_count": 151,
   "metadata": {},
   "outputs": [],
   "source": [
    "# Romantic, Intimate, Hipster, Classy\n",
    "# Create Dataset for breakfast first\n",
    "all_attire = []\n",
    "def get_features(row):\n",
    "    try:\n",
    "        attributes = list(row['attributes'])[0]\n",
    "\n",
    "        ambience = attributes['Ambience'].replace(\"\\'\", \"\\\"\").lower()\n",
    "        ambience = json.loads(ambience)\n",
    "        features = {}\n",
    "\n",
    "#         features['romantic'] = bool_to_bit(ambience['romantic'])\n",
    "#         features['hipster'] = bool_to_bit(ambience['hipster'])\n",
    "        features['classy'] = bool_to_bit(ambience['classy'])\n",
    "        features['casual'] = bool_to_bit(ambience['casual'])\n",
    "        features['price_range'] = int(attributes['RestaurantsPriceRange2'])\n",
    "\n",
    "        attire = attributes['RestaurantsAttire']\n",
    "        \n",
    "        if 'None' in features.values() or attire == 'None':\n",
    "            return None\n",
    "        \n",
    "        global all_attire\n",
    "        if attire not in all_attire:\n",
    "            all_attire.append(attire)\n",
    "            print(attire)\n",
    "        \n",
    "        attire = attire if attire[0] != 'u' else attire[1:]\n",
    "        attire = attire[1:-1]\n",
    "        features['attire'] = 1 if attire == 'dressy' else (0 if attire == 'casual' else 2)\n",
    "\n",
    "        return features\n",
    "    \n",
    "    except:\n",
    "        return None\n",
    "\n",
    "def bool_to_bit(x):\n",
    "    return int(x == True)"
   ]
  },
  {
   "cell_type": "code",
   "execution_count": 152,
   "metadata": {},
   "outputs": [],
   "source": [
    "# Add features to data frames\n",
    "def add_features_to_df(meal_df, meal_business_ids, cuisine_df):\n",
    "    nan_value = float(\"NaN\")\n",
    "#     meal_df['Romantic'] = nan_value\n",
    "#     meal_df['Hipster'] = nan_value\n",
    "    meal_df['Classy'] = nan_value\n",
    "    meal_df['Casual'] = nan_value\n",
    "    meal_df['PriceRange'] = nan_value\n",
    "    meal_df['Attire'] = nan_value\n",
    "    for ID in meal_business_ids:\n",
    "        row = cuisine_df.loc[cuisine_df['business_id'] == ID]\n",
    "        features = get_features(row)\n",
    "        meal_df.loc[meal_df['business_id'] == ID, 'stars'] = list(row['stars'])[0]\n",
    "        if features != None:\n",
    "#             meal_df.loc[meal_df['business_id'] == ID, 'Romantic'] = features['romantic']\n",
    "#             meal_df.loc[meal_df['business_id'] == ID, 'Hipster'] = features['hipster']\n",
    "            meal_df.loc[meal_df['business_id'] == ID, 'Classy'] = features['classy']\n",
    "            meal_df.loc[meal_df['business_id'] == ID, 'Casual'] = features['casual']\n",
    "            meal_df.loc[meal_df['business_id'] == ID, 'PriceRange'] = features['price_range']\n",
    "            meal_df.loc[meal_df['business_id'] == ID, 'Attire'] = features['attire']"
   ]
  },
  {
   "cell_type": "code",
   "execution_count": 153,
   "metadata": {},
   "outputs": [],
   "source": [
    "# GET FEATURE FOR DIFFERENT CUISINES\n",
    "cuisine_fast_food_ids = cuisine_tips_fast_food['business_id'].unique()\n",
    "cuisine_american_t_ids = cuisine_tips_american_t['business_id'].unique()\n",
    "cuisine_american_n_ids = cuisine_tips_american_n['business_id'].unique()\n",
    "\n",
    "fast_food_businesses = pd.DataFrame({'business_id': cuisine_fast_food_ids})\n",
    "fast_food_businesses['avg_tip_sentiment'] = \\\n",
    "    fast_food_businesses.apply(lambda row: find_avg_tip_sentiment(row, cuisine_tips_fast_food), axis=1)\n",
    "\n",
    "american_t_businesses = pd.DataFrame({'business_id': cuisine_fast_food_ids})\n",
    "american_t_businesses['avg_tip_sentiment'] = \\\n",
    "    american_t_businesses.apply(lambda row: find_avg_tip_sentiment(row, cuisine_tips_american_t), axis=1)\n",
    "\n",
    "american_n_businesses = pd.DataFrame({'business_id': cuisine_fast_food_ids})\n",
    "american_n_businesses['avg_tip_sentiment'] = \\\n",
    "    american_n_businesses.apply(lambda row: find_avg_tip_sentiment(row, cuisine_tips_american_n), axis=1)"
   ]
  },
  {
   "cell_type": "code",
   "execution_count": 154,
   "metadata": {},
   "outputs": [
    {
     "name": "stdout",
     "output_type": "stream",
     "text": [
      "u'casual'\n",
      "'casual'\n",
      "'dressy'\n",
      "'formal'\n",
      "u'dressy'\n",
      "u'formal'\n"
     ]
    }
   ],
   "source": [
    "add_features_to_df(fast_food_businesses, cuisine_fast_food_ids, df_fast_food)"
   ]
  },
  {
   "cell_type": "code",
   "execution_count": 155,
   "metadata": {},
   "outputs": [],
   "source": [
    "add_features_to_df(american_t_businesses, cuisine_american_t_ids, df_american_t)"
   ]
  },
  {
   "cell_type": "code",
   "execution_count": 156,
   "metadata": {},
   "outputs": [],
   "source": [
    "add_features_to_df(american_n_businesses, cuisine_american_n_ids, df_american_n)"
   ]
  },
  {
   "cell_type": "code",
   "execution_count": 71,
   "metadata": {},
   "outputs": [],
   "source": [
    "# GET FEATURES FOR AMERICAN TRADITIONAL BREAKFAST, LUNCH, DINNER\n",
    "# add_features_to_df(american_t_businesses_breakfast, american_t_breakfast_ids, df_american_t)\n",
    "# add_features_to_df(american_t_businesses_lunch, american_t_lunch_ids, df_american_t)\n",
    "# add_features_to_df(american_t_businesses_dinner, american_t_dinner_ids, df_american_t)"
   ]
  },
  {
   "cell_type": "code",
   "execution_count": 72,
   "metadata": {},
   "outputs": [],
   "source": [
    "# GET FEATURES FOR AMERICAN NEW BREAKFAST\n",
    "# add_features_to_df(american_n_businesses_breakfast, american_n_breakfast_ids, df_american_n)\n",
    "# add_features_to_df(american_n_businesses_lunch, american_n_lunch_ids, df_american_n)\n",
    "# add_features_to_df(american_n_businesses_dinner, american_n_dinner_ids, df_american_n)"
   ]
  },
  {
   "cell_type": "code",
   "execution_count": 157,
   "metadata": {},
   "outputs": [],
   "source": [
    "fast_food_businesses = fast_food_businesses.dropna()\n",
    "american_t_businesses = american_t_businesses.dropna()\n",
    "american_n_businesses = american_n_businesses.dropna()"
   ]
  },
  {
   "cell_type": "code",
   "execution_count": 174,
   "metadata": {},
   "outputs": [],
   "source": [
    "fast_food_businesses_feature_matrix = fast_food_businesses[['avg_tip_sentiment', \\\n",
    "    'Classy', 'Casual', 'PriceRange', 'Attire', 'stars']]\n",
    "target = np.full(len(fast_food_businesses_feature_matrix), 'FastFood')\n",
    "# target = np.full(400, 'FastFood')\n",
    "weights = np.ones(len(fast_food_businesses_feature_matrix))\n",
    "fast_food_businesses_feature_matrix = fast_food_businesses_feature_matrix.to_numpy()\n",
    "fast_food_businesses_feature_matrix = fast_food_businesses_feature_matrix\n",
    "\n",
    "american_t_businesses_feature_matrix = american_t_businesses[['avg_tip_sentiment', \\\n",
    "    'Classy', 'Casual', 'PriceRange', 'Attire', 'stars']]\n",
    "target = np.append(target, np.full(len(american_t_businesses_feature_matrix), 'AmericanTraditional'))\n",
    "american_t_businesses_feature_matrix = american_t_businesses_feature_matrix.to_numpy()\n",
    "weights = np.append(weights, np.full(len(american_t_businesses_feature_matrix), 9))\n",
    "\n",
    "american_n_businesses_feature_matrix = american_n_businesses[['avg_tip_sentiment', \\\n",
    "    'Classy', 'Casual', 'PriceRange', 'Attire', 'stars']]\n",
    "target = np.append(target, np.full(len(american_n_businesses_feature_matrix), 'AmericanNew'))\n",
    "american_n_businesses_feature_matrix = american_n_businesses_feature_matrix.to_numpy()\n",
    "weights = np.append(weights, np.full(len(american_n_businesses_feature_matrix), 13))"
   ]
  },
  {
   "cell_type": "code",
   "execution_count": 175,
   "metadata": {},
   "outputs": [
    {
     "name": "stdout",
     "output_type": "stream",
     "text": [
      "0.4638126009693053\n",
      "5452\n",
      "5452\n",
      "4705\n",
      "509\n",
      "238\n",
      "['AmericanNew']\n",
      "['FastFood']\n",
      "['AmericanNew']\n"
     ]
    }
   ],
   "source": [
    "from sklearn.naive_bayes import CategoricalNB\n",
    "data = fast_food_businesses_feature_matrix\n",
    "data = np.append(data, american_t_businesses_feature_matrix, axis=0)\n",
    "data = np.append(data, american_n_businesses_feature_matrix, axis=0)\n",
    "\n",
    "clf = CategoricalNB()\n",
    "clf.fit(data, target, sample_weight=weights)\n",
    "print(clf.score(data, target, sample_weight=weights))\n",
    "\n",
    "print(len(data))\n",
    "print(len(target))\n",
    "print(len(fast_food_businesses_feature_matrix))\n",
    "print(len(american_t_businesses_feature_matrix))\n",
    "print(len(american_n_businesses_feature_matrix))\n",
    "print(clf.predict([fast_food_businesses_feature_matrix[10]]))\n",
    "print(clf.predict([american_t_businesses_feature_matrix[101]]))\n",
    "print(clf.predict([american_n_businesses_feature_matrix[20]]))"
   ]
  },
  {
   "cell_type": "code",
   "execution_count": 178,
   "metadata": {
    "scrolled": true
   },
   "outputs": [
    {
     "name": "stdout",
     "output_type": "stream",
     "text": [
      "0.8769789983844911\n",
      "['FastFood']\n",
      "['AmericanTraditional']\n",
      "['AmericanNew']\n"
     ]
    }
   ],
   "source": [
    "from sklearn import tree\n",
    "dt_clf = tree.DecisionTreeClassifier()\n",
    "dt_clf.fit(data, target, sample_weight=weights)\n",
    "print(dt_clf.score(data, target, sample_weight=weights))\n",
    "\n",
    "print(dt_clf.predict([fast_food_businesses_feature_matrix[10]]))\n",
    "print(dt_clf.predict([american_t_businesses_feature_matrix[101]]))\n",
    "print(dt_clf.predict([american_n_businesses_feature_matrix[20]]))"
   ]
  },
  {
   "cell_type": "code",
   "execution_count": 179,
   "metadata": {},
   "outputs": [
    {
     "ename": "ValueError",
     "evalue": "could not convert string to float: 'AmericanNew'",
     "output_type": "error",
     "traceback": [
      "\u001b[0;31m---------------------------------------------------------------------------\u001b[0m",
      "\u001b[0;31mValueError\u001b[0m                                Traceback (most recent call last)",
      "\u001b[0;32m<ipython-input-179-cc724c2436b1>\u001b[0m in \u001b[0;36m<module>\u001b[0;34m\u001b[0m\n\u001b[1;32m      1\u001b[0m \u001b[0;32mfrom\u001b[0m \u001b[0msklearn\u001b[0m \u001b[0;32mimport\u001b[0m \u001b[0mtree\u001b[0m\u001b[0;34m\u001b[0m\u001b[0;34m\u001b[0m\u001b[0m\n\u001b[1;32m      2\u001b[0m \u001b[0mdt_reg\u001b[0m \u001b[0;34m=\u001b[0m \u001b[0mtree\u001b[0m\u001b[0;34m.\u001b[0m\u001b[0mDecisionTreeRegressor\u001b[0m\u001b[0;34m(\u001b[0m\u001b[0;34m)\u001b[0m\u001b[0;34m\u001b[0m\u001b[0;34m\u001b[0m\u001b[0m\n\u001b[0;32m----> 3\u001b[0;31m \u001b[0mdt_reg\u001b[0m\u001b[0;34m.\u001b[0m\u001b[0mfit\u001b[0m\u001b[0;34m(\u001b[0m\u001b[0mdata\u001b[0m\u001b[0;34m,\u001b[0m \u001b[0mtarget\u001b[0m\u001b[0;34m,\u001b[0m \u001b[0msample_weight\u001b[0m\u001b[0;34m=\u001b[0m\u001b[0mweights\u001b[0m\u001b[0;34m)\u001b[0m\u001b[0;34m\u001b[0m\u001b[0;34m\u001b[0m\u001b[0m\n\u001b[0m\u001b[1;32m      4\u001b[0m \u001b[0mprint\u001b[0m\u001b[0;34m(\u001b[0m\u001b[0mdt_reg\u001b[0m\u001b[0;34m.\u001b[0m\u001b[0mscore\u001b[0m\u001b[0;34m(\u001b[0m\u001b[0mdata\u001b[0m\u001b[0;34m,\u001b[0m \u001b[0mtarget\u001b[0m\u001b[0;34m,\u001b[0m \u001b[0msample_weight\u001b[0m\u001b[0;34m=\u001b[0m\u001b[0mweights\u001b[0m\u001b[0;34m)\u001b[0m\u001b[0;34m)\u001b[0m\u001b[0;34m\u001b[0m\u001b[0;34m\u001b[0m\u001b[0m\n\u001b[1;32m      5\u001b[0m \u001b[0;34m\u001b[0m\u001b[0m\n",
      "\u001b[0;32m~/Library/Python/3.7/lib/python/site-packages/sklearn/tree/_classes.py\u001b[0m in \u001b[0;36mfit\u001b[0;34m(self, X, y, sample_weight, check_input, X_idx_sorted)\u001b[0m\n\u001b[1;32m   1223\u001b[0m             \u001b[0msample_weight\u001b[0m\u001b[0;34m=\u001b[0m\u001b[0msample_weight\u001b[0m\u001b[0;34m,\u001b[0m\u001b[0;34m\u001b[0m\u001b[0;34m\u001b[0m\u001b[0m\n\u001b[1;32m   1224\u001b[0m             \u001b[0mcheck_input\u001b[0m\u001b[0;34m=\u001b[0m\u001b[0mcheck_input\u001b[0m\u001b[0;34m,\u001b[0m\u001b[0;34m\u001b[0m\u001b[0;34m\u001b[0m\u001b[0m\n\u001b[0;32m-> 1225\u001b[0;31m             X_idx_sorted=X_idx_sorted)\n\u001b[0m\u001b[1;32m   1226\u001b[0m         \u001b[0;32mreturn\u001b[0m \u001b[0mself\u001b[0m\u001b[0;34m\u001b[0m\u001b[0;34m\u001b[0m\u001b[0m\n\u001b[1;32m   1227\u001b[0m \u001b[0;34m\u001b[0m\u001b[0m\n",
      "\u001b[0;32m~/Library/Python/3.7/lib/python/site-packages/sklearn/tree/_classes.py\u001b[0m in \u001b[0;36mfit\u001b[0;34m(self, X, y, sample_weight, check_input, X_idx_sorted)\u001b[0m\n\u001b[1;32m    195\u001b[0m \u001b[0;34m\u001b[0m\u001b[0m\n\u001b[1;32m    196\u001b[0m         \u001b[0;32mif\u001b[0m \u001b[0mgetattr\u001b[0m\u001b[0;34m(\u001b[0m\u001b[0my\u001b[0m\u001b[0;34m,\u001b[0m \u001b[0;34m\"dtype\"\u001b[0m\u001b[0;34m,\u001b[0m \u001b[0;32mNone\u001b[0m\u001b[0;34m)\u001b[0m \u001b[0;34m!=\u001b[0m \u001b[0mDOUBLE\u001b[0m \u001b[0;32mor\u001b[0m \u001b[0;32mnot\u001b[0m \u001b[0my\u001b[0m\u001b[0;34m.\u001b[0m\u001b[0mflags\u001b[0m\u001b[0;34m.\u001b[0m\u001b[0mcontiguous\u001b[0m\u001b[0;34m:\u001b[0m\u001b[0;34m\u001b[0m\u001b[0;34m\u001b[0m\u001b[0m\n\u001b[0;32m--> 197\u001b[0;31m             \u001b[0my\u001b[0m \u001b[0;34m=\u001b[0m \u001b[0mnp\u001b[0m\u001b[0;34m.\u001b[0m\u001b[0mascontiguousarray\u001b[0m\u001b[0;34m(\u001b[0m\u001b[0my\u001b[0m\u001b[0;34m,\u001b[0m \u001b[0mdtype\u001b[0m\u001b[0;34m=\u001b[0m\u001b[0mDOUBLE\u001b[0m\u001b[0;34m)\u001b[0m\u001b[0;34m\u001b[0m\u001b[0;34m\u001b[0m\u001b[0m\n\u001b[0m\u001b[1;32m    198\u001b[0m \u001b[0;34m\u001b[0m\u001b[0m\n\u001b[1;32m    199\u001b[0m         \u001b[0;31m# Check parameters\u001b[0m\u001b[0;34m\u001b[0m\u001b[0;34m\u001b[0m\u001b[0;34m\u001b[0m\u001b[0m\n",
      "\u001b[0;32m/Library/Python/3.7/site-packages/numpy/core/_asarray.py\u001b[0m in \u001b[0;36mascontiguousarray\u001b[0;34m(a, dtype)\u001b[0m\n\u001b[1;32m    177\u001b[0m \u001b[0;34m\u001b[0m\u001b[0m\n\u001b[1;32m    178\u001b[0m     \"\"\"\n\u001b[0;32m--> 179\u001b[0;31m     \u001b[0;32mreturn\u001b[0m \u001b[0marray\u001b[0m\u001b[0;34m(\u001b[0m\u001b[0ma\u001b[0m\u001b[0;34m,\u001b[0m \u001b[0mdtype\u001b[0m\u001b[0;34m,\u001b[0m \u001b[0mcopy\u001b[0m\u001b[0;34m=\u001b[0m\u001b[0;32mFalse\u001b[0m\u001b[0;34m,\u001b[0m \u001b[0morder\u001b[0m\u001b[0;34m=\u001b[0m\u001b[0;34m'C'\u001b[0m\u001b[0;34m,\u001b[0m \u001b[0mndmin\u001b[0m\u001b[0;34m=\u001b[0m\u001b[0;36m1\u001b[0m\u001b[0;34m)\u001b[0m\u001b[0;34m\u001b[0m\u001b[0;34m\u001b[0m\u001b[0m\n\u001b[0m\u001b[1;32m    180\u001b[0m \u001b[0;34m\u001b[0m\u001b[0m\n\u001b[1;32m    181\u001b[0m \u001b[0;34m\u001b[0m\u001b[0m\n",
      "\u001b[0;31mValueError\u001b[0m: could not convert string to float: 'AmericanNew'"
     ]
    }
   ],
   "source": [
    "from sklearn import tree\n",
    "dt_reg = tree.DecisionTreeRegressor()\n",
    "dt_reg.fit(data, target, sample_weight=weights)\n",
    "print(dt_reg.score(data, target, sample_weight=weights))\n",
    "\n",
    "print(dt_reg.predict([fast_food_businesses_feature_matrix[10]]))\n",
    "print(dt_reg.predict([american_t_businesses_feature_matrix[101]]))\n",
    "print(dt_reg.predict([american_n_businesses_feature_matrix[20]]))"
   ]
  },
  {
   "cell_type": "code",
   "execution_count": 113,
   "metadata": {},
   "outputs": [
    {
     "name": "stdout",
     "output_type": "stream",
     "text": [
      "0.0    2493\n",
      "1.0     195\n",
      "Name: Classy, dtype: int64\n",
      "0.0    2608\n",
      "1.0      80\n",
      "Name: Romantic, dtype: int64\n",
      "0.0    2567\n",
      "1.0     121\n",
      "Name: Hipster, dtype: int64\n",
      "1.0    1759\n",
      "0.0     929\n",
      "Name: Casual, dtype: int64\n",
      "4.0    906\n",
      "3.5    832\n",
      "3.0    470\n",
      "4.5    305\n",
      "2.5    200\n",
      "2.0     68\n",
      "5.0     16\n",
      "1.5     10\n",
      "Name: stars, dtype: int64\n"
     ]
    }
   ],
   "source": [
    "print(american_n_businesses_breakfast['Classy'].value_counts())\n",
    "print(american_n_businesses_breakfast['Romantic'].value_counts())\n",
    "print(american_n_businesses_breakfast['Hipster'].value_counts())\n",
    "print(american_n_businesses_breakfast['Casual'].value_counts())\n",
    "print(american_n_businesses_breakfast['stars'].value_counts())\n",
    "print(vietnamese_n_business_pho['beef tripe'].value_counts())\n",
    "print(vietnamese_n_war_america['project orange'].value_counts())"
   ]
  },
  {
   "cell_type": "code",
   "execution_count": 25,
   "metadata": {},
   "outputs": [],
   "source": [
    "def find_star_rating(row, businesses):\n",
    "    business_id = row['business_id']\n",
    "    business_info = businesses[businesses['business_id'] == business_id]\n",
    "    return list(business_info['stars'])[0]"
   ]
  },
  {
   "cell_type": "code",
   "execution_count": 26,
   "metadata": {},
   "outputs": [],
   "source": [
    "fast_food_businesses_star_sentiment = pd.DataFrame({'business_id': list(cuisine_tips_fast_food['business_id'].unique())})\n",
    "fast_food_businesses_star_sentiment['avg_tip_sentiment'] = \\\n",
    "    fast_food_businesses_star_sentiment.apply(lambda row: find_avg_tip_sentiment(row, cuisine_tips_fast_food), axis=1)\n",
    "fast_food_businesses_star_sentiment['stars'] = \\\n",
    "    fast_food_businesses_star_sentiment.apply(lambda row: find_star_rating(row, df_fast_food), axis=1)\n"
   ]
  },
  {
   "cell_type": "code",
   "execution_count": 27,
   "metadata": {},
   "outputs": [
    {
     "data": {
      "image/png": "[encoded data removed]",
      "text/plain": [
       "<Figure size 432x288 with 1 Axes>"
      ]
     },
     "metadata": {
      "needs_background": "light"
     },
     "output_type": "display_data"
    }
   ],
   "source": [
    "ax1 = fast_food_businesses_star_sentiment.plot.scatter(x='stars', \\\n",
    "    y='avg_tip_sentiment', c='DarkBlue', label='Fast Food')"
   ]
  },
  {
   "cell_type": "code",
   "execution_count": 28,
   "metadata": {},
   "outputs": [
    {
     "name": "stdout",
     "output_type": "stream",
     "text": [
      "Pearson 0.391347743246476\n",
      "Spearman 0.4101010110870563\n"
     ]
    }
   ],
   "source": [
    "pearson_corr, _ = pearsonr(fast_food_businesses_star_sentiment['avg_tip_sentiment'], fast_food_businesses_star_sentiment['stars'])\n",
    "print('Pearson', pearson_corr)\n",
    "\n",
    "spearman_corr, _ = spearmanr(fast_food_businesses_star_sentiment['avg_tip_sentiment'], fast_food_businesses_star_sentiment['stars'])\n",
    "print('Spearman', spearman_corr)\n"
   ]
  },
  {
   "cell_type": "code",
   "execution_count": 36,
   "metadata": {},
   "outputs": [],
   "source": [
    "american_t_businesses_star_sentiment = pd.DataFrame({'business_id': list(cuisine_tips_american_t['business_id'].unique())})\n",
    "american_t_businesses_star_sentiment['avg_tip_sentiment'] = \\\n",
    "    american_t_businesses_star_sentiment.apply(lambda row: find_avg_tip_sentiment(row, cuisine_tips_american_t), axis=1)\n",
    "american_t_businesses_star_sentiment['stars'] = \\\n",
    "    american_t_businesses_star_sentiment.apply(lambda row: find_star_rating(row, df_american_t), axis=1)\n"
   ]
  },
  {
   "cell_type": "code",
   "execution_count": 130,
   "metadata": {},
   "outputs": [
    {
     "data": {
      "image/png": "[encoded data removed]",
      "text/plain": [
       "<Figure size 432x288 with 1 Axes>"
      ]
     },
     "metadata": {
      "needs_background": "light"
     },
     "output_type": "display_data"
    },
    {
     "data": {
      "image/png": "[encoded data removed]",
      "text/plain": [
       "<Figure size 432x288 with 1 Axes>"
      ]
     },
     "metadata": {
      "needs_background": "light"
     },
     "output_type": "display_data"
    },
    {
     "data": {
      "image/png": "[encoded data removed]",
      "text/plain": [
       "<Figure size 432x288 with 1 Axes>"
      ]
     },
     "metadata": {
      "needs_background": "light"
     },
     "output_type": "display_data"
    }
   ],
   "source": [
    "# Popularity\n",
    "cuisines = ['Fast Food', 'Traditional American', 'New American']\n",
    "\n",
    "# breakfast_heights = [len(fast_food_breakfast_ids)/len(df_fast_food), len(american_t_breakfast_ids)/len(df_american_t), len(american_n_breakfast_ids)/len(df_american_n)]\n",
    "# lunch_heights = [len(fast_food_lunch_ids)/len(df_fast_food), len(american_t_lunch_ids)/len(df_american_t), len(american_n_lunch_ids)/len(df_american_n)]\n",
    "# dinner_heights = [len(fast_food_dinner_ids)/len(df_fast_food), len(american_t_dinner_ids)/len(df_american_t), len(american_n_dinner_ids)/len(df_american_n)]\n",
    "breakfast_heights = [fast_food_businesses_breakfast['avg_tip_sentiment'].mean(), american_t_businesses_breakfast['avg_tip_sentiment'].mean(), american_n_businesses_breakfast['avg_tip_sentiment'].mean()]\n",
    "lunch_heights = [fast_food_businesses_lunch['avg_tip_sentiment'].mean(), american_t_businesses_lunch['avg_tip_sentiment'].mean(), american_n_businesses_lunch['avg_tip_sentiment'].mean()]\n",
    "dinner_heights = [fast_food_businesses_dinner['avg_tip_sentiment'].mean(), american_t_businesses_dinner['avg_tip_sentiment'].mean(), american_n_businesses_dinner['avg_tip_sentiment'].mean()]\n",
    "\n",
    "# Breakfast\n",
    "fig, ax = plt.subplots()\n",
    "plt.bar(cuisines, breakfast_heights)\n",
    "plt.ylabel(\"Average Tip Sentiment (Breakfast)\")\n",
    "\n",
    "plt.show()\n",
    "\n",
    "# Lunch\n",
    "fig1, ax1 = plt.subplots()\n",
    "plt.bar(cuisines, lunch_heights)\n",
    "plt.ylabel(\"Average Tip Sentiment (Lunch)\")\n",
    "\n",
    "plt.show()\n",
    "\n",
    "# Dinner\n",
    "fig2, ax2 = plt.subplots()\n",
    "plt.bar(cuisines, dinner_heights)\n",
    "plt.ylabel(\"Average Tip Sentiment (Dinner)\")\n",
    "\n",
    "plt.show()"
   ]
  },
  {
   "cell_type": "code",
   "execution_count": 127,
   "metadata": {},
   "outputs": [
    {
     "data": {
      "image/png": "[encoded data removed]",
      "text/plain": [
       "<Figure size 432x288 with 1 Axes>"
      ]
     },
     "metadata": {
      "needs_background": "light"
     },
     "output_type": "display_data"
    },
    {
     "data": {
      "image/png": "[encoded data removed]",
      "text/plain": [
       "<Figure size 432x288 with 1 Axes>"
      ]
     },
     "metadata": {
      "needs_background": "light"
     },
     "output_type": "display_data"
    }
   ],
   "source": [
    "from matplotlib.ticker import PercentFormatter\n",
    "fig3, ax3 = plt.subplots()\n",
    "data = [list(fast_food_businesses_breakfast['avg_tip_sentiment']), \\\n",
    "        list(american_t_businesses_breakfast['avg_tip_sentiment']), \\\n",
    "        list(american_n_businesses_breakfast['avg_tip_sentiment'])]\n",
    "weights = [np.ones(len(fast_food_businesses_breakfast)) / len(fast_food_businesses_breakfast), \\\n",
    "          np.ones(len(american_t_businesses_breakfast)) / len(american_t_businesses_breakfast), \\\n",
    "          np.ones(len(american_n_businesses_breakfast)) / len(american_n_businesses_breakfast)]\n",
    "bins = [20, 20, 20]\n",
    "colors = ['DarkBlue', 'Green', 'Red']\n",
    "names = ['Fast Food', 'American (Traditional)', 'American (New)']\n",
    "\n",
    "plt.hist(data, weights=weights, bins=20, color=colors, label=names)\n",
    "\n",
    "plt.xlabel(\"Average Tip Sentiment\")\n",
    "plt.legend()\n",
    "plt.title('Distribution of Average Sentiment for Businesses (Breakfast)')\n",
    "ax3.yaxis.set_major_formatter(PercentFormatter(1))\n",
    "\n",
    "fig4, ax4 = plt.subplots()\n",
    "data = [list(fast_food_businesses_breakfast['stars']), \\\n",
    "        list(american_t_businesses_breakfast['stars']), \\\n",
    "        list(american_n_businesses_breakfast['stars'])]\n",
    "weights = [np.ones(len(fast_food_businesses_breakfast)) / len(fast_food_businesses_breakfast), \\\n",
    "          np.ones(len(american_t_businesses_breakfast)) / len(american_t_businesses_breakfast), \\\n",
    "          np.ones(len(american_n_businesses_breakfast)) / len(american_n_businesses_breakfast)]\n",
    "colors = ['DarkBlue', 'Green', 'Red']\n",
    "names = ['Fast Food', 'American (Traditional)', 'American (New)']\n",
    "\n",
    "plt.hist(data, weights=weights, bins=9, color=colors, label=names)\n",
    "\n",
    "plt.xlabel(\"Stars\")\n",
    "plt.legend()\n",
    "plt.title('Distribution of Stars for Businesses (Breakfast)')\n",
    "ax4.yaxis.set_major_formatter(PercentFormatter(1))"
   ]
  },
  {
   "cell_type": "code",
   "execution_count": 126,
   "metadata": {},
   "outputs": [
    {
     "data": {
      "image/png": "[encoded data removed]",
      "text/plain": [
       "<Figure size 432x288 with 1 Axes>"
      ]
     },
     "metadata": {
      "needs_background": "light"
     },
     "output_type": "display_data"
    },
    {
     "data": {
      "image/png": "[encoded data removed]",
      "text/plain": [
       "<Figure size 432x288 with 1 Axes>"
      ]
     },
     "metadata": {
      "needs_background": "light"
     },
     "output_type": "display_data"
    }
   ],
   "source": [
    "fig5, ax5 = plt.subplots()\n",
    "data = [list(fast_food_businesses_lunch['avg_tip_sentiment']), \\\n",
    "        list(american_t_businesses_lunch['avg_tip_sentiment']), \\\n",
    "        list(american_n_businesses_lunch['avg_tip_sentiment'])]\n",
    "weights = [np.ones(len(fast_food_businesses_lunch)) / len(fast_food_businesses_lunch), \\\n",
    "          np.ones(len(american_t_businesses_lunch)) / len(american_t_businesses_lunch), \\\n",
    "          np.ones(len(american_n_businesses_lunch)) / len(american_n_businesses_lunch)]\n",
    "bins = [20, 20, 20]\n",
    "colors = ['DarkBlue', 'Green', 'Red']\n",
    "names = ['Fast Food', 'American (Traditional)', 'American (New)']\n",
    "\n",
    "plt.hist(data, weights=weights, bins=20, color=colors, label=names)\n",
    "\n",
    "plt.xlabel(\"Average Tip Sentiment\")\n",
    "plt.legend()\n",
    "plt.title('Distribution of Average Sentiment for Businesses (Lunch)')\n",
    "ax5.yaxis.set_major_formatter(PercentFormatter(1))\n",
    "\n",
    "fig6, ax6 = plt.subplots()\n",
    "data = [list(fast_food_businesses_lunch['stars']), \\\n",
    "        list(american_t_businesses_lunch['stars']), \\\n",
    "        list(american_n_businesses_lunch['stars'])]\n",
    "weights = [np.ones(len(fast_food_businesses_lunch)) / len(fast_food_businesses_lunch), \\\n",
    "          np.ones(len(american_t_businesses_lunch)) / len(american_t_businesses_lunch), \\\n",
    "          np.ones(len(american_n_businesses_lunch)) / len(american_n_businesses_lunch)]\n",
    "colors = ['DarkBlue', 'Green', 'Red']\n",
    "names = ['Fast Food', 'American (Traditional)', 'American (New)']\n",
    "\n",
    "plt.hist(data, weights=weights, bins=9, color=colors, label=names)\n",
    "\n",
    "plt.xlabel(\"Stars\")\n",
    "plt.legend()\n",
    "plt.title('Distribution of Stars for Businesses (Lunch)')\n",
    "ax6.yaxis.set_major_formatter(PercentFormatter(1))"
   ]
  },
  {
   "cell_type": "code",
   "execution_count": 125,
   "metadata": {},
   "outputs": [
    {
     "data": {
      "image/png": "[encoded data removed]",
      "text/plain": [
       "<Figure size 432x288 with 1 Axes>"
      ]
     },
     "metadata": {
      "needs_background": "light"
     },
     "output_type": "display_data"
    },
    {
     "data": {
      "image/png": "[encoded data removed]",
      "text/plain": [
       "<Figure size 432x288 with 1 Axes>"
      ]
     },
     "metadata": {
      "needs_background": "light"
     },
     "output_type": "display_data"
    }
   ],
   "source": [
    "fig7, ax7 = plt.subplots()\n",
    "data_sentiment = [list(fast_food_businesses_dinner['avg_tip_sentiment']), \\\n",
    "        list(american_t_businesses_dinner['avg_tip_sentiment']), \\\n",
    "        list(american_n_businesses_dinner['avg_tip_sentiment'])]\n",
    "weights_dinner = [np.ones(len(fast_food_businesses_dinner)) / len(fast_food_businesses_dinner), \\\n",
    "          np.ones(len(american_t_businesses_dinner)) / len(american_t_businesses_dinner), \\\n",
    "          np.ones(len(american_n_businesses_dinner)) / len(american_n_businesses_dinner)]\n",
    "bins = [20, 20, 20]\n",
    "colors = ['DarkBlue', 'Green', 'Red']\n",
    "names = ['Fast Food', 'American (Traditional)', 'American (New)']\n",
    "\n",
    "plt.hist(data_sentiment, weights=weights_dinner, bins=20, color=colors, label=names)\n",
    "\n",
    "plt.xlabel(\"Average Tip Sentiment\")\n",
    "plt.legend()\n",
    "plt.title('Distribution of Average Sentiment for Businesses (Dinner)')\n",
    "ax7.yaxis.set_major_formatter(PercentFormatter(1))\n",
    "\n",
    "fig8, ax8 = plt.subplots()\n",
    "data_stars = [list(fast_food_businesses_dinner['stars']), \\\n",
    "        list(american_t_businesses_dinner['stars']), \\\n",
    "        list(american_n_businesses_dinner['stars'])]\n",
    "colors = ['DarkBlue', 'Green', 'Red']\n",
    "names = ['Fast Food', 'American (Traditional)', 'American (New)']\n",
    "\n",
    "plt.hist(data_stars, weights=weights_dinner, bins=9, color=colors, label=names)\n",
    "\n",
    "plt.xlabel(\"Stars\")\n",
    "plt.legend()\n",
    "plt.title('Distribution of Stars for Businesses (Dinner)')\n",
    "ax8.yaxis.set_major_formatter(PercentFormatter(1))"
   ]
  },
  {
   "cell_type": "code",
   "execution_count": null,
   "metadata": {},
   "outputs": [],
   "source": []
  }
 ],
 "metadata": {
  "kernelspec": {
   "display_name": "Python 3",
   "language": "python",
   "name": "python3"
  },
  "language_info": {
   "codemirror_mode": {
    "name": "ipython",
    "version": 3
   },
   "file_extension": ".py",
   "mimetype": "text/x-python",
   "name": "python",
   "nbconvert_exporter": "python",
   "pygments_lexer": "ipython3",
   "version": "3.7.3"
  }
 },
 "nbformat": 4,
 "nbformat_minor": 2
}
