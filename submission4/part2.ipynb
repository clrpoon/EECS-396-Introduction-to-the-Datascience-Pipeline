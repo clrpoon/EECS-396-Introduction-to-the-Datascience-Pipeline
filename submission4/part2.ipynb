{
 "cells": [
  {
   "cell_type": "code",
   "execution_count": 18,
   "metadata": {},
   "outputs": [],
   "source": [
    "import json\n",
    "import pandas as pd\n",
    "import numpy as np\n",
    "import matplotlib.pyplot as plt"
   ]
  },
  {
   "cell_type": "code",
   "execution_count": 19,
   "metadata": {},
   "outputs": [],
   "source": [
    "# load business.json\n",
    "filepath = '../../yelp_dataset'\n",
    "\n",
    "business = []\n",
    "for l in open(filepath+\"/business.json\", encoding=\"utf8\").readlines():\n",
    "    business.append(json.loads(l))\n",
    "df_business = pd.DataFrame.from_records(business)\n"
   ]
  },
  {
   "cell_type": "code",
   "execution_count": 20,
   "metadata": {},
   "outputs": [],
   "source": [
    "# load data from previous preprocessing/EDA\n",
    "filepath = '../../'\n",
    "\n",
    "restaurant_tips = []\n",
    "for l in open(filepath+\"restaurant_tips.json\", encoding=\"utf8\").readlines():\n",
    "    restaurant_tips.append(json.loads(l))\n",
    "df_restaurant_tips= pd.DataFrame.from_records(restaurant_tips)\n"
   ]
  },
  {
   "cell_type": "code",
   "execution_count": 21,
   "metadata": {},
   "outputs": [
    {
     "name": "stdout",
     "output_type": "stream",
     "text": [
      "Total Unique ID count: 59371\n"
     ]
    }
   ],
   "source": [
    "# Filter businesses that are only in the 'Restaurant' category\n",
    "def check_for_rest(row):\n",
    "    category = row['categories']\n",
    "    if category:\n",
    "        tokens = category.split(', ')\n",
    "        return 'Restaurants' in tokens\n",
    "    return False\n",
    "\n",
    "df_business['is_restaurant'] = df_business.apply(check_for_rest, axis=1)\n",
    "\n",
    "food_businesses = df_business[df_business['is_restaurant'] == True]\n",
    "\n",
    "# Get the unique IDs for all the businesses that are resturaunts\n",
    "restaurant_ids  = set(food_businesses['business_id'].unique())\n",
    "\n",
    "print('Total Unique ID count:',len(restaurant_ids))"
   ]
  },
  {
   "cell_type": "code",
   "execution_count": 22,
   "metadata": {},
   "outputs": [
    {
     "data": {
      "image/png": "[encoded data removed]",
      "text/plain": [
       "<Figure size 432x288 with 1 Axes>"
      ]
     },
     "metadata": {
      "needs_background": "light"
     },
     "output_type": "display_data"
    }
   ],
   "source": [
    "categories_series = food_businesses['categories']\n",
    "\n",
    "cuisine_counts = {}\n",
    "for _, categories in categories_series.iteritems():\n",
    "    tokens = categories.split(', ')\n",
    "    for category in tokens:\n",
    "        if category == 'Restaurants'or category == 'Food':\n",
    "            do = 'nothing' \n",
    "        elif category in cuisine_counts:\n",
    "            cuisine_counts[category] += 1\n",
    "        else:\n",
    "            cuisine_counts[category] = 1\n",
    "\n",
    "sorted_cuisine_counts = {k: v for k, v in sorted(cuisine_counts.items(), key=lambda item: item[1])}\n",
    "\n",
    "top_20 = dict(list(sorted_cuisine_counts.items())[-20:]) \n",
    "\n",
    "x = list(top_20.keys())\n",
    "x.reverse()\n",
    "x = np.array(x)\n",
    "y = list(top_20.values())\n",
    "y.reverse()\n",
    "y = np.array(y)\n",
    "\n",
    "\n",
    "fig, ax = plt.subplots()\n",
    "plt.bar(x, y)\n",
    "plt.xticks(x, x, color='black', rotation=45, fontsize='8', horizontalalignment='right')\n",
    "plt.xlabel(\"Categories\", fontweight='bold', fontsize='20')\n",
    "plt.ylabel(\"Quantity Count\", fontweight='bold', fontsize='20')\n",
    "\n",
    "plt.show()"
   ]
  },
  {
   "cell_type": "code",
   "execution_count": 6,
   "metadata": {},
   "outputs": [
    {
     "name": "stderr",
     "output_type": "stream",
     "text": [
      "c:\\users\\casey\\appdata\\local\\programs\\python\\python37\\lib\\site-packages\\ipykernel_launcher.py:5: SettingWithCopyWarning: \n",
      "A value is trying to be set on a copy of a slice from a DataFrame.\n",
      "Try using .loc[row_indexer,col_indexer] = value instead\n",
      "\n",
      "See the caveats in the documentation: http://pandas.pydata.org/pandas-docs/stable/user_guide/indexing.html#returning-a-view-versus-a-copy\n",
      "  \"\"\"\n"
     ]
    }
   ],
   "source": [
    "# Modifying DF['categories'] to make filtering more efficient\n",
    "# def split_category(row):\n",
    "#     return row['categories'].split(',  ')\n",
    "\n",
    "# food_businesses['categories'] = food_businesses.apply(split_category, axis=1)"
   ]
  },
  {
   "cell_type": "code",
   "execution_count": 28,
   "metadata": {
    "scrolled": false
   },
   "outputs": [
    {
     "name": "stderr",
     "output_type": "stream",
     "text": [
      "c:\\users\\casey\\appdata\\local\\programs\\python\\python37\\lib\\site-packages\\ipykernel_launcher.py:25: SettingWithCopyWarning: \n",
      "A value is trying to be set on a copy of a slice from a DataFrame.\n",
      "Try using .loc[row_indexer,col_indexer] = value instead\n",
      "\n",
      "See the caveats in the documentation: http://pandas.pydata.org/pandas-docs/stable/user_guide/indexing.html#returning-a-view-versus-a-copy\n",
      "c:\\users\\casey\\appdata\\local\\programs\\python\\python37\\lib\\site-packages\\ipykernel_launcher.py:29: SettingWithCopyWarning: \n",
      "A value is trying to be set on a copy of a slice from a DataFrame.\n",
      "Try using .loc[row_indexer,col_indexer] = value instead\n",
      "\n",
      "See the caveats in the documentation: http://pandas.pydata.org/pandas-docs/stable/user_guide/indexing.html#returning-a-view-versus-a-copy\n",
      "c:\\users\\casey\\appdata\\local\\programs\\python\\python37\\lib\\site-packages\\ipykernel_launcher.py:33: SettingWithCopyWarning: \n",
      "A value is trying to be set on a copy of a slice from a DataFrame.\n",
      "Try using .loc[row_indexer,col_indexer] = value instead\n",
      "\n",
      "See the caveats in the documentation: http://pandas.pydata.org/pandas-docs/stable/user_guide/indexing.html#returning-a-view-versus-a-copy\n"
     ]
    }
   ],
   "source": [
    "# CUISINES WE WILL EXPLORE:\n",
    "# Fast Food, American (Traditional), American (New), Italian, Mexican, Chinese, Japanese\n",
    "def is_fast_food(row):\n",
    "    category = row['categories']\n",
    "    if category:\n",
    "        tokens = category.split(', ')\n",
    "        return 'Fast Food' in tokens\n",
    "    return False\n",
    "\n",
    "def is_american_traditional(row):\n",
    "    category = row['categories']\n",
    "    if category:\n",
    "        tokens = category.split(', ')\n",
    "        return 'American (Traditional)' in tokens\n",
    "    return False\n",
    "\n",
    "def is_american_new(row):\n",
    "    category = row['categories']\n",
    "    if category:\n",
    "        tokens = category.split(', ')\n",
    "        return 'American (New)' in tokens\n",
    "    return False\n",
    "\n",
    "# Fast Food\n",
    "food_businesses['is_fast_food'] = food_businesses.apply(is_fast_food, axis=1)\n",
    "df_fast_food = food_businesses[food_businesses['is_fast_food'] == True]\n",
    "\n",
    "# American (Traditional)\n",
    "food_businesses['is_american_t'] = food_businesses.apply(is_american_traditional, axis=1)\n",
    "df_american_t = food_businesses[food_businesses['is_american_t'] == True]\n",
    "\n",
    "# American (New)\n",
    "food_businesses['is_american_n'] = food_businesses.apply(is_american_new, axis=1)\n",
    "df_american_n = food_businesses[food_businesses['is_american_n'] == True]"
   ]
  },
  {
   "cell_type": "code",
   "execution_count": 54,
   "metadata": {},
   "outputs": [],
   "source": [
    "# get tips for Fast Food mapped to business_id\n",
    "fast_food_ids = set(df_fast_food.business_id.unique())\n",
    "american_t_ids = set(df_american_t.business_id.unique())\n",
    "american_n_ids = set(df_american_n.business_id.unique())\n",
    "\n",
    "# group tips\n",
    "cuisine_tips = {}\n",
    "# cuisine_tips['fast_food'] = df_restaurant_tips[df_restaurant_tips['business_ids'].isin(fast_food_ids)]\n",
    "# print(df_restaurant_tips)\n",
    "\n",
    "#seperate into meal times\n"
   ]
  },
  {
   "cell_type": "code",
   "execution_count": 82,
   "metadata": {
    "scrolled": true
   },
   "outputs": [],
   "source": [
    "from vaderSentiment.vaderSentiment import SentimentIntensityAnalyzer\n",
    "\n",
    "analyser = SentimentIntensityAnalyzer()\n",
    "\n",
    "def get_sentiment(sentence):\n",
    "    dic = analyser.polarity_scores(sentence)\n",
    "    # dic -> {'neg': 0.778, 'neu': 0.222, 'pos': 0.0, 'compound': -0.5423}\n",
    "    # for some reason only allows dictionary return type\n",
    "    return dic\n",
    "def get_positive_sentiment(sentence):\n",
    "    dic = get_sentiment(sentence)\n",
    "    return dic['pos']"
   ]
  },
  {
   "cell_type": "code",
   "execution_count": 81,
   "metadata": {},
   "outputs": [],
   "source": []
  },
  {
   "cell_type": "code",
   "execution_count": 79,
   "metadata": {},
   "outputs": [
    {
     "data": {
      "text/plain": [
       "{'neg': 0.778, 'neu': 0.222, 'pos': 0.0, 'compound': -0.5423}"
      ]
     },
     "execution_count": 79,
     "metadata": {},
     "output_type": "execute_result"
    }
   ],
   "source": []
  },
  {
   "cell_type": "code",
   "execution_count": null,
   "metadata": {},
   "outputs": [],
   "source": []
  }
 ],
 "metadata": {
  "kernelspec": {
   "display_name": "Python 3",
   "language": "python",
   "name": "python3"
  },
  "language_info": {
   "codemirror_mode": {
    "name": "ipython",
    "version": 3
   },
   "file_extension": ".py",
   "mimetype": "text/x-python",
   "name": "python",
   "nbconvert_exporter": "python",
   "pygments_lexer": "ipython3",
   "version": "3.7.2"
  }
 },
 "nbformat": 4,
 "nbformat_minor": 2
}
