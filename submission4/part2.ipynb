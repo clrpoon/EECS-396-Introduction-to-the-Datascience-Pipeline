{
 "cells": [
  {
   "cell_type": "code",
   "execution_count": 6,
   "metadata": {},
   "outputs": [],
   "source": [
    "import json\n",
    "import pandas as pd\n",
    "import numpy as np\n",
    "import matplotlib.pyplot as plt"
   ]
  },
  {
   "cell_type": "code",
   "execution_count": 7,
   "metadata": {},
   "outputs": [],
   "source": [
    "# load business.json\n",
    "filepath = '../../yelp_dataset'\n",
    "\n",
    "business = []\n",
    "for l in open(filepath+\"/business.json\", encoding=\"utf8\").readlines():\n",
    "    business.append(json.loads(l))\n",
    "df_business = pd.DataFrame.from_records(business)\n"
   ]
  },
  {
   "cell_type": "code",
   "execution_count": 10,
   "metadata": {},
   "outputs": [],
   "source": [
    "# load data from previous preprocessing/EDA\n",
    "filepath = '../'\n",
    "\n",
    "df_restaurant_tips = pd.read_json(filepath+\"restaurant_tips.json\", encoding=\"utf8\")"
   ]
  },
  {
   "cell_type": "code",
   "execution_count": 11,
   "metadata": {},
   "outputs": [
    {
     "name": "stdout",
     "output_type": "stream",
     "text": [
      "Total Unique ID count: 59371\n"
     ]
    }
   ],
   "source": [
    "# Filter businesses that are only in the 'Restaurant' category\n",
    "def check_for_rest(row):\n",
    "    category = row['categories']\n",
    "    if category:\n",
    "        tokens = category.split(', ')\n",
    "        return 'Restaurants' in tokens\n",
    "    return False\n",
    "\n",
    "df_business['is_restaurant'] = df_business.apply(check_for_rest, axis=1)\n",
    "\n",
    "food_businesses = df_business[df_business['is_restaurant'] == True]\n",
    "\n",
    "# Get the unique IDs for all the businesses that are resturaunts\n",
    "restaurant_ids  = set(food_businesses['business_id'].unique())\n",
    "\n",
    "print('Total Unique ID count:',len(restaurant_ids))"
   ]
  },
  {
   "cell_type": "code",
   "execution_count": 12,
   "metadata": {},
   "outputs": [
    {
     "data": {
      "image/png": "[encoded data removed]",
      "text/plain": [
       "<Figure size 432x288 with 1 Axes>"
      ]
     },
     "metadata": {
      "needs_background": "light"
     },
     "output_type": "display_data"
    }
   ],
   "source": [
    "categories_series = food_businesses['categories']\n",
    "\n",
    "cuisine_counts = {}\n",
    "for _, categories in categories_series.iteritems():\n",
    "    tokens = categories.split(', ')\n",
    "    for category in tokens:\n",
    "        if category == 'Restaurants'or category == 'Food':\n",
    "            do = 'nothing' \n",
    "        elif category in cuisine_counts:\n",
    "            cuisine_counts[category] += 1\n",
    "        else:\n",
    "            cuisine_counts[category] = 1\n",
    "\n",
    "sorted_cuisine_counts = {k: v for k, v in sorted(cuisine_counts.items(), key=lambda item: item[1])}\n",
    "\n",
    "top_20 = dict(list(sorted_cuisine_counts.items())[-20:]) \n",
    "\n",
    "x = list(top_20.keys())\n",
    "x.reverse()\n",
    "x = np.array(x)\n",
    "y = list(top_20.values())\n",
    "y.reverse()\n",
    "y = np.array(y)\n",
    "\n",
    "\n",
    "fig, ax = plt.subplots()\n",
    "plt.bar(x, y)\n",
    "plt.xticks(x, x, color='black', rotation=45, fontsize='8', horizontalalignment='right')\n",
    "plt.xlabel(\"Categories\", fontweight='bold', fontsize='20')\n",
    "plt.ylabel(\"Quantity Count\", fontweight='bold', fontsize='20')\n",
    "\n",
    "plt.show()"
   ]
  },
  {
   "cell_type": "code",
   "execution_count": 13,
   "metadata": {},
   "outputs": [],
   "source": [
    "# Modifying DF['categories'] to make filtering more efficient\n",
    "# def split_category(row):\n",
    "#     return row['categories'].split(',  ')\n",
    "\n",
    "# food_businesses['categories'] = food_businesses.apply(split_category, axis=1)"
   ]
  },
  {
   "cell_type": "code",
   "execution_count": 14,
   "metadata": {
    "scrolled": false
   },
   "outputs": [
    {
     "name": "stderr",
     "output_type": "stream",
     "text": [
      "/Users/leannahue/Library/Python/3.7/lib/python/site-packages/ipykernel_launcher.py:25: SettingWithCopyWarning: \n",
      "A value is trying to be set on a copy of a slice from a DataFrame.\n",
      "Try using .loc[row_indexer,col_indexer] = value instead\n",
      "\n",
      "See the caveats in the documentation: http://pandas.pydata.org/pandas-docs/stable/user_guide/indexing.html#returning-a-view-versus-a-copy\n",
      "/Users/leannahue/Library/Python/3.7/lib/python/site-packages/ipykernel_launcher.py:29: SettingWithCopyWarning: \n",
      "A value is trying to be set on a copy of a slice from a DataFrame.\n",
      "Try using .loc[row_indexer,col_indexer] = value instead\n",
      "\n",
      "See the caveats in the documentation: http://pandas.pydata.org/pandas-docs/stable/user_guide/indexing.html#returning-a-view-versus-a-copy\n",
      "/Users/leannahue/Library/Python/3.7/lib/python/site-packages/ipykernel_launcher.py:33: SettingWithCopyWarning: \n",
      "A value is trying to be set on a copy of a slice from a DataFrame.\n",
      "Try using .loc[row_indexer,col_indexer] = value instead\n",
      "\n",
      "See the caveats in the documentation: http://pandas.pydata.org/pandas-docs/stable/user_guide/indexing.html#returning-a-view-versus-a-copy\n"
     ]
    }
   ],
   "source": [
    "# CUISINES WE WILL EXPLORE:\n",
    "# Fast Food, American (Traditional), American (New), Italian, Mexican, Chinese, Japanese\n",
    "def is_fast_food(row):\n",
    "    category = row['categories']\n",
    "    if category:\n",
    "        tokens = category.split(', ')\n",
    "        return 'Fast Food' in tokens\n",
    "    return False\n",
    "\n",
    "def is_american_traditional(row):\n",
    "    category = row['categories']\n",
    "    if category:\n",
    "        tokens = category.split(', ')\n",
    "        return 'American (Traditional)' in tokens\n",
    "    return False\n",
    "\n",
    "def is_american_new(row):\n",
    "    category = row['categories']\n",
    "    if category:\n",
    "        tokens = category.split(', ')\n",
    "        return 'American (New)' in tokens\n",
    "    return False\n",
    "\n",
    "# Fast Food\n",
    "food_businesses['is_fast_food'] = food_businesses.apply(is_fast_food, axis=1)\n",
    "df_fast_food = food_businesses[food_businesses['is_fast_food'] == True]\n",
    "\n",
    "# American (Traditional)\n",
    "food_businesses['is_american_t'] = food_businesses.apply(is_american_traditional, axis=1)\n",
    "df_american_t = food_businesses[food_businesses['is_american_t'] == True]\n",
    "\n",
    "# American (New)\n",
    "food_businesses['is_american_n'] = food_businesses.apply(is_american_new, axis=1)\n",
    "df_american_n = food_businesses[food_businesses['is_american_n'] == True]"
   ]
  },
  {
   "cell_type": "code",
   "execution_count": 15,
   "metadata": {},
   "outputs": [],
   "source": [
    "# get tips for Fast Food mapped to business_id\n",
    "fast_food_ids = set(df_fast_food.business_id.unique())\n",
    "american_t_ids = set(df_american_t.business_id.unique())\n",
    "american_n_ids = set(df_american_n.business_id.unique())\n",
    "\n",
    "# group tips\n",
    "\n",
    "cuisine_tips_fast_food = df_restaurant_tips[df_restaurant_tips['business_id'].isin(fast_food_ids)]\n",
    "cuisine_tips_american_t = df_restaurant_tips[df_restaurant_tips['business_id'].isin(american_t_ids)]\n",
    "cuisine_tips_american_n = df_restaurant_tips[df_restaurant_tips['business_id'].isin(american_n_ids)]\n"
   ]
  },
  {
   "cell_type": "code",
   "execution_count": 23,
   "metadata": {},
   "outputs": [],
   "source": [
    "from vaderSentiment.vaderSentiment import SentimentIntensityAnalyzer\n",
    "\n",
    "analyser = SentimentIntensityAnalyzer()\n",
    "\n",
    "def get_sentiment(sentence):\n",
    "    dic = analyser.polarity_scores(sentence)\n",
    "    # dic -> {'neg': 0.778, 'neu': 0.222, 'pos': 0.0, 'compound': -0.5423}\n",
    "    # for some reason only allows dictionary return type\n",
    "    return dic\n",
    "\n",
    "def get_positive_sentiment(row):\n",
    "    sentence = row['text']\n",
    "    dic = get_sentiment(sentence)\n",
    "    return dic['pos'] #score is normalized between 0-1"
   ]
  },
  {
   "cell_type": "code",
   "execution_count": 24,
   "metadata": {},
   "outputs": [
    {
     "name": "stderr",
     "output_type": "stream",
     "text": [
      "/Users/leannahue/Library/Python/3.7/lib/python/site-packages/ipykernel_launcher.py:2: SettingWithCopyWarning: \n",
      "A value is trying to be set on a copy of a slice from a DataFrame.\n",
      "Try using .loc[row_indexer,col_indexer] = value instead\n",
      "\n",
      "See the caveats in the documentation: http://pandas.pydata.org/pandas-docs/stable/user_guide/indexing.html#returning-a-view-versus-a-copy\n",
      "  \n",
      "/Users/leannahue/Library/Python/3.7/lib/python/site-packages/ipykernel_launcher.py:3: SettingWithCopyWarning: \n",
      "A value is trying to be set on a copy of a slice from a DataFrame.\n",
      "Try using .loc[row_indexer,col_indexer] = value instead\n",
      "\n",
      "See the caveats in the documentation: http://pandas.pydata.org/pandas-docs/stable/user_guide/indexing.html#returning-a-view-versus-a-copy\n",
      "  This is separate from the ipykernel package so we can avoid doing imports until\n",
      "/Users/leannahue/Library/Python/3.7/lib/python/site-packages/ipykernel_launcher.py:4: SettingWithCopyWarning: \n",
      "A value is trying to be set on a copy of a slice from a DataFrame.\n",
      "Try using .loc[row_indexer,col_indexer] = value instead\n",
      "\n",
      "See the caveats in the documentation: http://pandas.pydata.org/pandas-docs/stable/user_guide/indexing.html#returning-a-view-versus-a-copy\n",
      "  after removing the cwd from sys.path.\n"
     ]
    }
   ],
   "source": [
    "# Find sentiment analysis for each tip\n",
    "cuisine_tips_fast_food['text_sentiment'] = cuisine_tips_fast_food.apply(get_positive_sentiment, axis=1)\n",
    "cuisine_tips_american_t['text_sentiment'] = cuisine_tips_american_t.apply(get_positive_sentiment, axis=1)\n",
    "cuisine_tips_american_n['text_sentiment'] = cuisine_tips_american_n.apply(get_positive_sentiment, axis=1)"
   ]
  },
  {
   "cell_type": "code",
   "execution_count": 25,
   "metadata": {},
   "outputs": [],
   "source": [
    "#seperate into meal times\n",
    "breakfast_times = set([5,6,7,8,9,10])\n",
    "lunch_times = set([11,12,13,14,15,16])\n",
    "dinner_time = set([17,18,19,20,21,22])\n",
    "\n",
    "#fast food tips\n",
    "fast_food_tips_breakfast = cuisine_tips_fast_food[cuisine_tips_fast_food['local_hour'].isin(breakfast_times)]\n",
    "fast_food_tips_lunch = cuisine_tips_fast_food[cuisine_tips_fast_food['local_hour'].isin(lunch_times)]\n",
    "fast_food_tips_dinner = cuisine_tips_fast_food[cuisine_tips_fast_food['local_hour'].isin(dinner_time)]\n",
    "\n",
    "#american traditional tips\n",
    "american_t_tips_breakfast = cuisine_tips_american_t[cuisine_tips_american_t['local_hour'].isin(breakfast_times)]\n",
    "american_t_tips_lunch = cuisine_tips_american_t[cuisine_tips_american_t['local_hour'].isin(lunch_times)]\n",
    "american_t_tips_dinner = cuisine_tips_american_t[cuisine_tips_american_t['local_hour'].isin(dinner_time)]\n",
    "\n",
    "#american new tips\n",
    "american_n_tips_breakfast = cuisine_tips_american_n[cuisine_tips_american_n['local_hour'].isin(breakfast_times)]\n",
    "american_n_tips_lunch = cuisine_tips_american_n[cuisine_tips_american_n['local_hour'].isin(lunch_times)]\n",
    "american_n_tips_dinner = cuisine_tips_american_n[cuisine_tips_american_n['local_hour'].isin(dinner_time)]\n"
   ]
  },
  {
   "cell_type": "code",
   "execution_count": 33,
   "metadata": {},
   "outputs": [
    {
     "name": "stdout",
     "output_type": "stream",
     "text": [
      "Index(['user_id', 'business_id', 'text', 'date', 'compliment_count',\n",
      "       'local_hour', 'text_sentiment'],\n",
      "      dtype='object')\n"
     ]
    }
   ],
   "source": [
    "# print(df_restaurant_tips)"
   ]
  },
  {
   "cell_type": "code",
   "execution_count": 59,
   "metadata": {},
   "outputs": [],
   "source": [
    "def find_avg_tip_sentiment(row, df_tips):\n",
    "    business_id = row['business_id']\n",
    "    tips_with_this_business = df_tips[df_tips['business_id'] == business_id]\n",
    "    return tips_with_this_business['text_sentiment'].mean()"
   ]
  },
  {
   "cell_type": "code",
   "execution_count": 62,
   "metadata": {},
   "outputs": [],
   "source": [
    "# Find average sentiment for each business separated by meal times\n",
    "\n",
    "# Fast food businesses\n",
    "fast_food_businesses_breakfast_sentiment = pd.DataFrame({'business_id': list(fast_food_tips_breakfast['business_id'].unique())})\n",
    "fast_food_businesses_breakfast_sentiment['avg_tip_sentiment'] = \\\n",
    "    fast_food_businesses_breakfast_sentiment.apply(lambda row: find_avg_tip_sentiment(row, fast_food_tips_breakfast), axis=1)\n",
    "\n",
    "fast_food_businesses_lunch_sentiment = pd.DataFrame({'business_id': list(fast_food_tips_lunch['business_id'].unique())})\n",
    "fast_food_businesses_lunch_sentiment['avg_tip_sentiment'] = \\\n",
    "    fast_food_businesses_lunch_sentiment.apply(lambda row: find_avg_tip_sentiment(row, fast_food_tips_lunch), axis=1)\n",
    "\n",
    "fast_food_businesses_dinner_sentiment = pd.DataFrame({'business_id': list(fast_food_tips_dinner['business_id'].unique())})\n",
    "fast_food_businesses_dinner_sentiment['avg_tip_sentiment'] = \\\n",
    "    fast_food_businesses_dinner_sentiment.apply(lambda row: find_avg_tip_sentiment(row, fast_food_tips_dinner), axis=1)\n",
    "\n",
    "# American traditional businesses\n",
    "american_t_businesses_breakfast_sentiment = pd.DataFrame({'business_id': list(american_t_tips_breakfast['business_id'].unique())})\n",
    "american_t_businesses_breakfast_sentiment['avg_tip_sentiment'] = \\\n",
    "    american_t_businesses_breakfast_sentiment.apply(lambda row: find_avg_tip_sentiment(row, american_t_tips_breakfast), axis=1)\n",
    "\n",
    "american_t_businesses_lunch_sentiment = pd.DataFrame({'business_id': list(american_t_tips_lunch['business_id'].unique())})\n",
    "american_t_businesses_lunch_sentiment['avg_tip_sentiment'] = \\\n",
    "    american_t_businesses_lunch_sentiment.apply(lambda row: find_avg_tip_sentiment(row, american_t_tips_lunch), axis=1)\n",
    "\n",
    "american_t_businesses_dinner_sentiment = pd.DataFrame({'business_id': list(american_t_tips_dinner['business_id'].unique())})\n",
    "american_t_businesses_dinner_sentiment['avg_tip_sentiment'] = \\\n",
    "    american_t_businesses_dinner_sentiment.apply(lambda row: find_avg_tip_sentiment(row, american_t_tips_dinner), axis=1)\n",
    "\n",
    "# American new businesses\n",
    "american_n_businesses_breakfast_sentiment = pd.DataFrame({'business_id': list(american_n_tips_breakfast['business_id'].unique())})\n",
    "american_n_businesses_breakfast_sentiment['avg_tip_sentiment'] = \\\n",
    "    american_n_businesses_breakfast_sentiment.apply(lambda row: find_avg_tip_sentiment(row, american_n_tips_breakfast), axis=1)\n",
    "\n",
    "american_n_businesses_lunch_sentiment = pd.DataFrame({'business_id': list(american_n_tips_lunch['business_id'].unique())})\n",
    "american_n_businesses_lunch_sentiment['avg_tip_sentiment'] = \\\n",
    "    american_n_businesses_lunch_sentiment.apply(lambda row: find_avg_tip_sentiment(row, american_n_tips_lunch), axis=1)\n",
    "\n",
    "american_n_businesses_dinner_sentiment = pd.DataFrame({'business_id': list(american_n_tips_dinner['business_id'].unique())})\n",
    "american_n_businesses_dinner_sentiment['avg_tip_sentiment'] = \\\n",
    "    american_n_businesses_dinner_sentiment.apply(lambda row: find_avg_tip_sentiment(row, american_n_tips_dinner), axis=1)\n"
   ]
  },
  {
   "cell_type": "code",
   "execution_count": 29,
   "metadata": {},
   "outputs": [
    {
     "name": "stdout",
     "output_type": "stream",
     "text": [
      "Fast Food Average Sentiment\n",
      "Breakfast 0.2213416063426405\n",
      "Lunch 0.2443311774930272\n",
      "Dinner 0.23666857515244616 \n",
      "\n",
      "American(Traditional) Average Sentiment\n",
      "Breakfast 0.2885007468259895\n",
      "Lunch 0.2877473850913377\n",
      "Dinner 0.2789951294708015 \n",
      "\n",
      "American (New) Average Sentiment\n",
      "Breakfast 0.28987180729563233\n",
      "Lunch 0.29474464157522307\n",
      "Dinner 0.2924089559172432\n"
     ]
    }
   ],
   "source": [
    "# Find average sentiment for each meal time and cuisine\n",
    "\n",
    "#fast food tips\n",
    "fast_food_breakfast_avg_sentiment = fast_food_tips_breakfast['text_sentiment'].mean()\n",
    "fast_food_lunch_avg_sentiment = fast_food_tips_lunch['text_sentiment'].mean()\n",
    "fast_food_dinner_avg_sentiment = fast_food_tips_dinner['text_sentiment'].mean()\n",
    "print('Fast Food Average Sentiment')\n",
    "print('Breakfast', fast_food_breakfast_avg_sentiment)\n",
    "print('Lunch', fast_food_lunch_avg_sentiment)\n",
    "print('Dinner', fast_food_dinner_avg_sentiment, '\\n')\n",
    "\n",
    "#american traditional tips\n",
    "american_t_breakfast_avg_sentiment = american_t_tips_breakfast['text_sentiment'].mean()\n",
    "american_t_lunch_avg_sentiment = american_t_tips_lunch['text_sentiment'].mean()\n",
    "american_t_dinner_avg_sentiment = american_t_tips_dinner['text_sentiment'].mean()\n",
    "print('American(Traditional) Average Sentiment')\n",
    "print('Breakfast', american_t_breakfast_avg_sentiment)\n",
    "print('Lunch', american_t_lunch_avg_sentiment)\n",
    "print('Dinner', american_t_dinner_avg_sentiment, '\\n')\n",
    "\n",
    "#american new tips\n",
    "american_n_breakfast_avg_sentiment = american_n_tips_breakfast['text_sentiment'].mean()\n",
    "american_n_lunch_avg_sentiment = american_n_tips_lunch['text_sentiment'].mean()\n",
    "american_n_dinner_avg_sentiment = american_n_tips_dinner['text_sentiment'].mean()\n",
    "print('American (New) Average Sentiment')\n",
    "print('Breakfast', american_n_breakfast_avg_sentiment)\n",
    "print('Lunch', american_n_lunch_avg_sentiment)\n",
    "print('Dinner', american_n_dinner_avg_sentiment)\n"
   ]
  },
  {
   "cell_type": "code",
   "execution_count": null,
   "metadata": {},
   "outputs": [],
   "source": []
  }
 ],
 "metadata": {
  "kernelspec": {
   "display_name": "Python 3",
   "language": "python",
   "name": "python3"
  },
  "language_info": {
   "codemirror_mode": {
    "name": "ipython",
    "version": 3
   },
   "file_extension": ".py",
   "mimetype": "text/x-python",
   "name": "python",
   "nbconvert_exporter": "python",
   "pygments_lexer": "ipython3",
   "version": "3.7.3"
  }
 },
 "nbformat": 4,
 "nbformat_minor": 2
}
