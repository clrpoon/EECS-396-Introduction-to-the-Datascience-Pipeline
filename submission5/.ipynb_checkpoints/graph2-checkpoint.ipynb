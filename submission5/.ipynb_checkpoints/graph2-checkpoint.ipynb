{
 "cells": [
  {
   "cell_type": "code",
   "execution_count": 1,
   "metadata": {},
   "outputs": [],
   "source": [
    "import matplotlib.pyplot as plt\n",
    "import pandas as pd\n",
    "import json\n",
    "import numpy as np\n",
    "import plotly.graph_objects as go\n",
    "import plotly"
   ]
  },
  {
   "cell_type": "code",
   "execution_count": 2,
   "metadata": {},
   "outputs": [],
   "source": [
    "# load business.json\n",
    "filepath = '../../yelp_dataset'\n",
    "\n",
    "business = []\n",
    "for l in open(filepath+\"/business.json\", encoding=\"utf8\").readlines():\n",
    "    business.append(json.loads(l))\n",
    "df_business = pd.DataFrame.from_records(business)"
   ]
  },
  {
   "cell_type": "code",
   "execution_count": 3,
   "metadata": {},
   "outputs": [],
   "source": [
    "# load data from previous preprocessing/EDA\n",
    "filepath = '../submission3/'\n",
    "\n",
    "df_restaurant_tips = pd.read_json(filepath+\"restaurant_tips.json\", encoding=\"utf8\")"
   ]
  },
  {
   "cell_type": "code",
   "execution_count": 4,
   "metadata": {},
   "outputs": [],
   "source": [
    "# Filter businesses that are only in the 'Restaurant' category\n",
    "def check_for_rest(row):\n",
    "    category = row['categories']\n",
    "    if category:\n",
    "        tokens = category.split(', ')\n",
    "        return 'Restaurants' in tokens\n",
    "    return False\n",
    "\n",
    "df_business['is_restaurant'] = df_business.apply(check_for_rest, axis=1)\n",
    "\n",
    "food_businesses = df_business[df_business['is_restaurant'] == True]"
   ]
  },
  {
   "cell_type": "code",
   "execution_count": 5,
   "metadata": {},
   "outputs": [
    {
     "name": "stderr",
     "output_type": "stream",
     "text": [
      "/Users/leannahue/Library/Python/3.7/lib/python/site-packages/ipykernel_launcher.py:25: SettingWithCopyWarning: \n",
      "A value is trying to be set on a copy of a slice from a DataFrame.\n",
      "Try using .loc[row_indexer,col_indexer] = value instead\n",
      "\n",
      "See the caveats in the documentation: http://pandas.pydata.org/pandas-docs/stable/user_guide/indexing.html#returning-a-view-versus-a-copy\n",
      "/Users/leannahue/Library/Python/3.7/lib/python/site-packages/ipykernel_launcher.py:29: SettingWithCopyWarning: \n",
      "A value is trying to be set on a copy of a slice from a DataFrame.\n",
      "Try using .loc[row_indexer,col_indexer] = value instead\n",
      "\n",
      "See the caveats in the documentation: http://pandas.pydata.org/pandas-docs/stable/user_guide/indexing.html#returning-a-view-versus-a-copy\n",
      "/Users/leannahue/Library/Python/3.7/lib/python/site-packages/ipykernel_launcher.py:33: SettingWithCopyWarning: \n",
      "A value is trying to be set on a copy of a slice from a DataFrame.\n",
      "Try using .loc[row_indexer,col_indexer] = value instead\n",
      "\n",
      "See the caveats in the documentation: http://pandas.pydata.org/pandas-docs/stable/user_guide/indexing.html#returning-a-view-versus-a-copy\n"
     ]
    }
   ],
   "source": [
    "# CUISINES WE WILL EXPLORE:\n",
    "# Fast Food, American (Traditional), American (New)\n",
    "def is_fast_food(row):\n",
    "    category = row['categories']\n",
    "    if category:\n",
    "        tokens = category.split(', ')\n",
    "        return 'Fast Food' in tokens\n",
    "    return False\n",
    "\n",
    "def is_american_traditional(row):\n",
    "    category = row['categories']\n",
    "    if category:\n",
    "        tokens = category.split(', ')\n",
    "        return 'American (Traditional)' in tokens\n",
    "    return False\n",
    "\n",
    "def is_american_new(row):\n",
    "    category = row['categories']\n",
    "    if category:\n",
    "        tokens = category.split(', ')\n",
    "        return 'American (New)' in tokens\n",
    "    return False\n",
    "\n",
    "# Fast Food\n",
    "food_businesses['is_fast_food'] = food_businesses.apply(is_fast_food, axis=1)\n",
    "df_fast_food = food_businesses[food_businesses['is_fast_food'] == True]\n",
    "\n",
    "# American (Traditional)\n",
    "food_businesses['is_american_t'] = food_businesses.apply(is_american_traditional, axis=1)\n",
    "df_american_t = food_businesses[food_businesses['is_american_t'] == True]\n",
    "\n",
    "# American (New)\n",
    "food_businesses['is_american_n'] = food_businesses.apply(is_american_new, axis=1)\n",
    "df_american_n = food_businesses[food_businesses['is_american_n'] == True]"
   ]
  },
  {
   "cell_type": "code",
   "execution_count": 6,
   "metadata": {},
   "outputs": [],
   "source": [
    "# get tips for Fast Food mapped to business_id\n",
    "fast_food_ids = set(df_fast_food.business_id.unique())\n",
    "american_t_ids = set(df_american_t.business_id.unique())\n",
    "american_n_ids = set(df_american_n.business_id.unique())\n",
    "\n",
    "# group tips\n",
    "\n",
    "cuisine_tips_fast_food = df_restaurant_tips[df_restaurant_tips['business_id'].isin(fast_food_ids)]\n",
    "cuisine_tips_american_t = df_restaurant_tips[df_restaurant_tips['business_id'].isin(american_t_ids)]\n",
    "cuisine_tips_american_n = df_restaurant_tips[df_restaurant_tips['business_id'].isin(american_n_ids)]\n"
   ]
  },
  {
   "cell_type": "code",
   "execution_count": 7,
   "metadata": {},
   "outputs": [],
   "source": [
    "from vaderSentiment.vaderSentiment import SentimentIntensityAnalyzer\n",
    "\n",
    "analyser = SentimentIntensityAnalyzer()\n",
    "\n",
    "def get_sentiment(sentence):\n",
    "    dic = analyser.polarity_scores(sentence)\n",
    "    # dic -> {'neg': 0.778, 'neu': 0.222, 'pos': 0.0, 'compound': -0.5423}\n",
    "    # for some reason only allows dictionary return type\n",
    "    return dic\n",
    "\n",
    "def get_positive_sentiment(row):\n",
    "    sentence = row['text']\n",
    "    dic = get_sentiment(sentence)\n",
    "    return dic['compound'] #score is normalized between 0-1"
   ]
  },
  {
   "cell_type": "code",
   "execution_count": 8,
   "metadata": {},
   "outputs": [
    {
     "name": "stderr",
     "output_type": "stream",
     "text": [
      "/Users/leannahue/Library/Python/3.7/lib/python/site-packages/ipykernel_launcher.py:1: SettingWithCopyWarning: \n",
      "A value is trying to be set on a copy of a slice from a DataFrame.\n",
      "Try using .loc[row_indexer,col_indexer] = value instead\n",
      "\n",
      "See the caveats in the documentation: http://pandas.pydata.org/pandas-docs/stable/user_guide/indexing.html#returning-a-view-versus-a-copy\n",
      "  \"\"\"Entry point for launching an IPython kernel.\n",
      "/Users/leannahue/Library/Python/3.7/lib/python/site-packages/ipykernel_launcher.py:2: SettingWithCopyWarning: \n",
      "A value is trying to be set on a copy of a slice from a DataFrame.\n",
      "Try using .loc[row_indexer,col_indexer] = value instead\n",
      "\n",
      "See the caveats in the documentation: http://pandas.pydata.org/pandas-docs/stable/user_guide/indexing.html#returning-a-view-versus-a-copy\n",
      "  \n",
      "/Users/leannahue/Library/Python/3.7/lib/python/site-packages/ipykernel_launcher.py:3: SettingWithCopyWarning: \n",
      "A value is trying to be set on a copy of a slice from a DataFrame.\n",
      "Try using .loc[row_indexer,col_indexer] = value instead\n",
      "\n",
      "See the caveats in the documentation: http://pandas.pydata.org/pandas-docs/stable/user_guide/indexing.html#returning-a-view-versus-a-copy\n",
      "  This is separate from the ipykernel package so we can avoid doing imports until\n"
     ]
    }
   ],
   "source": [
    "cuisine_tips_fast_food['text_sentiment'] = cuisine_tips_fast_food.apply(get_positive_sentiment, axis=1)\n",
    "cuisine_tips_american_t['text_sentiment'] = cuisine_tips_american_t.apply(get_positive_sentiment, axis=1)\n",
    "cuisine_tips_american_n['text_sentiment'] = cuisine_tips_american_n.apply(get_positive_sentiment, axis=1)"
   ]
  },
  {
   "cell_type": "code",
   "execution_count": 9,
   "metadata": {},
   "outputs": [],
   "source": [
    "# Meal times\n",
    "breakfast_times = set([5,6,7,8,9,10])\n",
    "lunch_times = set([11,12,13,14,15,16])\n",
    "dinner_time = set([17,18,19,20,21,22])"
   ]
  },
  {
   "cell_type": "code",
   "execution_count": 10,
   "metadata": {},
   "outputs": [],
   "source": [
    "# Breakfast tips\n",
    "fast_food_tips_breakfast = cuisine_tips_fast_food[cuisine_tips_fast_food['local_hour'].isin(breakfast_times)]\n",
    "american_t_tips_breakfast = cuisine_tips_american_t[cuisine_tips_american_t['local_hour'].isin(breakfast_times)]\n",
    "american_n_tips_breakfast = cuisine_tips_american_n[cuisine_tips_american_n['local_hour'].isin(breakfast_times)]"
   ]
  },
  {
   "cell_type": "code",
   "execution_count": 11,
   "metadata": {},
   "outputs": [],
   "source": [
    "# Lunch tips\n",
    "fast_food_tips_lunch = cuisine_tips_fast_food[cuisine_tips_fast_food['local_hour'].isin(lunch_times)]\n",
    "american_t_tips_lunch = cuisine_tips_american_t[cuisine_tips_american_t['local_hour'].isin(lunch_times)]\n",
    "american_n_tips_lunch = cuisine_tips_american_n[cuisine_tips_american_n['local_hour'].isin(lunch_times)]"
   ]
  },
  {
   "cell_type": "code",
   "execution_count": 12,
   "metadata": {},
   "outputs": [],
   "source": [
    "# Dinner tips\n",
    "fast_food_tips_dinner = cuisine_tips_fast_food[cuisine_tips_fast_food['local_hour'].isin(dinner_time)]\n",
    "american_t_tips_dinner = cuisine_tips_american_t[cuisine_tips_american_t['local_hour'].isin(dinner_time)]\n",
    "american_n_tips_dinner = cuisine_tips_american_n[cuisine_tips_american_n['local_hour'].isin(dinner_time)]"
   ]
  },
  {
   "cell_type": "code",
   "execution_count": 13,
   "metadata": {},
   "outputs": [],
   "source": [
    "def find_avg_tip_sentiment(row, df_tips):\n",
    "    business_id = row['business_id']\n",
    "    tips_with_this_business = df_tips[df_tips['business_id'] == business_id]\n",
    "    return tips_with_this_business['text_sentiment'].mean()"
   ]
  },
  {
   "cell_type": "code",
   "execution_count": 14,
   "metadata": {},
   "outputs": [],
   "source": [
    "# Romantic, Intimate, Hipster, Classy\n",
    "all_attire = []\n",
    "def get_features(row):\n",
    "    try:\n",
    "        attributes = list(row['attributes'])[0]\n",
    "\n",
    "        ambience = attributes['Ambience'].replace(\"\\'\", \"\\\"\").lower()\n",
    "        ambience = json.loads(ambience)\n",
    "        features = {}\n",
    "\n",
    "#         features['romantic'] = bool_to_bit(ambience['romantic'])\n",
    "#         features['hipster'] = bool_to_bit(ambience['hipster'])\n",
    "        features['classy'] = bool_to_bit(ambience['classy'])\n",
    "        features['casual'] = bool_to_bit(ambience['casual'])\n",
    "        features['price_range'] = int(attributes['RestaurantsPriceRange2'])\n",
    "\n",
    "        attire = attributes['RestaurantsAttire']\n",
    "        \n",
    "        if 'None' in features.values() or attire == 'None':\n",
    "            return None\n",
    "        \n",
    "        global all_attire\n",
    "        if attire not in all_attire:\n",
    "            all_attire.append(attire)\n",
    "            print(attire)\n",
    "        \n",
    "        attire = attire if attire[0] != 'u' else attire[1:]\n",
    "        attire = attire[1:-1]\n",
    "        features['attire'] = 1 if attire == 'dressy' else (0 if attire == 'casual' else 2)\n",
    "\n",
    "        return features\n",
    "    \n",
    "    except:\n",
    "        return None\n",
    "\n",
    "def bool_to_bit(x):\n",
    "    return int(x == True)"
   ]
  },
  {
   "cell_type": "code",
   "execution_count": 15,
   "metadata": {},
   "outputs": [],
   "source": [
    "# Add features to data frames\n",
    "def add_features_to_df(meal_df, meal_business_ids, cuisine_df):\n",
    "    nan_value = float(\"NaN\")\n",
    "#     meal_df['Romantic'] = nan_value\n",
    "#     meal_df['Hipster'] = nan_value\n",
    "    meal_df['Classy'] = nan_value\n",
    "    meal_df['Casual'] = nan_value\n",
    "    meal_df['PriceRange'] = nan_value\n",
    "    meal_df['Attire'] = nan_value\n",
    "    for ID in meal_business_ids:\n",
    "        row = cuisine_df.loc[cuisine_df['business_id'] == ID]\n",
    "        features = get_features(row)\n",
    "        meal_df.loc[meal_df['business_id'] == ID, 'stars'] = list(row['stars'])[0]\n",
    "        if features != None:\n",
    "#             meal_df.loc[meal_df['business_id'] == ID, 'Romantic'] = features['romantic']\n",
    "#             meal_df.loc[meal_df['business_id'] == ID, 'Hipster'] = features['hipster']\n",
    "            meal_df.loc[meal_df['business_id'] == ID, 'Classy'] = features['classy']\n",
    "            meal_df.loc[meal_df['business_id'] == ID, 'Casual'] = features['casual']\n",
    "            meal_df.loc[meal_df['business_id'] == ID, 'PriceRange'] = features['price_range']\n",
    "            meal_df.loc[meal_df['business_id'] == ID, 'Attire'] = features['attire']"
   ]
  },
  {
   "cell_type": "code",
   "execution_count": 16,
   "metadata": {},
   "outputs": [],
   "source": [
    "# GET FEATURE FOR DIFFERENT CUISINES\n",
    "cuisine_fast_food_ids = cuisine_tips_fast_food['business_id'].unique()\n",
    "cuisine_american_t_ids = cuisine_tips_american_t['business_id'].unique()\n",
    "cuisine_american_n_ids = cuisine_tips_american_n['business_id'].unique()\n",
    "\n",
    "fast_food_businesses = pd.DataFrame({'business_id': cuisine_fast_food_ids})\n",
    "fast_food_businesses['avg_tip_sentiment'] = \\\n",
    "    fast_food_businesses.apply(lambda row: find_avg_tip_sentiment(row, cuisine_tips_fast_food), axis=1)\n",
    "\n",
    "american_t_businesses = pd.DataFrame({'business_id': cuisine_fast_food_ids})\n",
    "american_t_businesses['avg_tip_sentiment'] = \\\n",
    "    american_t_businesses.apply(lambda row: find_avg_tip_sentiment(row, cuisine_tips_american_t), axis=1)\n",
    "\n",
    "american_n_businesses = pd.DataFrame({'business_id': cuisine_fast_food_ids})\n",
    "american_n_businesses['avg_tip_sentiment'] = \\\n",
    "    american_n_businesses.apply(lambda row: find_avg_tip_sentiment(row, cuisine_tips_american_n), axis=1)"
   ]
  },
  {
   "cell_type": "code",
   "execution_count": 17,
   "metadata": {},
   "outputs": [
    {
     "name": "stdout",
     "output_type": "stream",
     "text": [
      "u'casual'\n",
      "'casual'\n",
      "'dressy'\n",
      "'formal'\n",
      "u'dressy'\n",
      "u'formal'\n"
     ]
    }
   ],
   "source": [
    "add_features_to_df(fast_food_businesses, cuisine_fast_food_ids, df_fast_food)"
   ]
  },
  {
   "cell_type": "code",
   "execution_count": 18,
   "metadata": {},
   "outputs": [],
   "source": [
    "add_features_to_df(american_t_businesses, cuisine_american_t_ids, df_american_t)"
   ]
  },
  {
   "cell_type": "code",
   "execution_count": 19,
   "metadata": {},
   "outputs": [],
   "source": [
    "add_features_to_df(american_n_businesses, cuisine_american_n_ids, df_american_n)"
   ]
  },
  {
   "cell_type": "code",
   "execution_count": 20,
   "metadata": {},
   "outputs": [],
   "source": [
    "fast_food_businesses = fast_food_businesses.dropna()\n",
    "american_t_businesses = american_t_businesses.dropna()\n",
    "american_n_businesses = american_n_businesses.dropna()"
   ]
  },
  {
   "cell_type": "code",
   "execution_count": 22,
   "metadata": {},
   "outputs": [],
   "source": [
    "fast_food_businesses_feature_matrix = fast_food_businesses[['avg_tip_sentiment', \\\n",
    "    'Classy', 'Casual', 'PriceRange', 'Attire', 'stars']]\n",
    "target = np.full(len(fast_food_businesses_feature_matrix), 'FastFood')\n",
    "# target = np.full(400, 'FastFood')\n",
    "weights = np.ones(len(fast_food_businesses_feature_matrix))\n",
    "fast_food_businesses_feature_matrix = fast_food_businesses_feature_matrix.to_numpy()\n",
    "fast_food_businesses_feature_matrix = fast_food_businesses_feature_matrix\n",
    "\n",
    "american_t_businesses_feature_matrix = american_t_businesses[['avg_tip_sentiment', \\\n",
    "    'Classy', 'Casual', 'PriceRange', 'Attire', 'stars']]\n",
    "target = np.append(target, np.full(len(american_t_businesses_feature_matrix), 'AmericanTraditional'))\n",
    "american_t_businesses_feature_matrix = american_t_businesses_feature_matrix.to_numpy()\n",
    "weights = np.append(weights, np.full(len(american_t_businesses_feature_matrix), 9))\n",
    "\n",
    "american_n_businesses_feature_matrix = american_n_businesses[['avg_tip_sentiment', \\\n",
    "    'Classy', 'Casual', 'PriceRange', 'Attire', 'stars']]\n",
    "target = np.append(target, np.full(len(american_n_businesses_feature_matrix), 'AmericanNew'))\n",
    "american_n_businesses_feature_matrix = american_n_businesses_feature_matrix.to_numpy()\n",
    "weights = np.append(weights, np.full(len(american_n_businesses_feature_matrix), 13))"
   ]
  },
  {
   "cell_type": "code",
   "execution_count": 40,
   "metadata": {},
   "outputs": [],
   "source": [
    "# Get probabilities of each target for each business (set of features)\n",
    "from sklearn.naive_bayes import CategoricalNB\n",
    "data = fast_food_businesses_feature_matrix\n",
    "data = np.append(data, american_t_businesses_feature_matrix, axis=0)\n",
    "data = np.append(data, american_n_businesses_feature_matrix, axis=0)\n",
    "\n",
    "clf = CategoricalNB()\n",
    "clf.fit(data, target, sample_weight=weights)\n",
    "\n",
    "target_classes = clf.classes_\n",
    "fast_food_business_target_prob = clf.predict_proba(fast_food_businesses_feature_matrix)\n",
    "american_t_business_target_prob = clf.predict_proba(american_t_businesses_feature_matrix)\n",
    "american_n_business_target_prob = clf.predict_proba(american_n_businesses_feature_matrix)"
   ]
  },
  {
   "cell_type": "code",
   "execution_count": 46,
   "metadata": {},
   "outputs": [
    {
     "ename": "NameError",
     "evalue": "name 'plotly' is not defined",
     "output_type": "error",
     "traceback": [
      "\u001b[0;31m---------------------------------------------------------------------------\u001b[0m",
      "\u001b[0;31mNameError\u001b[0m                                 Traceback (most recent call last)",
      "\u001b[0;32m<ipython-input-46-bed451d7adcf>\u001b[0m in \u001b[0;36m<module>\u001b[0;34m\u001b[0m\n\u001b[1;32m     52\u001b[0m })\n\u001b[1;32m     53\u001b[0m \u001b[0;34m\u001b[0m\u001b[0m\n\u001b[0;32m---> 54\u001b[0;31m \u001b[0mplotly\u001b[0m\u001b[0;34m.\u001b[0m\u001b[0moffline\u001b[0m\u001b[0;34m.\u001b[0m\u001b[0mplot\u001b[0m\u001b[0;34m(\u001b[0m\u001b[0mfig\u001b[0m\u001b[0;34m)\u001b[0m\u001b[0;34m\u001b[0m\u001b[0;34m\u001b[0m\u001b[0m\n\u001b[0m",
      "\u001b[0;31mNameError\u001b[0m: name 'plotly' is not defined"
     ]
    }
   ],
   "source": [
    "# Create ternary plot\n",
    "fast_food_business_target_data = list(map(lambda feature_array: {target_classes[0]: feature_array[0], \\\n",
    "    target_classes[1]: feature_array[1], target_classes[2]: feature_array[2]}, fast_food_business_target_prob))\n",
    "american_t_business_target_data = list(map(lambda feature_array: {target_classes[0]: feature_array[0], \\\n",
    "    target_classes[1]: feature_array[1], target_classes[2]: feature_array[2]}, american_t_business_target_prob))\n",
    "american_n_business_target_data = list(map(lambda feature_array: {target_classes[0]: feature_array[0], \\\n",
    "    target_classes[1]: feature_array[1], target_classes[2]: feature_array[2]}, american_n_business_target_prob))\n",
    "\n",
    "rawData = fast_food_business_target_data\n",
    "rawData.extend(american_t_business_target_data)\n",
    "rawData.extend(american_n_business_target_data)\n",
    "\n",
    "def makeAxis(title, tickangle):\n",
    "    return {\n",
    "      'title': title,\n",
    "      'titlefont': { 'size': 20 },\n",
    "      'tickangle': tickangle,\n",
    "      'tickfont': { 'size': 15 },\n",
    "      'tickcolor': 'rgba(0,0,0,0)',\n",
    "      'ticklen': 5,\n",
    "      'showline': True,\n",
    "      'showgrid': True\n",
    "    }\n",
    "\n",
    "fig = go.Figure(go.Scatterternary({\n",
    "    'mode': 'markers',\n",
    "    'a': [i for i in map(lambda x: x[target_classes[0]], rawData)],\n",
    "    'b': [i for i in map(lambda x: x[target_classes[1]], rawData)],\n",
    "    'c': [i for i in map(lambda x: x[target_classes[2]], rawData)],\n",
    "    'marker': {\n",
    "        'symbol': 100,\n",
    "        'color': '#fb8072',\n",
    "        'size': 14,\n",
    "        'line': { 'width': 2 }\n",
    "    }\n",
    "}))\n",
    "\n",
    "fig.update_layout({\n",
    "    'ternary': {\n",
    "        'sum': 100,\n",
    "        'aaxis': makeAxis(target_classes[0], 0),\n",
    "        'baxis': makeAxis(target_classes[1], 45),\n",
    "        'caxis': makeAxis(target_classes[2], -45)\n",
    "    },\n",
    "    'annotations': [{\n",
    "      'showarrow': False,\n",
    "      'text': 'Simple Ternary Plot with Markers',\n",
    "        'x': 0.5,\n",
    "        'y': 1.3,\n",
    "        'font': { 'size': 15 }\n",
    "    }]\n",
    "})\n",
    "\n",
    "plotly.offline.plot(fig)"
   ]
  },
  {
   "cell_type": "code",
   "execution_count": null,
   "metadata": {},
   "outputs": [],
   "source": []
  }
 ],
 "metadata": {
  "kernelspec": {
   "display_name": "Python 3",
   "language": "python",
   "name": "python3"
  },
  "language_info": {
   "codemirror_mode": {
    "name": "ipython",
    "version": 3
   },
   "file_extension": ".py",
   "mimetype": "text/x-python",
   "name": "python",
   "nbconvert_exporter": "python",
   "pygments_lexer": "ipython3",
   "version": "3.7.3"
  }
 },
 "nbformat": 4,
 "nbformat_minor": 4
}
