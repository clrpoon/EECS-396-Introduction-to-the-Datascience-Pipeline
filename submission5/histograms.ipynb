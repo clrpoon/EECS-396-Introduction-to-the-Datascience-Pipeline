{
 "cells": [
  {
   "cell_type": "code",
   "execution_count": 22,
   "metadata": {},
   "outputs": [],
   "source": [
    "import matplotlib.pyplot as plt\n",
    "import pandas as pd\n",
    "import json\n",
    "import numpy as np\n",
    "import plotly"
   ]
  },
  {
   "cell_type": "code",
   "execution_count": 2,
   "metadata": {},
   "outputs": [],
   "source": [
    "# load business.json\n",
    "filepath = '../../yelp_dataset'\n",
    "\n",
    "business = []\n",
    "for l in open(filepath+\"/business.json\", encoding=\"utf8\").readlines():\n",
    "    business.append(json.loads(l))\n",
    "df_business = pd.DataFrame.from_records(business)\n"
   ]
  },
  {
   "cell_type": "code",
   "execution_count": 3,
   "metadata": {},
   "outputs": [],
   "source": [
    "# load data from previous preprocessing/EDA\n",
    "filepath = '../submission3/'\n",
    "\n",
    "df_restaurant_tips = pd.read_json(filepath+\"restaurant_tips.json\", encoding=\"utf8\")"
   ]
  },
  {
   "cell_type": "code",
   "execution_count": 4,
   "metadata": {},
   "outputs": [],
   "source": [
    "# Filter businesses that are only in the 'Restaurant' category\n",
    "def check_for_rest(row):\n",
    "    category = row['categories']\n",
    "    if category:\n",
    "        tokens = category.split(', ')\n",
    "        return 'Restaurants' in tokens\n",
    "    return False\n",
    "\n",
    "df_business['is_restaurant'] = df_business.apply(check_for_rest, axis=1)\n",
    "\n",
    "food_businesses = df_business[df_business['is_restaurant'] == True]"
   ]
  },
  {
   "cell_type": "code",
   "execution_count": 5,
   "metadata": {},
   "outputs": [
    {
     "name": "stderr",
     "output_type": "stream",
     "text": [
      "/Users/leannahue/Library/Python/3.7/lib/python/site-packages/ipykernel_launcher.py:25: SettingWithCopyWarning:\n",
      "\n",
      "\n",
      "A value is trying to be set on a copy of a slice from a DataFrame.\n",
      "Try using .loc[row_indexer,col_indexer] = value instead\n",
      "\n",
      "See the caveats in the documentation: http://pandas.pydata.org/pandas-docs/stable/user_guide/indexing.html#returning-a-view-versus-a-copy\n",
      "\n",
      "/Users/leannahue/Library/Python/3.7/lib/python/site-packages/ipykernel_launcher.py:29: SettingWithCopyWarning:\n",
      "\n",
      "\n",
      "A value is trying to be set on a copy of a slice from a DataFrame.\n",
      "Try using .loc[row_indexer,col_indexer] = value instead\n",
      "\n",
      "See the caveats in the documentation: http://pandas.pydata.org/pandas-docs/stable/user_guide/indexing.html#returning-a-view-versus-a-copy\n",
      "\n",
      "/Users/leannahue/Library/Python/3.7/lib/python/site-packages/ipykernel_launcher.py:33: SettingWithCopyWarning:\n",
      "\n",
      "\n",
      "A value is trying to be set on a copy of a slice from a DataFrame.\n",
      "Try using .loc[row_indexer,col_indexer] = value instead\n",
      "\n",
      "See the caveats in the documentation: http://pandas.pydata.org/pandas-docs/stable/user_guide/indexing.html#returning-a-view-versus-a-copy\n",
      "\n"
     ]
    }
   ],
   "source": [
    "# CUISINES WE WILL EXPLORE:\n",
    "# Fast Food, American (Traditional), American (New)\n",
    "def is_fast_food(row):\n",
    "    category = row['categories']\n",
    "    if category:\n",
    "        tokens = category.split(', ')\n",
    "        return 'Fast Food' in tokens\n",
    "    return False\n",
    "\n",
    "def is_american_traditional(row):\n",
    "    category = row['categories']\n",
    "    if category:\n",
    "        tokens = category.split(', ')\n",
    "        return 'American (Traditional)' in tokens\n",
    "    return False\n",
    "\n",
    "def is_american_new(row):\n",
    "    category = row['categories']\n",
    "    if category:\n",
    "        tokens = category.split(', ')\n",
    "        return 'American (New)' in tokens\n",
    "    return False\n",
    "\n",
    "# Fast Food\n",
    "food_businesses['is_fast_food'] = food_businesses.apply(is_fast_food, axis=1)\n",
    "df_fast_food = food_businesses[food_businesses['is_fast_food'] == True]\n",
    "\n",
    "# American (Traditional)\n",
    "food_businesses['is_american_t'] = food_businesses.apply(is_american_traditional, axis=1)\n",
    "df_american_t = food_businesses[food_businesses['is_american_t'] == True]\n",
    "\n",
    "# American (New)\n",
    "food_businesses['is_american_n'] = food_businesses.apply(is_american_new, axis=1)\n",
    "df_american_n = food_businesses[food_businesses['is_american_n'] == True]"
   ]
  },
  {
   "cell_type": "code",
   "execution_count": 6,
   "metadata": {},
   "outputs": [],
   "source": [
    "# get tips for Fast Food mapped to business_id\n",
    "fast_food_ids = set(df_fast_food.business_id.unique())\n",
    "american_t_ids = set(df_american_t.business_id.unique())\n",
    "american_n_ids = set(df_american_n.business_id.unique())\n",
    "\n",
    "# group tips\n",
    "\n",
    "cuisine_tips_fast_food = df_restaurant_tips[df_restaurant_tips['business_id'].isin(fast_food_ids)]\n",
    "cuisine_tips_american_t = df_restaurant_tips[df_restaurant_tips['business_id'].isin(american_t_ids)]\n",
    "cuisine_tips_american_n = df_restaurant_tips[df_restaurant_tips['business_id'].isin(american_n_ids)]\n"
   ]
  },
  {
   "cell_type": "code",
   "execution_count": 7,
   "metadata": {},
   "outputs": [],
   "source": [
    "from vaderSentiment.vaderSentiment import SentimentIntensityAnalyzer\n",
    "\n",
    "analyser = SentimentIntensityAnalyzer()\n",
    "\n",
    "def get_sentiment(sentence):\n",
    "    dic = analyser.polarity_scores(sentence)\n",
    "    # dic -> {'neg': 0.778, 'neu': 0.222, 'pos': 0.0, 'compound': -0.5423}\n",
    "    # for some reason only allows dictionary return type\n",
    "    return dic\n",
    "\n",
    "def get_positive_sentiment(row):\n",
    "    sentence = row['text']\n",
    "    dic = get_sentiment(sentence)\n",
    "    return dic['compound'] #score is normalized between 0-1"
   ]
  },
  {
   "cell_type": "code",
   "execution_count": 8,
   "metadata": {},
   "outputs": [
    {
     "name": "stderr",
     "output_type": "stream",
     "text": [
      "/Users/leannahue/Library/Python/3.7/lib/python/site-packages/ipykernel_launcher.py:1: SettingWithCopyWarning:\n",
      "\n",
      "\n",
      "A value is trying to be set on a copy of a slice from a DataFrame.\n",
      "Try using .loc[row_indexer,col_indexer] = value instead\n",
      "\n",
      "See the caveats in the documentation: http://pandas.pydata.org/pandas-docs/stable/user_guide/indexing.html#returning-a-view-versus-a-copy\n",
      "\n",
      "/Users/leannahue/Library/Python/3.7/lib/python/site-packages/ipykernel_launcher.py:2: SettingWithCopyWarning:\n",
      "\n",
      "\n",
      "A value is trying to be set on a copy of a slice from a DataFrame.\n",
      "Try using .loc[row_indexer,col_indexer] = value instead\n",
      "\n",
      "See the caveats in the documentation: http://pandas.pydata.org/pandas-docs/stable/user_guide/indexing.html#returning-a-view-versus-a-copy\n",
      "\n",
      "/Users/leannahue/Library/Python/3.7/lib/python/site-packages/ipykernel_launcher.py:3: SettingWithCopyWarning:\n",
      "\n",
      "\n",
      "A value is trying to be set on a copy of a slice from a DataFrame.\n",
      "Try using .loc[row_indexer,col_indexer] = value instead\n",
      "\n",
      "See the caveats in the documentation: http://pandas.pydata.org/pandas-docs/stable/user_guide/indexing.html#returning-a-view-versus-a-copy\n",
      "\n"
     ]
    }
   ],
   "source": [
    "cuisine_tips_fast_food['text_sentiment'] = cuisine_tips_fast_food.apply(get_positive_sentiment, axis=1)\n",
    "cuisine_tips_american_t['text_sentiment'] = cuisine_tips_american_t.apply(get_positive_sentiment, axis=1)\n",
    "cuisine_tips_american_n['text_sentiment'] = cuisine_tips_american_n.apply(get_positive_sentiment, axis=1)"
   ]
  },
  {
   "cell_type": "code",
   "execution_count": 9,
   "metadata": {},
   "outputs": [],
   "source": [
    "# Meal times\n",
    "breakfast_times = set([5,6,7,8,9,10])\n",
    "lunch_times = set([11,12,13,14,15,16])\n",
    "dinner_time = set([17,18,19,20,21,22])"
   ]
  },
  {
   "cell_type": "code",
   "execution_count": 10,
   "metadata": {},
   "outputs": [],
   "source": [
    "# Breakfast tips\n",
    "fast_food_tips_breakfast = cuisine_tips_fast_food[cuisine_tips_fast_food['local_hour'].isin(breakfast_times)]\n",
    "american_t_tips_breakfast = cuisine_tips_american_t[cuisine_tips_american_t['local_hour'].isin(breakfast_times)]\n",
    "american_n_tips_breakfast = cuisine_tips_american_n[cuisine_tips_american_n['local_hour'].isin(breakfast_times)]"
   ]
  },
  {
   "cell_type": "code",
   "execution_count": 11,
   "metadata": {},
   "outputs": [],
   "source": [
    "# Lunch tips\n",
    "fast_food_tips_lunch = cuisine_tips_fast_food[cuisine_tips_fast_food['local_hour'].isin(lunch_times)]\n",
    "american_t_tips_lunch = cuisine_tips_american_t[cuisine_tips_american_t['local_hour'].isin(lunch_times)]\n",
    "american_n_tips_lunch = cuisine_tips_american_n[cuisine_tips_american_n['local_hour'].isin(lunch_times)]"
   ]
  },
  {
   "cell_type": "code",
   "execution_count": 12,
   "metadata": {},
   "outputs": [],
   "source": [
    "# Dinner tips\n",
    "fast_food_tips_dinner = cuisine_tips_fast_food[cuisine_tips_fast_food['local_hour'].isin(dinner_time)]\n",
    "american_t_tips_dinner = cuisine_tips_american_t[cuisine_tips_american_t['local_hour'].isin(dinner_time)]\n",
    "american_n_tips_dinner = cuisine_tips_american_n[cuisine_tips_american_n['local_hour'].isin(dinner_time)]"
   ]
  },
  {
   "cell_type": "code",
   "execution_count": 13,
   "metadata": {},
   "outputs": [],
   "source": [
    "def find_avg_tip_sentiment(row, df_tips):\n",
    "    business_id = row['business_id']\n",
    "    tips_with_this_business = df_tips[df_tips['business_id'] == business_id]\n",
    "    return tips_with_this_business['text_sentiment'].mean()"
   ]
  },
  {
   "cell_type": "code",
   "execution_count": 14,
   "metadata": {},
   "outputs": [],
   "source": [
    "# Breakfast sentiments\n",
    "fast_food_businesses_breakfast = pd.DataFrame({'business_id': list(fast_food_tips_breakfast['business_id'].unique())})\n",
    "fast_food_businesses_breakfast['avg_tip_sentiment'] = \\\n",
    "    fast_food_businesses_breakfast.apply(lambda row: find_avg_tip_sentiment(row, fast_food_tips_breakfast), axis=1)\n",
    "\n",
    "american_t_businesses_breakfast = pd.DataFrame({'business_id': list(american_t_tips_breakfast['business_id'].unique())})\n",
    "american_t_businesses_breakfast['avg_tip_sentiment'] = \\\n",
    "    american_t_businesses_breakfast.apply(lambda row: find_avg_tip_sentiment(row, american_t_tips_breakfast), axis=1)\n",
    "\n",
    "american_n_businesses_breakfast = pd.DataFrame({'business_id': list(american_n_tips_breakfast['business_id'].unique())})\n",
    "american_n_businesses_breakfast['avg_tip_sentiment'] = \\\n",
    "    american_n_businesses_breakfast.apply(lambda row: find_avg_tip_sentiment(row, american_n_tips_breakfast), axis=1)"
   ]
  },
  {
   "cell_type": "code",
   "execution_count": 15,
   "metadata": {},
   "outputs": [],
   "source": [
    "# Lunch sentiments\n",
    "fast_food_businesses_lunch = pd.DataFrame({'business_id': list(fast_food_tips_lunch['business_id'].unique())})\n",
    "fast_food_businesses_lunch['avg_tip_sentiment'] = \\\n",
    "    fast_food_businesses_lunch.apply(lambda row: find_avg_tip_sentiment(row, fast_food_tips_lunch), axis=1)\n",
    "\n",
    "american_t_businesses_lunch = pd.DataFrame({'business_id': list(american_t_tips_lunch['business_id'].unique())})\n",
    "american_t_businesses_lunch['avg_tip_sentiment'] = \\\n",
    "    american_t_businesses_lunch.apply(lambda row: find_avg_tip_sentiment(row, american_t_tips_lunch), axis=1)\n",
    "\n",
    "american_n_businesses_lunch = pd.DataFrame({'business_id': list(american_n_tips_lunch['business_id'].unique())})\n",
    "american_n_businesses_lunch['avg_tip_sentiment'] = \\\n",
    "    american_n_businesses_lunch.apply(lambda row: find_avg_tip_sentiment(row, american_n_tips_lunch), axis=1)"
   ]
  },
  {
   "cell_type": "code",
   "execution_count": 16,
   "metadata": {},
   "outputs": [],
   "source": [
    "# Dinner sentiments\n",
    "fast_food_businesses_dinner = pd.DataFrame({'business_id': list(fast_food_tips_dinner['business_id'].unique())})\n",
    "fast_food_businesses_dinner['avg_tip_sentiment'] = \\\n",
    "    fast_food_businesses_dinner.apply(lambda row: find_avg_tip_sentiment(row, fast_food_tips_dinner), axis=1)\n",
    "\n",
    "american_t_businesses_dinner = pd.DataFrame({'business_id': list(american_t_tips_dinner['business_id'].unique())})\n",
    "american_t_businesses_dinner['avg_tip_sentiment'] = \\\n",
    "    american_t_businesses_dinner.apply(lambda row: find_avg_tip_sentiment(row, american_t_tips_dinner), axis=1)\n",
    "\n",
    "american_n_businesses_dinner = pd.DataFrame({'business_id': list(american_n_tips_dinner['business_id'].unique())})\n",
    "american_n_businesses_dinner['avg_tip_sentiment'] = \\\n",
    "    american_n_businesses_dinner.apply(lambda row: find_avg_tip_sentiment(row, american_n_tips_dinner), axis=1)"
   ]
  },
  {
   "cell_type": "code",
   "execution_count": 23,
   "metadata": {},
   "outputs": [
    {
     "data": {
      "text/plain": [
       "'temp-plot.html'"
      ]
     },
     "execution_count": 23,
     "metadata": {},
     "output_type": "execute_result"
    }
   ],
   "source": [
    "import plotly.graph_objects as go\n",
    "\n",
    "fig = go.Figure()\n",
    "fig.add_trace(go.Histogram(\n",
    "    x=list(fast_food_businesses_breakfast['avg_tip_sentiment']),\n",
    "    histnorm='percent',\n",
    "    name='Fast Food', # name used in legend and hover labels\n",
    "    xbins=dict( # bins used for histogram\n",
    "        start=-1.0,\n",
    "        end=1.0,\n",
    "        size=0.1\n",
    "    ),\n",
    "    marker_color='#8dd3c7'\n",
    "))\n",
    "fig.add_trace(go.Histogram(\n",
    "    x=list(american_t_businesses_breakfast['avg_tip_sentiment']),\n",
    "    histnorm='percent',\n",
    "    name='American (Traditional)',\n",
    "    xbins=dict(\n",
    "        start=-1.0,\n",
    "        end=1.0,\n",
    "        size=0.1\n",
    "    ),\n",
    "    marker_color='#bebada'\n",
    "))\n",
    "fig.add_trace(go.Histogram(\n",
    "    x=list(american_n_businesses_breakfast['avg_tip_sentiment']),\n",
    "    histnorm='percent',\n",
    "    name='American (New)',\n",
    "    xbins=dict(\n",
    "        start=-1.0,\n",
    "        end=1.0,\n",
    "        size=0.1\n",
    "    ),\n",
    "    marker_color='#fb8072'\n",
    "))\n",
    "\n",
    "fig.update_layout(\n",
    "    title_text='Distribution of Average Sentiment for Businesses (Breakfast)', # title of plot\n",
    "    xaxis_title_text='Average Tip Sentiment', # xaxis label\n",
    "    yaxis_title_text='Percentage of Occurrences', # yaxis label\n",
    "    bargap=0.2, # gap between bars of adjacent location coordinates\n",
    "    bargroupgap=0.1 # gap between bars of the same location coordinates\n",
    ")\n",
    "\n",
    "plotly.offline.plot(fig)"
   ]
  },
  {
   "cell_type": "code",
   "execution_count": 24,
   "metadata": {},
   "outputs": [
    {
     "data": {
      "text/plain": [
       "'temp-plot.html'"
      ]
     },
     "execution_count": 24,
     "metadata": {},
     "output_type": "execute_result"
    }
   ],
   "source": [
    "import plotly.graph_objects as go\n",
    "\n",
    "fig = go.Figure()\n",
    "fig.add_trace(go.Histogram(\n",
    "    x=list(fast_food_businesses_lunch['avg_tip_sentiment']),\n",
    "    histnorm='percent',\n",
    "    name='Fast Food', # name used in legend and hover labels\n",
    "    xbins=dict( # bins used for histogram\n",
    "        start=-1.0,\n",
    "        end=1.0,\n",
    "        size=0.1\n",
    "    ),\n",
    "    marker_color='#8dd3c7'\n",
    "))\n",
    "fig.add_trace(go.Histogram(\n",
    "    x=list(american_t_businesses_lunch['avg_tip_sentiment']),\n",
    "    histnorm='percent',\n",
    "    name='American (Traditional)',\n",
    "    xbins=dict(\n",
    "        start=-1.0,\n",
    "        end=1.0,\n",
    "        size=0.1\n",
    "    ),\n",
    "    marker_color='#bebada'\n",
    "))\n",
    "fig.add_trace(go.Histogram(\n",
    "    x=list(american_n_businesses_lunch['avg_tip_sentiment']),\n",
    "    histnorm='percent',\n",
    "    name='American (New)',\n",
    "    xbins=dict(\n",
    "        start=-1.0,\n",
    "        end=1.0,\n",
    "        size=0.1\n",
    "    ),\n",
    "    marker_color='#fb8072'\n",
    "))\n",
    "\n",
    "fig.update_layout(\n",
    "    title_text='Distribution of Average Sentiment for Businesses (Lunch)', # title of plot\n",
    "    xaxis_title_text='Average Tip Sentiment', # xaxis label\n",
    "    yaxis_title_text='Percentage of Occurrences', # yaxis label\n",
    "    bargap=0.2, # gap between bars of adjacent location coordinates\n",
    "    bargroupgap=0.1 # gap between bars of the same location coordinates\n",
    ")\n",
    "\n",
    "plotly.offline.plot(fig)"
   ]
  },
  {
   "cell_type": "code",
   "execution_count": 25,
   "metadata": {},
   "outputs": [
    {
     "data": {
      "text/plain": [
       "'temp-plot.html'"
      ]
     },
     "execution_count": 25,
     "metadata": {},
     "output_type": "execute_result"
    }
   ],
   "source": [
    "import plotly.graph_objects as go\n",
    "\n",
    "fig = go.Figure()\n",
    "fig.add_trace(go.Histogram(\n",
    "    x=list(fast_food_businesses_dinner['avg_tip_sentiment']),\n",
    "    histnorm='percent',\n",
    "    name='Fast Food', # name used in legend and hover labels\n",
    "    xbins=dict( # bins used for histogram\n",
    "        start=-1.0,\n",
    "        end=1.0,\n",
    "        size=0.1\n",
    "    ),\n",
    "    marker_color='#8dd3c7'\n",
    "))\n",
    "fig.add_trace(go.Histogram(\n",
    "    x=list(american_t_businesses_dinner['avg_tip_sentiment']),\n",
    "    histnorm='percent',\n",
    "    name='American (Traditional)',\n",
    "    xbins=dict(\n",
    "        start=-1.0,\n",
    "        end=1.0,\n",
    "        size=0.1\n",
    "    ),\n",
    "    marker_color='#bebada'\n",
    "))\n",
    "fig.add_trace(go.Histogram(\n",
    "    x=list(american_n_businesses_dinner['avg_tip_sentiment']),\n",
    "    histnorm='percent',\n",
    "    name='American (New)',\n",
    "    xbins=dict(\n",
    "        start=-1.0,\n",
    "        end=1.0,\n",
    "        size=0.1\n",
    "    ),\n",
    "    marker_color='#fb8072'\n",
    "))\n",
    "\n",
    "fig.update_layout(\n",
    "    title_text='Distribution of Average Sentiment for Businesses (Dinner)', # title of plot\n",
    "    xaxis_title_text='Average Tip Sentiment', # xaxis label\n",
    "    yaxis_title_text='Percentage of Occurrences', # yaxis label\n",
    "    bargap=0.2, # gap between bars of adjacent location coordinates\n",
    "    bargroupgap=0.1 # gap between bars of the same location coordinates\n",
    ")\n",
    "\n",
    "plotly.offline.plot(fig)"
   ]
  },
  {
   "cell_type": "code",
   "execution_count": null,
   "metadata": {},
   "outputs": [],
   "source": []
  }
 ],
 "metadata": {
  "kernelspec": {
   "display_name": "Python 3",
   "language": "python",
   "name": "python3"
  },
  "language_info": {
   "codemirror_mode": {
    "name": "ipython",
    "version": 3
   },
   "file_extension": ".py",
   "mimetype": "text/x-python",
   "name": "python",
   "nbconvert_exporter": "python",
   "pygments_lexer": "ipython3",
   "version": "3.7.3"
  }
 },
 "nbformat": 4,
 "nbformat_minor": 4
}
