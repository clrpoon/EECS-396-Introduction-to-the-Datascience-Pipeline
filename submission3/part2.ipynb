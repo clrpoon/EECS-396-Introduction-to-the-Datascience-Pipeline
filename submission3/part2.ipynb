{
 "cells": [
  {
   "cell_type": "markdown",
   "metadata": {},
   "source": [
    "## 1. Data of Interests"
   ]
  },
  {
   "cell_type": "markdown",
   "metadata": {},
   "source": [
    "### In the proposal, most projects only focus on a subset of data. Please state the subset of data to explore again here."
   ]
  },
  {
   "cell_type": "markdown",
   "metadata": {},
   "source": [
    "The goal of our project is to explore the relationship between food cuisines (Italian, French, Mexican, Chinese, etc) and consumer ratings relative to the time of day. In order to do this, we will use yelp's dataset. Our subset of will contain all the restaurants on yelp with the tag 'resturant' as a category in 'business.json' and the corresponding reviews associated with them in 'tip.json'"
   ]
  },
  {
   "cell_type": "markdown",
   "metadata": {},
   "source": [
    "## 2. Data Preprocessing"
   ]
  },
  {
   "cell_type": "markdown",
   "metadata": {},
   "source": [
    "### Describe what preprocessing is done. This includes details of cleaning and reorganization."
   ]
  },
  {
   "cell_type": "markdown",
   "metadata": {},
   "source": [
    "For preprocessing, we first extracted all the businesses from business.json to filter for restaurants. Initially, the tags were all embedded in a string, so we were able to clean the dataset by parsing each category list and converted them into a list of category by delminating the string. We did some prelimary analysis to seach for the most common categories in the dataset and concluded the most common but still relevant category were 'restaurants'. The tag for 'food' contained entries such as grocery stores, and thus was ommited. From there we collected all the entries with those tags and gathered their 'business_id', and retrieved all the coresponding reviews from 'tip.json' "
   ]
  },
  {
   "cell_type": "code",
   "execution_count": 1,
   "metadata": {},
   "outputs": [],
   "source": [
    "# load dataset\n",
    "import json\n",
    "import pandas as pd\n",
    "import matplotlib.pyplot as plt\n",
    "import numpy as np\n",
    "\n",
    "filepath = '../../yelp_dataset'\n",
    "\n",
    "business = []\n",
    "for l in open(filepath+\"/business.json\", encoding=\"utf8\").readlines():\n",
    "    business.append(json.loads(l))\n",
    "df_business = pd.DataFrame.from_records(business)\n",
    "\n",
    "tips = []\n",
    "for l in open(filepath+\"/tip.json\", encoding=\"utf8\").readlines():\n",
    "    tips.append(json.loads(l))\n",
    "df_tip = pd.DataFrame.from_records(tips) "
   ]
  },
  {
   "cell_type": "code",
   "execution_count": 2,
   "metadata": {},
   "outputs": [],
   "source": [
    "# Find business categories\n",
    "categories = {}\n",
    "for _, row in df_business.iterrows():\n",
    "    if row.categories:\n",
    "        row_categories = row.categories.split(', ')\n",
    "        for category in row_categories:\n",
    "            if category not in categories:\n",
    "                categories[category] = 1\n",
    "            else:\n",
    "                categories[category] += 1\n",
    "categories = {k: v for k, v in sorted(categories.items(), key=lambda item: item[1])}\n"
   ]
  },
  {
   "cell_type": "code",
   "execution_count": 3,
   "metadata": {},
   "outputs": [
    {
     "data": {
      "image/png": "[encoded data removed]",
      "text/plain": [
       "<Figure size 432x288 with 1 Axes>"
      ]
     },
     "metadata": {
      "needs_background": "light"
     },
     "output_type": "display_data"
    }
   ],
   "source": [
    "# Top 10 categories\n",
    "top_10 = dict(list(categories.items())[-10:]) \n",
    "\n",
    "x = list(top_10.keys())\n",
    "x.reverse()\n",
    "x = np.array(x)\n",
    "y = list(top_10.values())\n",
    "y.reverse()\n",
    "y = np.array(y)\n",
    "\n",
    "\n",
    "fig, ax = plt.subplots()\n",
    "plt.bar(x, y)\n",
    "plt.xticks(x, x, color='black', rotation=45, fontsize='8', horizontalalignment='right')\n",
    "plt.xlabel(\"Categories\", fontweight='bold', fontsize='20')\n",
    "plt.ylabel(\"Quantity Count\", fontweight='bold', fontsize='20')\n",
    "\n",
    "plt.show()"
   ]
  },
  {
   "cell_type": "code",
   "execution_count": 39,
   "metadata": {},
   "outputs": [],
   "source": [
    "# OLD VERSION THAT INCLUDED FOOD\n",
    "\n",
    "# Filter businesses that are only in the 'Food' or 'Restaurant' category\n",
    "def check_for_rest_or_food(row):\n",
    "    category = row['categories']\n",
    "    if category:\n",
    "        tokens = category.split(', ')\n",
    "        return 'Food' in tokens or 'Restaurants' in tokens\n",
    "    return False\n",
    "\n",
    "# df_business['is_restaurant_or_food'] = df_business.apply(check_for_rest_or_food, axis=1)\n",
    "\n",
    "# food_businesses = df_business[df_business['is_restaurant_or_food'] == True]"
   ]
  },
  {
   "cell_type": "code",
   "execution_count": 9,
   "metadata": {},
   "outputs": [
    {
     "name": "stdout",
     "output_type": "stream",
     "text": [
      "Total Unique ID count: 59371\n"
     ]
    }
   ],
   "source": [
    "# Filter businesses that are only in the 'Food' or 'Restaurant' category\n",
    "def check_for_rest(row):\n",
    "    category = row['categories']\n",
    "    if category:\n",
    "        tokens = category.split(', ')\n",
    "        return 'Restaurants' in tokens\n",
    "    return False\n",
    "\n",
    "df_business['is_restaurant'] = df_business.apply(check_for_rest, axis=1)\n",
    "\n",
    "food_businesses = df_business[df_business['is_restaurant'] == True]\n",
    "\n",
    "# Get the unique IDs for all the businesses that are resturaunts\n",
    "restaurant_ids  = set(food_businesses['business_id'].unique())\n",
    "\n",
    "print('Total Unique ID count:',len(restaurant_ids))"
   ]
  },
  {
   "cell_type": "code",
   "execution_count": 8,
   "metadata": {},
   "outputs": [
    {
     "name": "stdout",
     "output_type": "stream",
     "text": [
      "Total Number of Tips With Resturaunt tag: 810342\n"
     ]
    }
   ],
   "source": [
    "# Get count of total number of reviews per business\n",
    "df_rest_tip = df_tip[df_tip['business_id'].isin(restaurant_ids)]\n",
    "\n",
    "print('Total Number of Tips With Resturaunt tag:', len(df_rest_tip))"
   ]
  },
  {
   "cell_type": "markdown",
   "metadata": {},
   "source": [
    "## 3. EDA"
   ]
  },
  {
   "cell_type": "markdown",
   "metadata": {},
   "source": [
    "### Describe in detail what EDA and Statistical Testing are performed. You should perform at least three meaningful plots/testings. Please also summarize the insights from EDA."
   ]
  },
  {
   "cell_type": "markdown",
   "metadata": {},
   "source": [
    "#### Quick Aside About Project Scope"
   ]
  },
  {
   "cell_type": "markdown",
   "metadata": {},
   "source": [
    "Initially, our goal of our project was to identify \"Which cuisines are most positively received in certain region (West, Midwest, Northeast, and South) of the continental United States?” The subset of data that we initially exploredwas  the yelp dataset in business.json for entries in the continental United States only. (All US states except Alaska and Hawaii, not including Washington D.C.). The states will be divided up by region National Geographic's guideline for United States regions (https://www.nationalgeographic.org/maps/united-states-regions/). \n",
    "\n",
    "After examining the distributions of reviews for each region, we noticed that the data set was heavily skewed; some states such as Utah only had 1 review while others such as Arizona had 56000+. Because of this we had to modify our goal and scope of our original project to it's current goal.\n",
    "\n",
    "Fortunately, due to EDA we were able to identify this issue and pivot the scope of our project right away"
   ]
  },
  {
   "cell_type": "code",
   "execution_count": 91,
   "metadata": {
    "scrolled": false
   },
   "outputs": [
    {
     "name": "stdout",
     "output_type": "stream",
     "text": [
      "AZ    56686\n",
      "NV    36312\n",
      "NC    14720\n",
      "OH    14697\n",
      "PA    11216\n",
      "WI     5154\n",
      "IL     1932\n",
      "SC     1162\n",
      "NY       22\n",
      "CA       19\n",
      "TX        6\n",
      "FL        4\n",
      "WA        3\n",
      "CT        3\n",
      "AL        3\n",
      "GA        2\n",
      "VT        2\n",
      "NE        2\n",
      "VA        2\n",
      "AR        1\n",
      "NJ        1\n",
      "TN        1\n",
      "NM        1\n",
      "UT        1\n",
      "Name: state, dtype: int64\n"
     ]
    },
    {
     "data": {
      "image/png": "[encoded data removed]",
      "text/plain": [
       "<Figure size 432x288 with 1 Axes>"
      ]
     },
     "metadata": {
      "needs_background": "light"
     },
     "output_type": "display_data"
    }
   ],
   "source": [
    "# load dataset\n",
    "import json\n",
    "import pandas as pd\n",
    "\n",
    "filepath = '../../yelp_dataset'\n",
    "\n",
    "business = []\n",
    "for l in open(filepath+\"/business.json\", encoding=\"utf8\").readlines():\n",
    "    business.append(json.loads(l))\n",
    "df_business = pd.DataFrame.from_records(business)\n",
    "\n",
    "# cleaning data for inconsistent state names\n",
    "\n",
    "west = ['WA', 'OR', 'ID', 'MT', 'WY', 'CA', 'NV', 'UT', 'CO']\n",
    "southwest = ['AZ', 'NM', 'OK', 'TX']\n",
    "midwest = ['ND', 'SD', 'KS', 'MO', 'NE', 'IA', 'MN', 'WI', 'IL', 'MI', 'IN', 'OH']\n",
    "northeast = ['ME', 'NH', 'VT', 'NY', 'RI', 'CT', 'MA', 'PA', 'NJ']\n",
    "southeast = ['WV', 'MD', 'DE', 'VA', 'KY', 'NC', 'TN', 'SC', 'GA', 'AL', 'MS', 'AR', 'LA', 'FL']\n",
    "states = west + southwest + midwest + northeast + southeast\n",
    "\n",
    "states_mappings = {\n",
    "    'WASHINGTON': 'WA', \n",
    "    'OREGON': 'OR', \n",
    "    'IDAHO': 'ID',\n",
    "    'MONTANA': 'MT', \n",
    "    'WYOMING': 'WY', \n",
    "    'CALIFORNIA': 'CA', \n",
    "    'NEVADA': 'NV', 'UTAH': 'UT', \n",
    "    'COLORADO': 'CO',\n",
    "    'ARIZONA': 'AZ', \n",
    "    'NEW MEXICO': 'NM', \n",
    "    'OKLAHOMA': 'OK', \n",
    "    'TEXAS': 'TX',\n",
    "    'NORTH DAKOTA' : 'ND',\n",
    "    'SOUTH DAKOTA' : 'SD',\n",
    "    'KANSAS' : 'KS',\n",
    "    'MONTANA' : 'MO',\n",
    "    'NEBRASKA' : 'NE',\n",
    "    'IOWA' : 'IA',\n",
    "    'MINNESOTA' : 'MN',\n",
    "    'WISCONSIN' : 'WI',\n",
    "    'ILLINOIS' : 'IL',\n",
    "    'MICHIGAN' : 'MI',\n",
    "    'INDIANA' : 'IN',\n",
    "    'OHIO' : 'OH',\n",
    "    'MAINE' : 'ME',\n",
    "    'NEW HAMPSHIRE' : 'NH',\n",
    "    'VERMONT' : 'VT',\n",
    "    'NEW YORK' : 'NY',\n",
    "    'RHODE ISLAND' : 'RI',\n",
    "    'CONNECTICUT' : 'CT',\n",
    "    'MASSACHUSETTS' : 'MA',\n",
    "    'PENNSYLVANIA' : 'PA',\n",
    "    'NEW JERSEY' : 'NJ',\n",
    "    'WEST VIRGINA' : 'WV',\n",
    "    'MARYLAND' : 'MD',\n",
    "    'DELAWARE' : 'DE',\n",
    "    'VIRGINIA' : 'VA',\n",
    "    'KENTUCKY' : 'KY',\n",
    "    'NORTH CAROLINA' : 'NC',\n",
    "    'TENNESSEE' : 'TN',\n",
    "    'SOUTH CAROLINA' : 'SC',\n",
    "    'GEORGIA' : 'GA',\n",
    "    'ALABAMA' : 'AL',\n",
    "    'MISSOURI' : 'MS', \n",
    "    'ARKANSAS' : 'AR', \n",
    "    'LOUISIANA' : 'LA', \n",
    "    'FLORIDA' : 'FL'\n",
    "}\n",
    "\n",
    "def convert_to_upper_abr(state):\n",
    "    state = state.upper()\n",
    "    if state in states_mappings:\n",
    "        return states_mappings[state]\n",
    "    return state\n",
    "\n",
    "# convert all state entries to upper case and fix inconsistencies with states fully spelled our vs abb\n",
    "for _, row in df_business.iterrows():\n",
    "    row.state = convert_to_upper_abr(row.state)\n",
    "    \n",
    "# filter dataset by region\n",
    "df_us_states = df_business.loc[df_business['state'].isin(states)]\n",
    "print(df_us_states['state'].value_counts())\n",
    "west_businesses = df_business.loc[df_business['state'].isin(west)]\n",
    "south_businesses = df_business.loc[df_business['state'].isin(southwest)]\n",
    "midwest_businesses = df_business.loc[df_business['state'].isin(midwest)]\n",
    "northeast_businesses = df_business.loc[df_business['state'].isin(northeast)]\n",
    "southeast_businesses = df_business.loc[df_business['state'].isin(southeast)]\n",
    "\n",
    "# print('Total West:',len(west_businesses))\n",
    "# print('Total South:',len(south_businesses))\n",
    "# print('Total Midwest:',len(midwest_businesses))\n",
    "# print('Total Northeast:',len(northeast_businesses))\n",
    "# print('Total Southeast:',len(southeast_businesses))\n",
    "import matplotlib.pyplot as plt \n",
    "\n",
    "plt.boxplot([west_businesses.stars, south_businesses.stars, midwest_businesses.stars, northeast_businesses.stars, southeast_businesses.stars])\n",
    "plt.xticks([1, 2, 3, 4, 5], ['West', 'South', 'Midwest', 'Northeast', 'Southeast'])\n",
    "plt.show()"
   ]
  },
  {
   "cell_type": "markdown",
   "metadata": {},
   "source": [
    "From examining the boxplots and state review counts, even though the distributions of businesses are relatively similar, some of the datasets are too small to conduct meaningful analysis"
   ]
  },
  {
   "cell_type": "markdown",
   "metadata": {},
   "source": [
    "#### Current Project's EDA"
   ]
  },
  {
   "cell_type": "markdown",
   "metadata": {},
   "source": [
    "The second EDA test we performed was plotting a histogram showing the distribution of review count against timestamps for reviews in tip based on businesses with the restaurant tag "
   ]
  },
  {
   "cell_type": "code",
   "execution_count": 10,
   "metadata": {},
   "outputs": [],
   "source": [
    "# Get tips and time of day reviewed]\n",
    "def extract_time(row):\n",
    "    date_time_list = row.split()\n",
    "    time_list = date_time_list[-1].split(':')\n",
    "    return int(time_list[-3])\n",
    "\n",
    "tip_times = df_rest_tip.date.apply(extract_time)"
   ]
  },
  {
   "cell_type": "code",
   "execution_count": 11,
   "metadata": {
    "scrolled": true
   },
   "outputs": [
    {
     "data": {
      "text/plain": [
       "<matplotlib.axes._subplots.AxesSubplot at 0x23f9942c5c0>"
      ]
     },
     "execution_count": 11,
     "metadata": {},
     "output_type": "execute_result"
    },
    {
     "data": {
      "image/png": "[encoded data removed]",
      "text/plain": [
       "<Figure size 432x288 with 1 Axes>"
      ]
     },
     "metadata": {
      "needs_background": "light"
     },
     "output_type": "display_data"
    }
   ],
   "source": [
    "tip_times.plot.hist(bins=24)"
   ]
  },
  {
   "cell_type": "markdown",
   "metadata": {},
   "source": []
  },
  {
   "cell_type": "markdown",
   "metadata": {},
   "source": [
    "The third EDA test we performed was to check the how the tip counts per unique business_id are distrubuted via a PDF"
   ]
  },
  {
   "cell_type": "code",
   "execution_count": 83,
   "metadata": {},
   "outputs": [
    {
     "data": {
      "image/png": "[encoded data removed]",
      "text/plain": [
       "<Figure size 432x288 with 1 Axes>"
      ]
     },
     "metadata": {
      "needs_background": "light"
     },
     "output_type": "display_data"
    }
   ],
   "source": [
    "import matplotlib.pyplot as plt\n",
    "\n",
    "tips_count = df_rest_tip['business_id'].value_counts()\n",
    "tips_count = tips_count.value_counts()\n",
    "\n",
    "x = np.array(tips_count.index.values)\n",
    "y = np.array(tips_count.tolist())\n",
    "total = np.sum(y)\n",
    "y = np.true_divide(y, total)\n",
    "\n",
    "plt.plot(x, y)\n",
    "plt.xlabel('Review Count')\n",
    "plt.ylabel('Percentage')\n",
    "plt.title('Review Count PDF')\n",
    "plt.show()"
   ]
  },
  {
   "cell_type": "markdown",
   "metadata": {},
   "source": [
    "After visual inspection, the distribution seems to follow the Power Law. Now we will prove if this the distribution follows the Power Law or not"
   ]
  },
  {
   "cell_type": "code",
   "execution_count": 92,
   "metadata": {},
   "outputs": [
    {
     "data": {
      "image/png": "[encoded data removed]",
      "text/plain": [
       "<Figure size 432x288 with 1 Axes>"
      ]
     },
     "metadata": {
      "needs_background": "light"
     },
     "output_type": "display_data"
    }
   ],
   "source": [
    "plt.loglog(x,y)\n",
    "plt.xlabel('Review Count Log Scale')\n",
    "plt.ylabel('Percentage Log Scale')\n",
    "plt.title('Review Count PDF Log Scale')\n",
    "plt.show()"
   ]
  },
  {
   "cell_type": "markdown",
   "metadata": {},
   "source": [
    "The relationship still seems relatively linear, but there is noise towards the end. We will now clean up the graph via binning"
   ]
  },
  {
   "cell_type": "code",
   "execution_count": 95,
   "metadata": {},
   "outputs": [
    {
     "data": {
      "text/plain": [
       "Text(0.5, 1.0, 'Review Count PDF Bins=190')"
      ]
     },
     "execution_count": 95,
     "metadata": {},
     "output_type": "execute_result"
    },
    {
     "data": {
      "image/png": "[encoded data removed]",
      "text/plain": [
       "<Figure size 432x288 with 1 Axes>"
      ]
     },
     "metadata": {
      "needs_background": "light"
     },
     "output_type": "display_data"
    }
   ],
   "source": [
    "counts, bins = np.histogram(y, bins = 190)\n",
    "\n",
    "x_min_index = 2\n",
    "\n",
    "\n",
    "bins=bins[x_min_index:]\n",
    "counts = counts[x_min_index-1:]\n",
    "\n",
    "plt.plot(bins,counts)\n",
    "plt.xlabel('Review Count')\n",
    "plt.ylabel('Percentage')\n",
    "plt.title('Review Count PDF Bins=190')"
   ]
  },
  {
   "cell_type": "code",
   "execution_count": 97,
   "metadata": {},
   "outputs": [
    {
     "data": {
      "image/png": "[encoded data removed]",
      "text/plain": [
       "<Figure size 432x288 with 1 Axes>"
      ]
     },
     "metadata": {
      "needs_background": "light"
     },
     "output_type": "display_data"
    }
   ],
   "source": [
    "plt.plot(bins, counts)\n",
    "plt.loglog(bins, counts, 'x')\n",
    "plt.xlabel('Review Count Log Scale')\n",
    "plt.ylabel('Percentage Log Scale')\n",
    "plt.title('Review Count PDF Log Scale Bins=190')\n",
    "plt.show()"
   ]
  },
  {
   "cell_type": "code",
   "execution_count": 98,
   "metadata": {},
   "outputs": [
    {
     "data": {
      "text/plain": [
       "[<matplotlib.lines.Line2D at 0x2402962eeb8>]"
      ]
     },
     "execution_count": 98,
     "metadata": {},
     "output_type": "execute_result"
    },
    {
     "data": {
      "image/png": "[encoded data removed]",
      "text/plain": [
       "<Figure size 432x288 with 1 Axes>"
      ]
     },
     "metadata": {
      "needs_background": "light"
     },
     "output_type": "display_data"
    }
   ],
   "source": [
    "# Examining CCDF\n",
    "counts2 = counts[::-1]\n",
    "counts2 = np.cumsum(counts2)\n",
    "counts2 = counts2[::-1]\n",
    "\n",
    "plt.figure()\n",
    "plt.plot(bins, counts2)\n",
    "plt.loglog(bins, counts2, 'x')"
   ]
  },
  {
   "cell_type": "code",
   "execution_count": 101,
   "metadata": {},
   "outputs": [
    {
     "name": "stdout",
     "output_type": "stream",
     "text": [
      "Pearsons correlation: -0.971\n",
      "alpha = 2.5939319723571845\n"
     ]
    },
    {
     "name": "stderr",
     "output_type": "stream",
     "text": [
      "Calculating best minimal value for power law fit\n",
      "c:\\users\\casey\\appdata\\local\\programs\\python\\python37\\lib\\site-packages\\powerlaw.py:700: RuntimeWarning: invalid value encountered in true_divide\n",
      "  (Theoretical_CDF * (1 - Theoretical_CDF))\n"
     ]
    }
   ],
   "source": [
    "from scipy.stats import pearsonr\n",
    "import powerlaw\n",
    "\n",
    "# Examining Statistics\n",
    "\n",
    "bins_log = np.log(bins)\n",
    "counts2_log = np.log(counts2)\n",
    "\n",
    "corr, _ = pearsonr(bins_log, counts2_log)\n",
    "print('Pearsons correlation: %.3f' % corr)\n",
    "\n",
    "data = counts2\n",
    "results = powerlaw.Fit(data)\n",
    "print(\"alpha =\", results.power_law.alpha)"
   ]
  },
  {
   "cell_type": "markdown",
   "metadata": {},
   "source": [
    "Given a Pearsons Correlation Coefficient of -.971 and an alpha of 2.5939319723571845, we can conclude that the relationsip is Very Strongly Negatively Correlated and that it follows a Power Law Curve. Now that we know that the distribution follows the Power Law, we can then use this knowledge in further analysis to help normalize our dataset"
   ]
  },
  {
   "cell_type": "code",
   "execution_count": null,
   "metadata": {},
   "outputs": [],
   "source": []
  }
 ],
 "metadata": {
  "kernelspec": {
   "display_name": "Python 3",
   "language": "python",
   "name": "python3"
  },
  "language_info": {
   "codemirror_mode": {
    "name": "ipython",
    "version": 3
   },
   "file_extension": ".py",
   "mimetype": "text/x-python",
   "name": "python",
   "nbconvert_exporter": "python",
   "pygments_lexer": "ipython3",
   "version": "3.7.2"
  }
 },
 "nbformat": 4,
 "nbformat_minor": 2
}
