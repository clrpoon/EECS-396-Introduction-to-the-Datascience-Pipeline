{
 "cells": [
  {
   "cell_type": "markdown",
   "metadata": {},
   "source": [
    "## 1. Data of Interests"
   ]
  },
  {
   "cell_type": "markdown",
   "metadata": {},
   "source": [
    "In the proposal, most projects only focus on a subset of data. Please state the subset of data to explore again here."
   ]
  },
  {
   "cell_type": "markdown",
   "metadata": {},
   "source": [
    "Our questions we're trying to answer is \"Which cuisines are most positively received in certain region (West, Midwest, Northeast, and South) of the continental United States?” The subset of data that we will explore is the yelp dataset in business.json for entries in the continental United States only. (All US states except Alaska and Hawaii, not including Washington D.C.). We are going to take the yelp data set and create sub sets or entries based off of region. The states will be divided up by region National Geographic's guideline for United States regions (https://www.nationalgeographic.org/maps/united-states-regions/). "
   ]
  },
  {
   "cell_type": "markdown",
   "metadata": {},
   "source": [
    "## 2. Data Preprocessing"
   ]
  },
  {
   "cell_type": "markdown",
   "metadata": {},
   "source": [
    "Describe what preprocessing is done. This includes details of cleaning and reorganization."
   ]
  },
  {
   "cell_type": "markdown",
   "metadata": {},
   "source": [
    "fdsajfdksa;jfsd"
   ]
  },
  {
   "cell_type": "code",
   "execution_count": 41,
   "metadata": {},
   "outputs": [],
   "source": [
    "# load dataset\n",
    "import json\n",
    "import pandas as pd\n",
    "\n",
    "filepath = '../../yelp-dataset'\n",
    "\n",
    "business = []\n",
    "for l in open(filepath+\"/business.json\", encoding=\"utf8\").readlines():\n",
    "    business.append(json.loads(l))\n",
    "df_business = pd.DataFrame.from_records(business)"
   ]
  },
  {
   "cell_type": "code",
   "execution_count": 91,
   "metadata": {},
   "outputs": [],
   "source": [
    "# cleaning data for inconsistent state names\n",
    "\n",
    "west = ['WA', 'OR', 'ID', 'MT', 'WY', 'CA', 'NV', 'UT', 'CO']\n",
    "southwest = ['AZ', 'NM', 'OK', 'TX']\n",
    "midwest = ['ND', 'SD', 'KS', 'MO', 'NE', 'IA', 'MN', 'WI', 'IL', 'MI', 'IN', 'OH']\n",
    "northeast = ['ME', 'NH', 'VT', 'NY', 'RI', 'CT', 'MA', 'PA', 'NJ']\n",
    "southeast = ['WV', 'MD', 'DE', 'VA', 'KY', 'NC', 'TN', 'SC', 'GA', 'AL', 'MS', 'AR', 'LA', 'FL']\n",
    "states = west + southwest + midwest + northeast + southeast\n",
    "\n",
    "states_mappings = {\n",
    "    'WASHINGTON': 'WA', \n",
    "    'OREGON': 'OR', \n",
    "    'IDAHO': 'ID',\n",
    "    'MONTANA': 'MT', \n",
    "    'WYOMING': 'WY', \n",
    "    'CALIFORNIA': 'CA', \n",
    "    'NEVADA': 'NV', 'UTAH': 'UT', \n",
    "    'COLORADO': 'CO',\n",
    "    'ARIZONA': 'AZ', \n",
    "    'NEW MEXICO': 'NM', \n",
    "    'OKLAHOMA': 'OK', \n",
    "    'TEXAS': 'TX',\n",
    "    'NORTH DAKOTA' : 'ND',\n",
    "    'SOUTH DAKOTA' : 'SD',\n",
    "    'KANSAS' : 'KS',\n",
    "    'MONTANA' : 'MO',\n",
    "    'NEBRASKA' : 'NE',\n",
    "    'IOWA' : 'IA',\n",
    "    'MINNESOTA' : 'MN',\n",
    "    'WISCONSIN' : 'WI',\n",
    "    'ILLINOIS' : 'IL',\n",
    "    'MICHIGAN' : 'MI',\n",
    "    'INDIANA' : 'IN',\n",
    "    'OHIO' : 'OH',\n",
    "    'MAINE' : 'ME',\n",
    "    'NEW HAMPSHIRE' : 'NH',\n",
    "    'VERMONT' : 'VT',\n",
    "    'NEW YORK' : 'NY',\n",
    "    'RHODE ISLAND' : 'RI',\n",
    "    'CONNECTICUT' : 'CT',\n",
    "    'MASSACHUSETTS' : 'MA',\n",
    "    'PENNSYLVANIA' : 'PA',\n",
    "    'NEW JERSEY' : 'NJ',\n",
    "    'WEST VIRGINA' : 'WV',\n",
    "    'MARYLAND' : 'MD',\n",
    "    'DELAWARE' : 'DE',\n",
    "    'VIRGINIA' : 'VA',\n",
    "    'KENTUCKY' : 'KY',\n",
    "    'NORTH CAROLINA' : 'NC',\n",
    "    'TENNESSEE' : 'TN',\n",
    "    'SOUTH CAROLINA' : 'SC',\n",
    "    'GEORGIA' : 'GA',\n",
    "    'ALABAMA' : 'AL',\n",
    "    'MISSOURI' : 'MS', \n",
    "    'ARKANSAS' : 'AR', \n",
    "    'LOUISIANA' : 'LA', \n",
    "    'FLORIDA' : 'FL'\n",
    "}\n",
    "\n",
    "def convert_to_abr(state):\n",
    "    print(state)\n",
    "    print(type(state))\n",
    "    if state in states_mappings:\n",
    "        return states_mappings[state]\n",
    "    return state"
   ]
  },
  {
   "cell_type": "code",
   "execution_count": 93,
   "metadata": {},
   "outputs": [
    {
     "name": "stdout",
     "output_type": "stream",
     "text": [
      "fdsfsd\n",
      "<bound method _noarg_wrapper.<locals>.wrapper of <pandas.core.strings.StringMethods object at 0x000001BA1D4F9860>>\n",
      ";fuck\n"
     ]
    }
   ],
   "source": [
    "# convert all states to upper case\n",
    "# df_business['state'] = df_business['state'].str.upper\n",
    "\n",
    "print('fdsfsd')\n",
    "# check if state is completely spelled out, convert if it is\n",
    "count = 0\n",
    "for _, row in df_business.iterrows():\n",
    "    print(row.state)\n",
    "    print(';fuck')\n",
    "    break\n"
   ]
  },
  {
   "cell_type": "code",
   "execution_count": 43,
   "metadata": {},
   "outputs": [],
   "source": [
    "# filter dataset by region\n",
    "west_businesses = df_business.loc[df_business['state'].isin(west)]\n",
    "south_businesses = df_business.loc[df_business['state'].isin(southwest)]\n",
    "midwest_businesses = df_business.loc[df_business['state'].isin(midwest)]\n",
    "northeast_businesses = df_business.loc[df_business['state'].isin(northeast)]\n",
    "southeast_businesses = df_business.loc[df_business['state'].isin(southeast)]"
   ]
  },
  {
   "cell_type": "markdown",
   "metadata": {},
   "source": [
    "## 3. EDA"
   ]
  },
  {
   "cell_type": "markdown",
   "metadata": {},
   "source": [
    "Describe in detail what EDA and Statistical Testing are performed. You should perform at least three meaningful plots/testings. Please also summarize the insights from EDA."
   ]
  },
  {
   "cell_type": "markdown",
   "metadata": {},
   "source": [
    "For our data set, we will perform the following EDA test:"
   ]
  },
  {
   "cell_type": "code",
   "execution_count": 16,
   "metadata": {},
   "outputs": [],
   "source": []
  },
  {
   "cell_type": "code",
   "execution_count": 40,
   "metadata": {},
   "outputs": [],
   "source": []
  },
  {
   "cell_type": "code",
   "execution_count": null,
   "metadata": {},
   "outputs": [],
   "source": []
  }
 ],
 "metadata": {
  "kernelspec": {
   "display_name": "Python 3",
   "language": "python",
   "name": "python3"
  },
  "language_info": {
   "codemirror_mode": {
    "name": "ipython",
    "version": 3
   },
   "file_extension": ".py",
   "mimetype": "text/x-python",
   "name": "python",
   "nbconvert_exporter": "python",
   "pygments_lexer": "ipython3",
   "version": "3.7.2"
  }
 },
 "nbformat": 4,
 "nbformat_minor": 2
}
