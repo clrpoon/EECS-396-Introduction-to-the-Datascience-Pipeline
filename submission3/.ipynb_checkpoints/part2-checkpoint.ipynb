{
 "cells": [
  {
   "cell_type": "markdown",
   "metadata": {},
   "source": [
    "## 1. Data of Interests"
   ]
  },
  {
   "cell_type": "markdown",
   "metadata": {},
   "source": [
    "In the proposal, most projects only focus on a subset of data. Please state the subset of data to explore again here."
   ]
  },
  {
   "cell_type": "markdown",
   "metadata": {},
   "source": [
    "Our questions we're trying to answer is \"Which cuisines are most positively received in certain region (West, Midwest, Northeast, and South) of the continental United States?” The subset of data that we will explore is the yelp dataset in business.json for entries in the continental United States only. (All US states except Alaska and Hawaii, not including Washington D.C.). The states will be divided up by region National Geographic's guideline for United States regions (https://www.nationalgeographic.org/maps/united-states-regions/). "
   ]
  },
  {
   "cell_type": "markdown",
   "metadata": {},
   "source": [
    "## 2. Data Preprocessing"
   ]
  },
  {
   "cell_type": "markdown",
   "metadata": {},
   "source": [
    "Describe what preprocessing is done. This includes details of cleaning and reorganization."
   ]
  },
  {
   "cell_type": "markdown",
   "metadata": {},
   "source": [
    "fdsajfdksa;jfsd"
   ]
  },
  {
   "cell_type": "code",
   "execution_count": 38,
   "metadata": {},
   "outputs": [],
   "source": [
    "# load dataset\n",
    "import json\n",
    "import pandas as pd\n",
    "import pprint\n",
    "\n",
    "filepath = '../../yelp_dataset'\n",
    "\n",
    "business = []\n",
    "for l in open(filepath+\"/business.json\", encoding=\"utf8\").readlines():\n",
    "    business.append(json.loads(l))\n",
    "df_business = pd.DataFrame.from_records(business)"
   ]
  },
  {
   "cell_type": "code",
   "execution_count": 37,
   "metadata": {},
   "outputs": [
    {
     "name": "stdout",
     "output_type": "stream",
     "text": [
      "{'Rodeo': 1, 'Customs Brokers': 1, 'Rotisserie Chicken': 1, 'Street Art': 1, 'Toxicologists': 1, 'Dialysis Clinics': 1, 'Beach Volleyball': 1, 'Japanese Sweets': 1, 'Czech/Slovakian': 1, 'Ceremonial Clothing': 1, 'Experiences': 1, 'DUI Schools': 1, 'General Festivals': 1, 'Minho': 1, 'Backshop': 1, 'Udon': 1, 'Tonkatsu': 1, 'Tempura': 1, 'Court Reporters': 1, 'Oaxacan': 1, 'Island Pub': 1, 'Homeopathic': 1, 'Medical Foot Care': 1, 'Geneticists': 1, 'Calligraphy': 1, 'Eastern European': 1, 'Sauna Installation & Repair': 1, 'Studio Taping': 1, 'Bocce Ball': 1, 'Sport Equipment Hire': 1, 'Christmas Markets': 1, 'Beer Hall': 1, 'Soba': 1, 'Drive-Thru Bars': 1, 'Bulgarian': 1, 'Hang Gliding': 1, 'Milkshake Bars': 1, 'Hainan': 1, 'Calabrian': 1, 'Halfway Houses': 1, 'Otologists': 1, 'Entertainment Law': 1, 'Market Stalls': 1, 'Senegalese': 1, 'Osteopaths': 1, 'Game Meat': 1, 'Churros': 1, 'Nicaraguan': 2, 'Habilitative Services': 2, 'Flyboarding': 2, 'Waldorf Schools': 2, 'Fencing Clubs': 2, 'Outdoor Movies': 2, 'Water Suppliers': 2, 'Swiss Food': 2, 'Beer Garden': 2, 'Pita': 2, 'Metro Stations': 2, 'Hearing Aids': 2, 'Registry Office': 2, 'Undersea/Hyperbaric Medicine': 2, 'Kiosk': 2, 'Bike Parking': 2, 'Mauritius': 2, 'Guamanian': 2, 'Makerspaces': 2, 'Reunion': 2, 'Electricity Suppliers': 2, 'Nudist': 2, 'Town Hall': 2, 'Linens': 2, 'Hotel bar': 2, 'Cheese Tasting Classes': 3, 'Aviation Services': 3, 'Playsets': 3, 'Snorkeling': 3, 'Municipality': 3, 'Indoor Landscaping': 3, 'Props': 3, 'Sicilian': 3, 'Carousels': 3, 'Trivia Hosts': 3, 'EV Charging Stations': 3, 'Phlebologists': 3, 'Natural Gas Suppliers': 3, 'Scooter Tours': 3, 'Patent Law': 3, 'Animal Assisted Therapy': 3, 'Taxidermy': 3, 'Auto Electric Services': 3, 'Sledding': 3, 'Homeless Shelters': 3, 'Erotic Massage': 3, 'Jails & Prisons': 3, 'Fuel Docks': 3, 'Boat Parts & Supplies': 3, 'Luggage Storage': 3, 'Kitchen Incubators': 3, 'Hybrid Car Repair': 3, 'Surf Schools': 4, 'Petting Zoos': 4, 'Beach Bars': 4, 'Scottish': 4, 'Veterans Organizations': 4, 'Uzbek': 4, 'Concept Shops': 4, 'Mosques': 4, 'Duplication Services': 4, 'Apartment Agents': 4, 'Carpet Dyeing': 4, 'Sports Psychologists': 4, 'Public Adjusters': 4, 'Pedicabs': 4, 'Slovakian': 4, 'Traditional Clothing': 4, 'Ski Schools': 4, 'Skiing': 4, 'Proctologists': 4, 'Nephrologists': 4, 'Bike Repair': 4, 'Neuropathologists': 4, 'Planetarium': 5, 'Junkyards': 5, 'Animal Physical Therapy': 5, 'Tickets': 5, 'Land Surveying': 5, 'Tuscan': 5, 'Ranches': 5, 'DIY Auto Shop': 5, 'Pathologists': 5, 'Vocal Coach': 5, 'Digitizing Services': 5, 'Gerontologists': 5, 'Free Diving': 5, 'Duty-Free Shops': 5, 'Safety Equipment': 5, 'Pub Food': 5, 'Crane Services': 5, 'Interlock Systems': 5, 'Storefront Clinics': 5, 'Unofficial Yelp Events': 5, 'Community Gardens': 5, 'Iberian': 5, 'Architectural Tours': 5, 'Bubble Soccer': 5, 'Honduran': 6, 'Trains': 6, 'Trinidadian': 6, 'Drones': 6, 'Kitchen Supplies': 6, 'Astrologers': 6, 'Conveyor Belt Sushi': 6, 'Art Space Rentals': 6, 'Bike Sharing': 6, 'Bus Rental': 6, 'Czech': 6, 'Surf Shop': 6, 'Infectious Disease Specialists': 6, 'Tubing': 6, 'Japanese Curry': 6, 'Teacher Supplies': 6, 'Feng Shui': 6, 'Aircraft Dealers': 6, 'Hepatologists': 6, 'Aircraft Repairs': 6, 'Disability Law': 7, 'Visitor Centers': 7, 'Immunodermatologists': 7, 'Mobile Home Repair': 7, 'Horse Racing': 7, 'Well Drilling': 7, 'Photography Classes': 7, 'Striptease Dancers': 7, 'Flowers': 7, 'Hindu Temples': 7, 'Kombucha': 7, 'Civic Center': 7, 'Pet Insurance': 7, 'Bike Shop': 7, 'Beach Equipment Rentals': 7, 'Behavior Analysts': 7, 'Rest Stops': 7, 'Glass Blowing': 7, 'Mobile Home Dealers': 8, 'Nursing Schools': 8, 'Dive Shops': 8, 'Austrian': 8, 'Structural Engineers': 8, 'Scavenger Hunts': 8, 'Sandblasting': 8, 'Sailing': 8, 'Cheerleading': 8, 'Surfing': 8, 'Supper Clubs': 8, 'Art Tours': 8, 'Qi Gong': 8, 'Backflow Services': 8, 'Scooter Rentals': 8, 'Contract Law': 8, 'Sex Therapists': 8, 'Private Jet Charter': 9, 'Observatories': 9, 'IP & Internet Law': 9, 'Senior Centers': 9, 'Armenian': 9, 'Audio/Visual Equipment Rental': 9, 'Emergency Medicine': 9, 'Honey': 9, 'Game Truck Rental': 9, 'Cannabis Collective': 9, 'Military Surplus': 9, 'Car Auctions': 9, 'Bicycles': 9, 'Reptile Shops': 9, 'Party Bike Rentals': 10, 'Sugar Shacks': 10, 'Hazardous Waste Disposal': 10, 'Drive-In Theater': 10, 'Misting System Services': 10, 'Syrian': 10, 'Bookbinding': 10, 'Themed Cafes': 10, 'Fire Departments': 10, 'Cannabis Tours': 10, 'Badminton': 10, \"Children's Museums\": 10, 'Shanghainese': 10, 'Ziplining': 10, 'Public Art': 10, 'Caricatures': 10, 'Adoption Services': 10, 'Food Banks': 11, 'Hydroponics': 11, 'Marinas': 11, 'Spin Classes': 11, 'Hong Kong Style Cafe': 11, 'Australian': 11, 'Gemstones & Minerals': 11, 'Cideries': 11, 'Art Restoration': 11, 'Fireworks': 11, 'Pop-Up Restaurants': 11, 'Dietitians': 11, 'Bike tours': 11, 'Scandinavian': 11, 'Attraction Farms': 12, 'Embassy': 12, 'Elder Care Planning': 12, 'Virtual Reality Centers': 12, 'Neurotologists': 12, 'Squash': 12, 'Ice Delivery': 12, 'Ultrasound Imaging Centers': 12, 'Burmese': 12, 'Halotherapy': 12, 'Ayurveda': 12, 'Machine Shops': 12, 'Fur Clothing': 12, 'Pumpkin Patches': 13, 'Perfume': 13, 'Racing Experience': 13, 'Wine Tasting Classes': 13, 'Placenta Encapsulations': 13, 'Traffic Schools': 13, '3D Printing': 13, 'Holistic Animal Care': 13, 'Water Parks': 14, 'Religious Items': 14, 'Tableware': 14, 'Club Crawl': 14, 'Haitian': 14, 'Tenant and Eviction Law': 14, 'Lice Services': 14, 'Private Schools': 14, 'Baseball Fields': 14, 'Childproofing': 14, 'College Counseling': 14, 'Herbal Shops': 15, 'Holiday Decorating Services': 15, 'Bar Crawl': 15, 'Bartending Schools': 15, 'Product Design': 15, 'Car Share Services': 15, 'Homeowner Association': 15, 'Pet Hospice': 15, 'Hockey Equipment': 15, 'Skydiving': 15, 'Chinese Martial Arts': 15, 'Ski Resorts': 15, 'Bird Shops': 16, 'Tiki Bars': 16, 'Bingo Halls': 16, 'Commissioned Artists': 16, 'Pole Dancing Classes': 16, 'Golf Cart Dealers': 16, 'Piano Stores': 16, 'Pick Your Own Farms': 16, 'Airsoft': 16, 'Empanadas': 16, 'Horse Equipment Shops': 16, 'Mobile Home Parks': 17, 'Basketball Courts': 17, 'Oxygen Bars': 17, 'CSA': 17, 'Golf Cart Rentals': 17, 'Social Security Law': 17, 'Memory Care': 17, 'Wallpapering': 17, 'Passport & Visa Services': 17, 'Eatertainment': 17, 'Golf Equipment Shops': 17, 'Shaved Snow': 17, 'LAN Centers': 18, 'Motorsport Vehicle Dealers': 18, 'Rheumatologists': 18, 'Concierge Medicine': 18, 'Rolfing': 18, 'Clowns': 18, 'Boat Tours': 18, 'Valet Services': 18, 'Car Inspectors': 18, 'Coffeeshops': 18, 'Dominican': 18, 'Country Dance Halls': 19, 'Tasting Classes': 19, 'Car Brokers': 19, 'Retina Specialists': 19, 'Egyptian': 19, 'Childbirth Education': 19, 'Dinner Theater': 20, 'Pet Waste Removal': 20, 'Excavation Services': 20, 'Home Developers': 20, 'Olive Oil': 20, 'Buddhist Temples': 20, 'Axe Throwing': 20, 'Music Production Services': 20, 'Hot Air Balloons': 20, 'Vascular Medicine': 21, 'Ethical Grocery': 21, 'Environmental Testing': 21, 'South African': 21, 'Bangladeshi': 21, 'Gunsmith': 21, 'Synagogues': 21, 'Mediators': 21, 'Medical Law': 22, 'Champagne Bars': 22, 'Bounce House Rentals': 22, 'Public Markets': 22, 'Tui Na': 22, 'Preventive Medicine': 22, 'Motorsport Vehicle Repairs': 22, 'Generator Installation/Repair': 22, 'Jet Skis': 22, 'Parenting Classes': 22, 'Matchmakers': 22, 'Aerial Tours': 22, 'Cigar Bars': 22, 'Shoe Shine': 23, 'Restaurant Supplies': 23, 'Muay Thai': 23, 'Lighting Stores': 23, 'Aerial Fitness': 23, 'Clock Repair': 24, 'Mortuary Services': 24, 'Izakaya': 24, 'Process Servers': 24, 'Furniture Rental': 24, 'Machine & Tool Rental': 24, 'House Sitters': 24, 'Dumpster Rental': 24, 'Fingerprinting': 24, 'Ukrainian': 25, 'Firewood': 25, 'Beer Tours': 25, 'Translation Services': 25, 'Editorial Services': 25, 'Disc Golf': 25, 'Dance Wear': 25, 'Puerto Rican': 26, 'Laotian': 26, 'Roof Inspectors': 26, 'Pet Breeders': 27, 'Medical Cannabis Referrals': 27, 'Spine Surgeons': 27, 'Tax Law': 27, 'Foundation Repair': 28, 'Business Financing': 28, 'Nurse Practitioner': 28, 'Estheticians': 28, 'Party Characters': 28, 'Mobility Equipment Sales & Services': 28, 'Pulmonologist': 29, 'Local Fish Stores': 29, 'Piano Bars': 29, 'Farm Equipment Repair': 29, 'Health Retreats': 29, 'Airport Terminals': 29, 'Nanny Services': 29, 'Art Museums': 30, 'Used Bookstore': 30, 'Environmental Abatement': 30, 'Alternative Medicine': 30, 'Basque': 30, 'Prenatal/Perinatal Care': 30, 'Beverage Store': 30, 'Knife Sharpening': 30, 'Currency Exchange': 30, 'Indonesian': 30, 'Paddleboarding': 30, 'Courthouses': 31, 'Float Spa': 31, 'Batting Cages': 31, 'Pop-up Shops': 31, 'Singaporean': 31, 'Powder Coating': 31, 'Psychic Mediums': 32, 'Health Insurance Offices': 32, 'High Fidelity Audio Equipment': 32, 'Hungarian': 32, 'Brewing Supplies': 32, 'Addiction Medicine': 32, 'Teppanyaki': 32, 'Motorcycle Rental': 33, 'Horse Boarding': 33, 'Safe Stores': 33, 'Rock Climbing': 33, 'Ethnic Grocery': 33, 'Bail Bondsmen': 33, 'Town Car Service': 33, 'Cryotherapy': 34, 'Home Energy Auditors': 34, 'Venezuelan': 34, 'Religious Schools': 34, 'Prosthetics': 34, 'First Aid Classes': 34, 'Aestheticians': 34, 'Anesthesiologists': 35, 'Tai Chi': 35, 'Grilling Equipment': 35, 'Demolition Services': 35, 'Trailer Dealers': 35, 'Personal Care Services': 35, 'Balloon Services': 35, 'Language Schools': 35, 'Speakeasies': 35, 'Wine Tours': 35, 'Massage Schools': 35, 'Haunted Houses': 35, 'Kids Hair Salons': 36, 'Guest Houses': 36, 'Races & Competitions': 36, 'Paint-Your-Own Pottery': 36, 'Health Coach': 36, 'Trophy Shops': 36, 'Opera & Ballet': 36, 'Software Development': 36, 'Solar Panel Cleaning': 36, 'Doulas': 36, 'Paintball': 36, 'Pet Transportation': 36, 'Holiday Decorations': 37, 'Flight Instruction': 37, 'Hydrotherapy': 37, 'Commercial Truck Dealers': 37, 'Indoor Playcentre': 37, 'Livestock Feed & Supply': 37, 'Vacation Rental Agents': 38, 'Cultural Center': 38, 'Face Painting': 38, 'Trailer Rental': 38, 'Talent Agencies': 39, 'Food Tours': 39, 'Pet Cremation Services': 39, 'Skate Parks': 39, 'Colonics': 39, 'Cabaret': 39, 'Botanical Gardens': 40, 'Circuit Training Gyms': 40, 'Day Camps': 40, 'Television Stations': 40, 'Saunas': 40, 'Airport Lounges': 40, 'Chimney Sweeps': 41, 'Medical Transportation': 41, 'Sri Lankan': 41, 'Go Karts': 41, 'Cremation Services': 41, 'Workers Compensation Law': 41, 'Debt Relief Services': 41, 'Sunglasses': 41, 'Traffic Ticketing Law': 41, 'Hunting & Fishing Supplies': 41, 'Lakes': 41, 'Public Relations': 42, 'Archery': 42, 'Cambodian': 42, 'Prosthodontists': 42, 'Self-defense Classes': 42, 'International': 42, 'Cafeteria': 42, 'Clothing Rental': 43, 'Donation Center': 43, 'Blood & Plasma Donation Centers': 43, 'Auto Security': 43, 'Fishing': 43, 'Distilleries': 43, 'Lactation Services': 43, 'Ski & Snowboard Shops': 44, 'Engraving': 44, 'Farming Equipment': 44, 'Coffee & Tea Supplies': 44, 'Acne Treatment': 44, 'Estate Liquidation': 45, 'Hakka': 45, 'Water Delivery': 45, 'Aquarium Services': 45, 'Fire Protection Services': 45, 'Mobile Dent Repair': 45, 'Police Departments': 45, 'Christmas Trees': 45, 'Strip Clubs': 46, 'Aquariums': 46, 'Boat Dealers': 46, 'Wine Tasting Room': 46, 'Installment Loans': 46, 'Pet Photography': 46, 'Condominiums': 46, 'Zoos': 46, 'Historical Tours': 46, 'Bartenders': 46, 'Argentine': 46, 'Scuba Diving': 46, 'Race Tracks': 48, 'Colombian': 48, 'Sugaring': 49, 'CPR Classes': 49, 'Home Network Installation': 49, 'Flea Markets': 49, 'Mongolian': 50, 'Fondue': 50, 'Whiskey Bars': 50, 'IV Hydration': 50, 'Pool & Billiards': 50, 'Newspapers & Magazines': 51, 'Piano Services': 51, 'Emergency Rooms': 51, 'Boat Charters': 51, 'Montessori Schools': 51, 'Belgian': 51, 'Travel Agents': 51, 'ATV Rentals/Tours': 51, 'Farms': 52, 'Wildlife Control': 52, 'Hydro-jetting': 52, 'Recording & Rehearsal Studios': 52, 'Shredding Services': 52, 'Walking Tours': 53, 'Taekwondo': 53, 'Private Investigation': 53, 'Skate Shops': 53, 'Climbing': 54, 'Community Centers': 54, 'Stucco Services': 54, 'Real Estate Photography': 54, 'Architects': 54, 'Brazilian Jiu-jitsu': 54, 'Buses': 54, 'Personal Assistants': 54, 'Oncologist': 55, 'Skilled Nursing': 55, 'New Mexican Cuisine': 55, 'Awnings': 55, 'Diving': 55, 'Spiritual Shop': 56, 'Magicians': 56, 'Water Stores': 56, 'Psychologists': 56, 'Vehicle Shipping': 56, 'Boudoir Photography': 56, 'Endocrinologists': 57, 'Candle Stores': 57, 'Karate': 58, 'Officiants': 58, 'Waterproofing': 59, 'Train Stations': 59, 'Bus Tours': 59, 'Popcorn Shops': 60, 'Campgrounds': 60, 'Laser Tag': 60, 'Firearm Training': 60, 'Speech Therapists': 60, 'Hostels': 60, 'Musicians': 61, 'RV Parks': 61, 'Russian': 61, 'Trailer Repair': 61, 'Osteopathic Physicians': 62, 'Smokehouse': 62, 'Golf Lessons': 62, 'Fertility': 62, 'Lawn Services': 63, 'Sleep Specialists': 63, 'Dental Hygienists': 63, 'Himalayan/Nepalese': 63, 'Psychics': 64, 'Hats': 64, 'Car Buyers': 64, 'Bookkeepers': 64, 'Insulation Installation': 64, 'Furniture Assembly': 65, 'Urologists': 65, 'Body Contouring': 66, 'Donairs': 66, 'Employment Law': 67, 'Rafting/Kayaking': 67, 'Beaches': 68, 'Souvenir Shops': 68, 'Leisure Centers': 68, 'Macarons': 68, 'Henna Artists': 68, 'Challenge Courses': 68, 'Auto Upholstery': 69, 'Brewpubs': 69, 'Arabian': 69, 'Trampoline Parks': 70, 'Salvadoran': 70, 'Appraisal Services': 71, 'Hypnosis/Hypnotherapy': 71, 'Maternity Wear': 72, 'Orthotics': 72, 'Gastroenterologist': 72, 'Service Stations': 72, 'Auction Houses': 73, 'Kickboxing': 73, 'Furniture Repair': 74, 'Cooking Classes': 74, 'Snow Removal': 74, 'Hair Loss Centers': 75, 'Moroccan': 75, 'Malaysian': 75, 'Hearing Aid Providers': 75, 'Soccer': 76, 'Ticket Sales': 76, 'Commercial Truck Repair': 76, 'Luggage': 76, 'Professional Sports Teams': 77, 'Pasta Shops': 77, 'Cuban': 77, 'Wedding Chapels': 78, 'Kebab': 78, 'Live/Raw Food': 78, 'Guitar Stores': 78, 'Hospice': 79, 'Decks & Railing': 79, 'Polish': 80, 'Beer Gardens': 80, 'Midwives': 80, 'Tabletop Games': 80, 'Siding': 80, 'Emergency Pet Hospital': 81, 'Mountain Biking': 82, 'Immigration Law': 83, 'Country Clubs': 84, 'Pretzels': 84, 'Ethiopian': 84, 'Home Staging': 84, 'Registration Services': 84, 'Wills': 85, 'Trusts': 85, '& Probates': 85, 'Horseback Riding': 85, 'Motorcycle Gear': 85, 'RV Rental': 85, 'Assisted Living Facilities': 86, 'Boat Repair': 88, 'Plastic Surgeons': 88, 'Carpenters': 88, 'Pan Asian': 89, 'Golf Equipment': 89, 'Audiologist': 90, 'Brazilian': 90, 'Wholesalers': 91, 'Utilities': 93, 'Yelp Events': 93, 'Swimming Lessons/Schools': 93, 'Test Preparation': 93, 'Cycling Classes': 93, 'Artificial Turf': 93, 'Propane': 95, 'TV Mounting': 95, 'Fireplace Services': 97, 'Security Services': 98, 'Special Education': 98, 'Skating Rinks': 98, 'Fitness/Exercise Equipment': 98, 'Psychiatrists': 99, 'Career Counseling': 99, 'Title Loans': 99, 'Radio Stations': 99, 'Szechuan': 99, 'Team Building Activities': 100, 'Acai Bowls': 100, 'Meditation Centers': 101, 'Uniforms': 101, 'Mini Golf': 101, 'Paint & Sip': 103, 'German': 103, 'Allergists': 104, 'Cannabis Dispensaries': 104, 'Septic Services': 105, 'University Housing': 105, 'Vacation Rentals': 106, 'Outdoor Furniture Stores': 106, 'Cantonese': 106, 'Personal Chefs': 106, 'Battery Stores': 107, 'Cooking Schools': 108, 'Tennis': 108, 'Irish Pub': 109, 'Shared Office Spaces': 109, 'Radiologists': 110, 'Vocational & Technical School': 110, 'Embroidery & Crochet': 110, 'Patio Coverings': 110, 'Peruvian': 111, 'Occupational Therapy': 113, 'Paint Stores': 114, 'Neurologist': 114, 'Herbs & Spices': 115, 'Payroll Services': 115, 'Teeth Whitening': 116, 'Ear Nose & Throat': 117, 'Metal Fabricators': 117, 'Grout Services': 119, 'Waffles': 119, 'Tanning Beds': 123, 'Cardiologists': 123, 'Cardio Classes': 124, 'Hot Pot': 124, 'Gymnastics': 124, 'Business Consulting': 125, 'Video Game Stores': 126, 'Bespoke Clothing': 127, 'Swimwear': 129, 'Business Law': 130, 'Kosher': 131, 'Brasseries': 132, 'Shutters': 133, 'Afghan': 133, 'Private Tutors': 134, 'Airlines': 135, 'Screen Printing': 135, 'Wigs': 135, 'Turkish': 136, 'RV Dealers': 136, 'Falafel': 137, 'Party Bus Rentals': 139, 'Gelato': 140, 'Vinyl Records': 140, 'Knitting Supplies': 142, 'Departments of Motor Vehicles': 142, 'Animal Shelters': 144, 'Delicatessen': 144, 'Bistros': 144, 'Recycling Center': 144, 'Packing Supplies': 145, 'Vehicle Wraps': 146, 'Roadside Assistance': 146, 'Pet Adoption': 147, 'Driving Schools': 147, 'International Grocery': 147, 'Walk-in Clinics': 148, 'Photo Booth Rentals': 148, 'African': 148, 'Jazz & Blues': 148, 'Home Automation': 148, 'Tattoo Removal': 151, 'Costumes': 152, 'Rugs': 153, 'RV Repair': 153, 'Gun/Rifle Ranges': 153, 'Countertop Installation': 153, 'Wraps': 154, 'Customized Merchandise': 154, 'Print Media': 155, 'Dog Parks': 155, 'British': 156, 'Art Schools': 157, 'Gutter Services': 157, 'Framing': 157, 'Real Estate Law': 157, 'Adult': 159, 'Laundromat': 162, 'Supernatural Readings': 163, 'Mortgage Lenders': 163, 'Solar Installation': 164, 'Wineries': 164, 'Retirement Homes': 164, 'Barre Classes': 165, 'Comedy Clubs': 166, 'Parking': 166, 'Videographers': 168, 'Cosmetology Schools': 168, 'Gold Buyers': 170, 'Plus Size Fashion': 171, 'Boating': 171, 'Poke': 172, 'Surgeons': 172, 'Floral Designers': 174, 'Cannabis Clinics': 174, 'Packing Services': 175, 'Gay Bars': 176, 'Tutoring Centers': 177, 'Refinishing Services': 179, 'Estate Planning Law': 179, 'Head Shops': 179, 'Poutineries': 181, 'Adult Education': 182, 'Coffee Roasteries': 183, 'Podiatrists': 183, 'Bankruptcy Law': 183, 'Screen Printing/T-Shirt Printing': 184, 'Persian/Iranian': 185, 'Escape Games': 185, 'Data Recovery': 185, 'Home Theatre Installation': 186, 'Internet Cafes': 187, 'Stadiums & Arenas': 188, 'Carpet Installation': 188, 'Investing': 190, 'General Litigation': 190, 'Fences & Gates': 191, 'Medical Supplies': 192, 'Home Organization': 193, 'Spanish': 193, 'Personal Shopping': 194, 'Funeral Services & Cemeteries': 195, 'Check Cashing/Pay-day Loans': 195, 'Musical Instrument Services': 196, 'DJs': 197, 'Comic Books': 197, 'Social Clubs': 197, 'Laboratory Testing': 198, 'Resorts': 198, 'Patisserie/Cake Shop': 200, 'Television Service Providers': 200, 'Water Purification Services': 200, 'Hiking': 201, 'Cheese Shops': 201, 'Food Court': 202, 'Irish': 203, 'Bed & Breakfast': 203, 'Home Window Tinting': 206, 'Dance Schools': 207, 'Airports': 208, 'Traditional Chinese Medicine': 210, 'Landmarks & Historical Buildings': 211, 'DUI Law': 211, 'Car Window Tinting': 212, 'Public Transportation': 213, 'Video/Film Production': 214, 'Cheesesteaks': 214, 'Do-It-Yourself Food': 215, 'Modern European': 216, 'Butcher': 217, 'Amateur Sports Teams': 217, 'Boxing': 217, 'Drywall Installation & Repair': 217, 'Seafood Markets': 219, 'Pain Management': 220, 'Fabric Stores': 221, 'Taiwanese': 223, 'Employment Agencies': 224, 'Commercial Real Estate': 224, 'Pool Halls': 224, 'Laser Eye Surgery/Lasik': 224, 'Auto Loan Providers': 224, 'Art Classes': 225, 'Legal Services': 226, 'Glass & Mirrors': 226, 'Diagnostic Imaging': 227, 'Organic Stores': 227, 'Interval Training Gyms': 227, 'Air Duct Cleaning': 234, 'Bowling': 234, 'Filipino': 235, 'Car Stereo Installation': 235, 'Watch Repair': 236, 'Ramen': 237, 'Pawn Shops': 237, 'Advertising': 237, 'Lebanese': 239, 'Shaved Ice': 242, 'Furniture Reupholstery': 244, 'Life Insurance': 247, 'Portuguese': 249, 'Leather Goods': 250, 'Pressure Washers': 251, 'Pet Boarding': 259, 'Creperies': 261, 'Bike Rentals': 265, 'Middle Schools & High Schools': 266, 'Lingerie': 267, 'Home Health Care': 268, 'Tacos': 271, 'Taxis': 272, 'Party Equipment Rentals': 272, 'Guns & Ammo': 274, 'Educational Services': 275, 'Custom Cakes': 277, 'Reiki': 277, 'Nail Technicians': 278, 'Threading Services': 279, 'Summer Camps': 280, 'Life Coach': 281, 'Truck Rental': 282, 'Rehabilitation Center': 283, 'Bike Repair/Maintenance': 284, 'Post Offices': 285, 'Door Sales/Installation': 291, 'Libraries': 295, 'Dermatologists': 296, 'Junk Removal & Hauling': 297, 'Colleges & Universities': 298, 'Tiling': 299, 'Criminal Defense Law': 299, 'Dim Sum': 302, 'Cajun/Creole': 303, 'Vitamins & Supplements': 305, 'Music & DVDs': 305, 'Playgrounds': 306, 'Orthopedists': 306, 'Hookah Bars': 309, 'Jewelry Repair': 310, 'Signmaking': 311, 'Telecommunications': 311, 'Formal Wear': 314, 'Gardeners': 314, 'Motorcycle Repair': 315, 'Shoe Repair': 315, 'Soul Food': 316, 'Videos & Video Game Rental': 316, 'Irrigation': 316, 'Wheel & Rim Repair': 317, 'Dog Walkers': 317, 'Fish & Chips': 319, 'Cabinetry': 319, 'Mass Media': 319, 'Landscape Architects': 321, 'Mailbox Centers': 321, 'Accountants': 325, 'Museums': 327, 'Motorcycle Dealers': 328, 'Financial Advising': 328, 'Hawaiian': 329, 'Airport Shuttles': 331, 'Window Washing': 334, 'Kids Activities': 334, 'Recreation Centers': 335, 'Food Stands': 335, 'Garage Door Services': 336, 'Candy Stores': 336, 'Divorce & Family Law': 337, 'Cupcakes': 338, 'Home Inspectors': 339, 'Smog Check Stations': 340, 'Wholesale Stores': 348, 'Cards & Stationery': 351, 'Outlet Stores': 354, 'Used Car Dealers': 355, 'Baby Gear & Furniture': 360, 'Art Supplies': 360, 'Karaoke': 362, 'Street Vendors': 362, 'Dance Studios': 367, 'Spray Tanning': 372, 'Musical Instruments & Teachers': 373, 'Pediatricians': 374, 'Pilates': 375, 'Outdoor Gear': 376, 'Keys & Locksmiths': 378, 'Adult Entertainment': 380, 'Couriers & Delivery Services': 382, 'Tax Services': 382, 'Arcades': 383, 'Web Design': 384, 'Office Equipment': 387, 'Shades & Blinds': 389, 'Boot Camps': 390, 'Masonry/Concrete': 391, 'Lighting Fixtures & Equipment': 391, 'Ophthalmologists': 392, 'Watches': 398, 'Internal Medicine': 399, 'Amusement Parks': 399, 'Limos': 402, 'Roofing': 405, 'Counseling & Mental Health': 410, 'Fruits & Veggies': 412, 'Churches': 416, 'Tapas Bars': 417, 'Cosmetic Surgeons': 418, 'Home & Rental Insurance': 420, 'Mobile Phone Accessories': 422, 'Pharmacy': 423, 'Piercing': 426, 'Windows Installation': 427, 'Party Supplies': 429, 'Personal Injury Law': 430, 'Dry Cleaning': 436, 'Farmers Market': 437, 'Sports Medicine': 439, 'Hospitals': 440, 'Hot Tub & Pool': 443, 'Marketing': 445, 'Security Systems': 451, 'Windshield Installation & Repair': 452, 'Auto Customization': 455, 'Tea Rooms': 455, 'Internet Service Providers': 456, 'Auto Insurance': 456, 'Urgent Care': 459, 'Festivals': 459, 'Imported Food': 460, 'Obstetricians & Gynecologists': 461, 'Water Heater Installation/Repair': 464, 'Chocolatiers & Shops': 466, 'Carpeting': 466, 'Travel Services': 469, 'Casinos': 470, 'Beer Bar': 470, 'Tree Services': 473, 'Noodles': 476, 'Pakistani': 479, 'Damage Restoration': 479, 'Tapas/Small Plates': 480, 'Swimming Pools': 483, 'Bubble Tea': 486, 'Reflexology': 488, 'Periodontists': 488, 'Eyebrow Services': 490, 'Cinema': 490, 'Naturopathic/Holistic': 492, 'Diagnostic Services': 496, 'Sports Clubs': 497, 'Permanent Makeup': 500, 'Office Cleaning': 513, 'Meat Shops': 515, 'Electricians': 534, 'Southern': 536, 'Bookstores': 543, 'Breweries': 543, 'Event Photography': 546, 'Religious Organizations': 547, 'Martial Arts': 547, 'Elementary Schools': 548, \"Children's Clothing\": 550, 'Session Photography': 550, 'Bikes': 556, 'Gastropubs': 557, 'Photography Stores & Services': 559, 'Notaries': 562, 'Graphic Design': 569, 'Shopping Centers': 571, 'Handyman': 574, 'Chicken Shop': 574, 'Community Service/Non-Profit': 577, 'Antiques': 577, 'Painters': 583, 'Toy Stores': 589, 'Golf': 590, 'Latin American': 591, 'Computers': 593, 'Nutritionists': 598, 'Pet Training': 599, 'Transmission Repair': 601, 'Pest Control': 613, 'Bagels': 615, 'Halal': 620, 'Endodontists': 622, 'Pool & Hot Tub Service': 624, 'Pool Cleaners': 625, 'Dive Bars': 631, 'Caribbean': 634, 'Bridal': 640, 'Pediatric Dentists': 647, 'Vape Shops': 652, 'Towing': 656, 'Electronics Repair': 656, 'Nurseries & Gardening': 662, 'Blow Dry/Out Services': 667, 'Laser Hair Removal': 672, 'Tours': 672, 'Mortgage Brokers': 675, 'Thrift Stores': 687, 'Mobile Phone Repair': 695, 'Preschools': 705, 'Interior Design': 736, 'Tex-Mex': 737, 'Acupuncture': 745, 'Child Care & Day Care': 746, 'Mattresses': 749, 'Used': 749, 'Vintage & Consignment': 749, 'Hot Dogs': 757, 'Gift Shops': 763, 'Shipping Centers': 765, 'Donuts': 774, 'Art Galleries': 781, 'Hobby Shops': 783, 'Health Markets': 790, 'Weight Loss Centers': 792, 'Family Practice': 793, 'Sports Wear': 794, 'Wedding Planning': 800, \"Men's Hair Salons\": 813, 'Hardware Stores': 816, 'Soup': 844, 'Dance Clubs': 845, 'Vegan': 848, 'Tattoo': 852, 'Appliances': 856, 'Food Trucks': 857, 'Gluten-Free': 858, 'Comfort Food': 860, 'Appliances & Repair': 872, 'Tobacco Shops': 873, 'Auto Glass Services': 887, 'Building Supplies': 887, 'Buffets': 893, 'Oral Surgeons': 906, 'Flooring': 908, 'Insurance': 912, 'Discount Store': 921, 'Korean': 923, 'Tanning': 927, 'Carpet Cleaning': 939, 'Car Rental': 945, 'Kitchen & Bath': 947, 'Photographers': 961, 'Parks': 977, 'Food Delivery Services': 979, 'Orthodontists': 983, 'Self Storage': 1020, 'French': 1027, 'Property Management': 1033, 'Physical Therapy': 1040, 'Sewing & Alterations': 1040, 'Hair Extensions': 1048, 'Transportation': 1060, 'Lawyers': 1062, 'Music Venues': 1065, 'Performing Arts': 1085, 'Greek': 1086, 'Auto Detailing': 1087, 'Florists': 1098, 'Ethnic Food': 1103, 'Movers': 1104, 'Vegetarian': 1123, 'Printing Services': 1130, 'Wine Bars': 1145, 'Yoga': 1158, 'Car Wash': 1160, 'Eyewear & Opticians': 1162, 'Pet Stores': 1171, 'Real Estate Agents': 1196, 'Landscaping': 1206, 'Makeup Artists': 1234, 'Mobile Phones': 1246, 'Cocktail Bars': 1246, 'Pet Sitting': 1269, 'Medical Spas': 1275, 'Home Cleaning': 1278, 'Optometrists': 1279, 'Veterinarians': 1285, 'Vietnamese': 1286, 'Body Shops': 1306, 'Middle Eastern': 1317, 'Plumbing': 1337, 'Books': 1342, 'Mags': 1342, 'Music & Video': 1342, 'Public Services & Government': 1343, 'Chiropractors': 1354, 'Banks & Credit Unions': 1355, 'Party & Event Planning': 1378, 'Laundry Services': 1405, 'Dry Cleaning & Laundry': 1418, 'Diners': 1433, 'Local Flavor': 1444, 'Thai': 1449, 'Shoe Stores': 1460, 'Indian': 1489, 'Heating & Air Conditioning/HVAC': 1539, 'Pet Groomers': 1546, 'IT Services & Computer Repair': 1557, 'Real Estate Services': 1564, 'Specialty Schools': 1588, 'Steakhouses': 1603, 'Gas Stations': 1617, 'Electronics': 1629, 'Department Stores': 1642, 'Lounges': 1648, 'Drugstores': 1684, 'Juice Bars & Smoothies': 1723, 'Jewelry': 1750, 'Massage Therapy': 1754, 'Medical Centers': 1781, 'Arts & Crafts': 1793, 'Barbeque': 1814, \"Men's Clothing\": 1832, 'Mediterranean': 1834, 'Eyelash Service': 1856, 'Convenience Stores': 1867, 'Canadian (New)': 1909, 'Trainers': 1944, 'Furniture Stores': 1947, 'Asian Fusion': 1953, 'Delis': 1955, 'Hair Stylists': 1960, 'Barbers': 2010, 'Auto Parts & Supplies': 2023, 'Cosmetic Dentists': 2058, 'Car Dealers': 2062, 'Pubs': 2077, 'Home Decor': 2125, 'Cosmetics & Beauty Supply': 2148, 'Sporting Goods': 2165, 'Flowers & Gifts': 2180, 'Sports Bars': 2184, 'Oil Change Stations': 2191, 'Accessories': 2214, 'Venues & Event Spaces': 2223, 'Beer': 2255, 'Wine & Spirits': 2255, 'Sushi Bars': 2258, 'Gyms': 2316, 'Tires': 2337, 'Waxing': 2389, 'Seafood': 2508, 'Caterers': 2525, 'Salad': 2531, 'Apartments': 2576, 'Hotels': 2625, 'Chicken Wings': 2705, 'Japanese': 2716, 'Massage': 2733, 'Day Spas': 2742, 'Ice Cream & Frozen Yogurt': 2764, 'General Dentistry': 2768, 'Pet Services': 2850, \"Women's Clothing\": 2983, 'Financial Services': 3082, 'Contractors': 3151, 'Cafes': 3232, 'Education': 3314, 'Desserts': 3332, 'Skin Care': 3403, 'Dentists': 3540, 'Grocery': 3609, 'Bakeries': 3711, 'Hair Removal': 4002, 'Pets': 4111, 'Chinese': 4428, 'Mexican': 4618, 'Fitness & Instruction': 4646, 'Italian': 4716, 'American (New)': 4882, 'Specialty Food': 4883, 'Nail Salons': 5043, 'Breakfast & Brunch': 5381, 'Burgers': 5404, 'Real Estate': 5677, 'Doctors': 5867, 'Hotels & Travel': 6033, 'Auto Repair': 6140, 'Professional Services': 6276, 'Arts & Entertainment': 6304, 'Home & Garden': 6489, 'Pizza': 6804, 'Hair Salons': 6955, 'American (Traditional)': 7107, 'Fast Food': 7257, 'Coffee & Tea': 7321, 'Sandwiches': 7332, 'Fashion': 7798, 'Active Life': 9521, 'Event Planning & Services': 10371, 'Bars': 11341, 'Nightlife': 13095, 'Automotive': 13203, 'Local Services': 13932, 'Health & Medical': 17171, 'Beauty & Spas': 19370, 'Home Services': 19729, 'Food': 29989, 'Shopping': 31878, 'Restaurants': 59371}\n"
     ]
    }
   ],
   "source": [
    "# Find business categories\n",
    "categories = {}\n",
    "for _, row in df_business.iterrows():\n",
    "    if row.categories:\n",
    "        row_categories = row.categories.split(', ')\n",
    "        for category in row_categories:\n",
    "            if category not in categories:\n",
    "                categories[category] = 1\n",
    "            else:\n",
    "                categories[category] += 1\n",
    "categories = {k: v for k, v in sorted(categories.items(), key=lambda item: item[1])}\n",
    "print(categories)"
   ]
  },
  {
   "cell_type": "code",
   "execution_count": 54,
   "metadata": {},
   "outputs": [
    {
     "name": "stdout",
     "output_type": "stream",
     "text": [
      "{'Coffee & Tea': 7321, 'Sandwiches': 7332, 'Fashion': 7798, 'Active Life': 9521, 'Event Planning & Services': 10371, 'Bars': 11341, 'Nightlife': 13095, 'Automotive': 13203, 'Local Services': 13932, 'Health & Medical': 17171, 'Beauty & Spas': 19370, 'Home Services': 19729, 'Food': 29989, 'Shopping': 31878, 'Restaurants': 59371}\n"
     ]
    }
   ],
   "source": [
    "# Top 15 categories\n",
    "print(dict(list(categories.items())[-15:]) )"
   ]
  },
  {
   "cell_type": "code",
   "execution_count": 73,
   "metadata": {},
   "outputs": [
    {
     "name": "stdout",
     "output_type": "stream",
     "text": [
      "                   business_id                                 name  \\\n",
      "1       QXAEGFB4oINsVuTFxEYKFQ           Emerald Chinese Restaurant   \n",
      "14      -K4gAv8_vjx8-2BxkVeRkA                           Baby Cakes   \n",
      "25      tstimHoMcYbkSC4eBA1wEg  Maria's Mexican Restaurant & Bakery   \n",
      "26      C9oCPomVP0mtKa8z99E3gg                        Bakery Gateau   \n",
      "29      NDuUMJfrWk52RA-H-OtrpA                       Bolt Fresh Bar   \n",
      "...                        ...                                  ...   \n",
      "192572  sVEE_Mp3EbWW1UIhfActVA                   The King's Kitchen   \n",
      "192573  6A6wbLDM1wIG--6psAOqLQ                 99 Cents Only Stores   \n",
      "192582  Pc0C3Pzf-DwEfJZrkCR3QA              Mercator Euro Mini Mart   \n",
      "192598  vIAEWbTJc657yN8I4z7whQ                            Starbucks   \n",
      "192602  go-_xdHHSufchOeZ3kkC8w            Cedar Green Wine & Cheese   \n",
      "\n",
      "                              address                city state postal_code  \\\n",
      "1                30 Eglinton Avenue W         Mississauga    ON     L5R 3E7   \n",
      "14                       4145 Erie St          Willoughby    OH       44094   \n",
      "25              6055 E Lake Mead Blvd           Las Vegas    NV       89156   \n",
      "26        865 York Mills Road, Unit 1             Toronto    ON     M3B 1Y6   \n",
      "29                1170 Queen Street W             Toronto    ON     M6J 1J5   \n",
      "...                               ...                 ...   ...         ...   \n",
      "192572           9275 Hwy 48, Unit 11             Markham    ON     L6E 1A2   \n",
      "192573             7380 S Eastern Ave           Las Vegas    NV       89123   \n",
      "192582         2046 Sheppard Avenue E         Scarborough    ON     M1R 5B3   \n",
      "192598  8164 S. Las Vegas Blvd., #100           Las Vegas    NV       89123   \n",
      "192602                2179 S Green Rd  University Heights    OH       44121   \n",
      "\n",
      "         latitude   longitude  stars  review_count  is_open  \\\n",
      "1       43.605499  -79.652289    2.5           128        1   \n",
      "14      41.639860  -81.406396    3.0             7        1   \n",
      "25      36.195615 -115.040529    4.5           184        1   \n",
      "26      43.754093  -79.349548    4.5             8        1   \n",
      "29      43.642889  -79.425429    3.0            57        1   \n",
      "...           ...         ...    ...           ...      ...   \n",
      "192572  43.893994  -79.263055    3.0            12        1   \n",
      "192573  36.055748 -115.117081    3.0            15        1   \n",
      "192582  43.790660  -79.254010    3.5             6        1   \n",
      "192598  36.041407 -115.171698    3.0           138        1   \n",
      "192602  41.500621  -81.518241    3.0            12        0   \n",
      "\n",
      "                                               attributes  \\\n",
      "1       {'RestaurantsReservations': 'True', 'GoodForMe...   \n",
      "14      {'RestaurantsTakeOut': 'True', 'BusinessParkin...   \n",
      "25      {'BikeParking': 'True', 'BusinessParking': '{'...   \n",
      "26      {'RestaurantsDelivery': 'False', 'RestaurantsP...   \n",
      "29      {'WiFi': 'u'no'', 'BikeParking': 'True', 'Rest...   \n",
      "...                                                   ...   \n",
      "192572  {'Caters': 'True', 'RestaurantsGoodForGroups':...   \n",
      "192573  {'BusinessAcceptsCreditCards': 'True', 'BikePa...   \n",
      "192582  {'BikeParking': 'True', 'RestaurantsTakeOut': ...   \n",
      "192598  {'OutdoorSeating': 'True', 'WiFi': 'u'free'', ...   \n",
      "192602  {'RestaurantsPriceRange2': '2', 'BusinessParki...   \n",
      "\n",
      "                                               categories  \\\n",
      "1       Specialty Food, Restaurants, Dim Sum, Imported...   \n",
      "14                                         Bakeries, Food   \n",
      "25      Mexican, Restaurants, Patisserie/Cake Shop, Fo...   \n",
      "26                                         Bakeries, Food   \n",
      "29      Juice Bars & Smoothies, Food, Restaurants, Fas...   \n",
      "...                                                   ...   \n",
      "192572  Imported Food, Chinese, Food, Seafood, Special...   \n",
      "192573  Event Planning & Services, Party Supplies, Who...   \n",
      "192582  Specialty Food, International Grocery, Ethnic ...   \n",
      "192598                                 Food, Coffee & Tea   \n",
      "192602                         Food, Beer, Wine & Spirits   \n",
      "\n",
      "                                                    hours  \\\n",
      "1       {'Monday': '9:0-0:0', 'Tuesday': '9:0-0:0', 'W...   \n",
      "14      {'Tuesday': '11:0-17:0', 'Wednesday': '11:0-17...   \n",
      "25      {'Monday': '11:0-21:0', 'Tuesday': '10:0-21:0'...   \n",
      "26      {'Monday': '9:0-20:0', 'Tuesday': '9:0-20:0', ...   \n",
      "29      {'Monday': '8:0-21:0', 'Tuesday': '8:0-21:0', ...   \n",
      "...                                                   ...   \n",
      "192572  {'Monday': '0:0-0:0', 'Tuesday': '11:0-22:0', ...   \n",
      "192573  {'Monday': '8:0-21:0', 'Tuesday': '8:0-21:0', ...   \n",
      "192582  {'Monday': '10:0-19:0', 'Tuesday': '10:0-19:0'...   \n",
      "192598  {'Monday': '0:0-0:0', 'Tuesday': '0:0-0:0', 'W...   \n",
      "192602  {'Monday': '11:30-21:0', 'Tuesday': '9:0-21:0'...   \n",
      "\n",
      "        is_restaurant_or_food  \n",
      "1                        True  \n",
      "14                       True  \n",
      "25                       True  \n",
      "26                       True  \n",
      "29                       True  \n",
      "...                       ...  \n",
      "192572                   True  \n",
      "192573                   True  \n",
      "192582                   True  \n",
      "192598                   True  \n",
      "192602                   True  \n",
      "\n",
      "[29989 rows x 15 columns]\n"
     ]
    }
   ],
   "source": [
    "# Filter businesses that are only in the 'Food' or 'Restaurant' category\n",
    "def check_for_rest_or_food(row):\n",
    "    category = row['categories']\n",
    "    if category:\n",
    "        tokens = category.split(', ')\n",
    "        return 'Food' in tokens or 'Restaurant' in tokens\n",
    "    return False\n",
    "\n",
    "df_business['is_restaurant_or_food'] = df_business.apply(check_for_rest_or_food, axis=1)\n",
    "food_businesses = df_business[df_business['is_restaurant_or_food'] == True]\n",
    "print(food_businesses)"
   ]
  },
  {
   "cell_type": "markdown",
   "metadata": {},
   "source": [
    "## 3. EDA"
   ]
  },
  {
   "cell_type": "markdown",
   "metadata": {},
   "source": [
    "Describe in detail what EDA and Statistical Testing are performed. You should perform at least three meaningful plots/testings. Please also summarize the insights from EDA."
   ]
  },
  {
   "cell_type": "markdown",
   "metadata": {},
   "source": [
    "For our data set, we will perform the following EDA test:"
   ]
  },
  {
   "cell_type": "code",
   "execution_count": null,
   "metadata": {},
   "outputs": [],
   "source": []
  },
  {
   "cell_type": "code",
   "execution_count": null,
   "metadata": {},
   "outputs": [],
   "source": [
    "# load dataset\n",
    "import json\n",
    "import pandas as pd\n",
    "\n",
    "filepath = '../../yelp_dataset'\n",
    "\n",
    "business = []\n",
    "for l in open(filepath+\"/business.json\", encoding=\"utf8\").readlines():\n",
    "    business.append(json.loads(l))\n",
    "df_business = pd.DataFrame.from_records(business)\n",
    "print(df_business['state'].value_counts())\n",
    "\n",
    "# cleaning data for inconsistent state names\n",
    "\n",
    "west = ['WA', 'OR', 'ID', 'MT', 'WY', 'CA', 'NV', 'UT', 'CO']\n",
    "southwest = ['AZ', 'NM', 'OK', 'TX']\n",
    "midwest = ['ND', 'SD', 'KS', 'MO', 'NE', 'IA', 'MN', 'WI', 'IL', 'MI', 'IN', 'OH']\n",
    "northeast = ['ME', 'NH', 'VT', 'NY', 'RI', 'CT', 'MA', 'PA', 'NJ']\n",
    "southeast = ['WV', 'MD', 'DE', 'VA', 'KY', 'NC', 'TN', 'SC', 'GA', 'AL', 'MS', 'AR', 'LA', 'FL']\n",
    "states = west + southwest + midwest + northeast + southeast\n",
    "\n",
    "states_mappings = {\n",
    "    'WASHINGTON': 'WA', \n",
    "    'OREGON': 'OR', \n",
    "    'IDAHO': 'ID',\n",
    "    'MONTANA': 'MT', \n",
    "    'WYOMING': 'WY', \n",
    "    'CALIFORNIA': 'CA', \n",
    "    'NEVADA': 'NV', 'UTAH': 'UT', \n",
    "    'COLORADO': 'CO',\n",
    "    'ARIZONA': 'AZ', \n",
    "    'NEW MEXICO': 'NM', \n",
    "    'OKLAHOMA': 'OK', \n",
    "    'TEXAS': 'TX',\n",
    "    'NORTH DAKOTA' : 'ND',\n",
    "    'SOUTH DAKOTA' : 'SD',\n",
    "    'KANSAS' : 'KS',\n",
    "    'MONTANA' : 'MO',\n",
    "    'NEBRASKA' : 'NE',\n",
    "    'IOWA' : 'IA',\n",
    "    'MINNESOTA' : 'MN',\n",
    "    'WISCONSIN' : 'WI',\n",
    "    'ILLINOIS' : 'IL',\n",
    "    'MICHIGAN' : 'MI',\n",
    "    'INDIANA' : 'IN',\n",
    "    'OHIO' : 'OH',\n",
    "    'MAINE' : 'ME',\n",
    "    'NEW HAMPSHIRE' : 'NH',\n",
    "    'VERMONT' : 'VT',\n",
    "    'NEW YORK' : 'NY',\n",
    "    'RHODE ISLAND' : 'RI',\n",
    "    'CONNECTICUT' : 'CT',\n",
    "    'MASSACHUSETTS' : 'MA',\n",
    "    'PENNSYLVANIA' : 'PA',\n",
    "    'NEW JERSEY' : 'NJ',\n",
    "    'WEST VIRGINA' : 'WV',\n",
    "    'MARYLAND' : 'MD',\n",
    "    'DELAWARE' : 'DE',\n",
    "    'VIRGINIA' : 'VA',\n",
    "    'KENTUCKY' : 'KY',\n",
    "    'NORTH CAROLINA' : 'NC',\n",
    "    'TENNESSEE' : 'TN',\n",
    "    'SOUTH CAROLINA' : 'SC',\n",
    "    'GEORGIA' : 'GA',\n",
    "    'ALABAMA' : 'AL',\n",
    "    'MISSOURI' : 'MS', \n",
    "    'ARKANSAS' : 'AR', \n",
    "    'LOUISIANA' : 'LA', \n",
    "    'FLORIDA' : 'FL'\n",
    "}\n",
    "\n",
    "def convert_to_upper_abr(state):\n",
    "    state = state.upper()\n",
    "    if state in states_mappings:\n",
    "        return states_mappings[state]\n",
    "    return state\n",
    "\n",
    "# convert all state entries to upper case and fix inconsistencies with states fully spelled our vs abb\n",
    "for _, row in df_business.iterrows():\n",
    "    row.state = convert_to_upper_abr(row.state)\n",
    "    \n",
    "# filter dataset by region\n",
    "print(df_business['state'].value_counts())\n",
    "west_businesses = df_business.loc[df_business['state'].isin(west)]\n",
    "south_businesses = df_business.loc[df_business['state'].isin(southwest)]\n",
    "midwest_businesses = df_business.loc[df_business['state'].isin(midwest)]\n",
    "northeast_businesses = df_business.loc[df_business['state'].isin(northeast)]\n",
    "southeast_businesses = df_business.loc[df_business['state'].isin(southeast)]\n",
    "print(west_businesses['state'].value_counts())\n",
    "\n",
    "import matplotlib.pyplot as plt \n",
    "\n",
    "plt.boxplot([west_businesses.stars, south_businesses.stars, midwest_businesses.stars, northeast_businesses.stars, southeast_businesses.stars])\n",
    "plt.xticks([1, 2, 3, 4, 5], ['West', 'South', 'Midwest', 'Northeast', 'Southeast'])\n",
    "plt.show()"
   ]
  }
 ],
 "metadata": {
  "kernelspec": {
   "display_name": "Python 3",
   "language": "python",
   "name": "python3"
  },
  "language_info": {
   "codemirror_mode": {
    "name": "ipython",
    "version": 3
   },
   "file_extension": ".py",
   "mimetype": "text/x-python",
   "name": "python",
   "nbconvert_exporter": "python",
   "pygments_lexer": "ipython3",
   "version": "3.7.3"
  }
 },
 "nbformat": 4,
 "nbformat_minor": 2
}
