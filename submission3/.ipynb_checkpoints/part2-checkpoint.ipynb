{
 "cells": [
  {
   "cell_type": "markdown",
   "metadata": {},
   "source": [
    "## 1. Data of Interests"
   ]
  },
  {
   "cell_type": "markdown",
   "metadata": {},
   "source": [
    "In the proposal, most projects only focus on a subset of data. Please state the subset of data to explore again here."
   ]
  },
  {
   "cell_type": "markdown",
   "metadata": {},
   "source": [
    "The goal of our project is to explore the relationship between food cuisines (Italian, French, Mexican, Chinese, etc) and consumer ratings relative to the time of day. In order to do this, we will use yelp's dataset. Our subset of will contain all the restaurants on yelp with either the tag 'food' or 'resturant' as a category in 'business.json' and the corresponding reviews associated with them in 'tip.json'"
   ]
  },
  {
   "cell_type": "markdown",
   "metadata": {},
   "source": [
    "## 2. Data Preprocessing"
   ]
  },
  {
   "cell_type": "markdown",
   "metadata": {},
   "source": [
    "Describe what preprocessing is done. This includes details of cleaning and reorganization."
   ]
  },
  {
   "cell_type": "markdown",
   "metadata": {},
   "source": [
    "For preprocessing, we first extracted all the businesses from business.json to filter for restaurants. We did some prelimary analysis to seach for the most common categories in the dataset and concluded the two most common but still relevant categories were 'food' and 'restaurants'. From there we collected all the entries with those tags and gathered their 'business_id', and retrieved all the coresponding reviews from 'tip.json' \n",
    "\n",
    "TODO: add more stuff"
   ]
  },
  {
   "cell_type": "code",
   "execution_count": 40,
   "metadata": {},
   "outputs": [],
   "source": [
    "# load dataset\n",
    "import json\n",
    "import pandas as pd\n",
    "import matplotlib.pyplot as plt\n",
    "import numpy as np\n",
    "\n",
    "filepath = '../../yelp_dataset'\n",
    "\n",
    "business = []\n",
    "for l in open(filepath+\"/business.json\", encoding=\"utf8\").readlines():\n",
    "    business.append(json.loads(l))\n",
    "df_business = pd.DataFrame.from_records(business)\n",
    "\n",
    "tips = []\n",
    "for l in open(filepath+\"/tip.json\", encoding=\"utf8\").readlines():\n",
    "    tips.append(json.loads(l))\n",
    "df_tip = pd.DataFrame.from_records(tips) "
   ]
  },
  {
   "cell_type": "code",
   "execution_count": 37,
   "metadata": {},
   "outputs": [],
   "source": [
    "# Find business categories\n",
    "categories = {}\n",
    "for _, row in df_business.iterrows():\n",
    "    if row.categories:\n",
    "        row_categories = row.categories.split(', ')\n",
    "        for category in row_categories:\n",
    "            if category not in categories:\n",
    "                categories[category] = 1\n",
    "            else:\n",
    "                categories[category] += 1\n",
    "categories = {k: v for k, v in sorted(categories.items(), key=lambda item: item[1])}\n"
   ]
  },
  {
   "cell_type": "code",
   "execution_count": 38,
   "metadata": {},
   "outputs": [
    {
     "data": {
      "image/png": "[encoded data removed]",
      "text/plain": [
       "<Figure size 432x288 with 1 Axes>"
      ]
     },
     "metadata": {
      "needs_background": "light"
     },
     "output_type": "display_data"
    }
   ],
   "source": [
    "# Top 10 categories\n",
    "top_10 = dict(list(categories.items())[-15:]) \n",
    "\n",
    "x = list(top_15.keys())\n",
    "x.reverse()\n",
    "x = np.array(x)\n",
    "y = list(top_15.values())\n",
    "y.reverse()\n",
    "y = np.array(y)\n",
    "\n",
    "\n",
    "fig, ax = plt.subplots()\n",
    "plt.bar(x, y)\n",
    "plt.xticks(x, x, color='black', rotation=45, fontsize='8', horizontalalignment='right')\n",
    "plt.xlabel(\"Categories\", fontweight='bold', fontsize='20')\n",
    "plt.ylabel(\"Quantity Count\", fontweight='bold', fontsize='20')\n",
    "\n",
    "plt.show()"
   ]
  },
  {
   "cell_type": "code",
   "execution_count": 39,
   "metadata": {},
   "outputs": [],
   "source": [
    "# Filter businesses that are only in the 'Food' or 'Restaurant' category\n",
    "def check_for_rest_or_food(row):\n",
    "    category = row['categories']\n",
    "    if category:\n",
    "        tokens = category.split(', ')\n",
    "        return 'Food' in tokens or 'Restaurant' in tokens\n",
    "    return False\n",
    "\n",
    "df_business['is_restaurant_or_food'] = df_business.apply(check_for_rest_or_food, axis=1)\n",
    "\n",
    "food_businesses = df_business[df_business['is_restaurant_or_food'] == True]"
   ]
  },
  {
   "cell_type": "code",
   "execution_count": 46,
   "metadata": {},
   "outputs": [
    {
     "name": "stdout",
     "output_type": "stream",
     "text": [
      "                        user_id             business_id  \\\n",
      "0        UPw5DWs_b-e2JRBS-t37Ag  VaKXUpmWTTWDKbpJ3aQdMw   \n",
      "1        Ocha4kZBHb4JK0lOWvE0sg  OPiPeoJiv92rENwbq76orA   \n",
      "2        jRyO2V1pA4CdVVqCIOPc1Q  5KheTjYPu1HcQzQFtm4_vw   \n",
      "3        FuTJWFYm4UKqewaosss1KA  TkoyGi8J7YFjA6SbaRzrxg   \n",
      "4        LUlKtaM3nXd-E4N4uOk_fQ  AkL6Ous6A1atZejfZXn1Bg   \n",
      "...                         ...                     ...   \n",
      "1223089  nus5X9JKgU_SzfAL4vhJrg  qdwwiRKwnhdlr9QcgJuzbg   \n",
      "1223090  95wqYGU6-OiHqRPZP0uAWw  wrs4Zbz17q_G49AIRxRPVw   \n",
      "1223091  HtLaONYabidSxMS1eGHcXA  wEc4JE2NYQr1RnGjGr4q7w   \n",
      "1223092  T4R5ZKfcGt1GIAgjCh67eA  n5Hc_iMVkyxcS0SXiBCbOQ   \n",
      "1223093  2Ag223bd4OtQOnc-F067rQ  wEoaR5WKNtLOLyR1z0TYdg   \n",
      "\n",
      "                                                      text  \\\n",
      "0        Great for watching games, ufc, and whatever el...   \n",
      "1        Happy Hour 2-4 daily with 1/2 price drinks and...   \n",
      "2        Good chips and salsa. Loud at times. Good serv...   \n",
      "3        The setting and decoration here is amazing. Co...   \n",
      "4        Molly is definately taking a picture with Sant...   \n",
      "...                                                    ...   \n",
      "1223089                Very good class, great instructor!!   \n",
      "1223090                                     Excellent food   \n",
      "1223091     Jess is the best bartender!! Go check her out!   \n",
      "1223092  Excellent food and AMAZING service by Anneliese!!   \n",
      "1223093                                         Funnnnn!!!   \n",
      "\n",
      "                        date  compliment_count  \n",
      "0        2014-03-27 03:51:24                 0  \n",
      "1        2013-05-25 06:00:56                 0  \n",
      "2        2011-12-26 01:46:17                 0  \n",
      "3        2014-03-23 21:32:49                 0  \n",
      "4        2012-10-06 00:19:27                 0  \n",
      "...                      ...               ...  \n",
      "1223089  2018-08-05 20:58:09                 0  \n",
      "1223090  2018-08-15 18:05:22                 0  \n",
      "1223091  2018-10-02 03:34:58                 0  \n",
      "1223092  2018-10-13 16:57:50                 0  \n",
      "1223093  2018-11-10 03:17:18                 0  \n",
      "\n",
      "[1223094 rows x 5 columns]\n"
     ]
    }
   ],
   "source": [
    "# Get the unique IDs for all the businesses that are resturaunts/food\n",
    "restaurant_ids  = food_businesses['business_id'].unique()\n",
    "\n",
    "# Create mappings for ID's to reviews\n",
    "# key = business_id, val = [list of tips]\n",
    "tips_map = {}\n",
    "# for ID in restaurant_ids:\n",
    "# print(df_tip)\n",
    "    "
   ]
  },
  {
   "cell_type": "markdown",
   "metadata": {},
   "source": [
    "## 3. EDA"
   ]
  },
  {
   "cell_type": "markdown",
   "metadata": {},
   "source": [
    "Describe in detail what EDA and Statistical Testing are performed. You should perform at least three meaningful plots/testings. Please also summarize the insights from EDA."
   ]
  },
  {
   "cell_type": "markdown",
   "metadata": {},
   "source": [
    "For our data set, we will perform the following EDA test:"
   ]
  },
  {
   "cell_type": "code",
   "execution_count": null,
   "metadata": {},
   "outputs": [],
   "source": []
  },
  {
   "cell_type": "code",
   "execution_count": null,
   "metadata": {},
   "outputs": [],
   "source": [
    "# load dataset\n",
    "import json\n",
    "import pandas as pd\n",
    "\n",
    "filepath = '../../yelp_dataset'\n",
    "\n",
    "business = []\n",
    "for l in open(filepath+\"/business.json\", encoding=\"utf8\").readlines():\n",
    "    business.append(json.loads(l))\n",
    "df_business = pd.DataFrame.from_records(business)\n",
    "print(df_business['state'].value_counts())\n",
    "\n",
    "# cleaning data for inconsistent state names\n",
    "\n",
    "west = ['WA', 'OR', 'ID', 'MT', 'WY', 'CA', 'NV', 'UT', 'CO']\n",
    "southwest = ['AZ', 'NM', 'OK', 'TX']\n",
    "midwest = ['ND', 'SD', 'KS', 'MO', 'NE', 'IA', 'MN', 'WI', 'IL', 'MI', 'IN', 'OH']\n",
    "northeast = ['ME', 'NH', 'VT', 'NY', 'RI', 'CT', 'MA', 'PA', 'NJ']\n",
    "southeast = ['WV', 'MD', 'DE', 'VA', 'KY', 'NC', 'TN', 'SC', 'GA', 'AL', 'MS', 'AR', 'LA', 'FL']\n",
    "states = west + southwest + midwest + northeast + southeast\n",
    "\n",
    "states_mappings = {\n",
    "    'WASHINGTON': 'WA', \n",
    "    'OREGON': 'OR', \n",
    "    'IDAHO': 'ID',\n",
    "    'MONTANA': 'MT', \n",
    "    'WYOMING': 'WY', \n",
    "    'CALIFORNIA': 'CA', \n",
    "    'NEVADA': 'NV', 'UTAH': 'UT', \n",
    "    'COLORADO': 'CO',\n",
    "    'ARIZONA': 'AZ', \n",
    "    'NEW MEXICO': 'NM', \n",
    "    'OKLAHOMA': 'OK', \n",
    "    'TEXAS': 'TX',\n",
    "    'NORTH DAKOTA' : 'ND',\n",
    "    'SOUTH DAKOTA' : 'SD',\n",
    "    'KANSAS' : 'KS',\n",
    "    'MONTANA' : 'MO',\n",
    "    'NEBRASKA' : 'NE',\n",
    "    'IOWA' : 'IA',\n",
    "    'MINNESOTA' : 'MN',\n",
    "    'WISCONSIN' : 'WI',\n",
    "    'ILLINOIS' : 'IL',\n",
    "    'MICHIGAN' : 'MI',\n",
    "    'INDIANA' : 'IN',\n",
    "    'OHIO' : 'OH',\n",
    "    'MAINE' : 'ME',\n",
    "    'NEW HAMPSHIRE' : 'NH',\n",
    "    'VERMONT' : 'VT',\n",
    "    'NEW YORK' : 'NY',\n",
    "    'RHODE ISLAND' : 'RI',\n",
    "    'CONNECTICUT' : 'CT',\n",
    "    'MASSACHUSETTS' : 'MA',\n",
    "    'PENNSYLVANIA' : 'PA',\n",
    "    'NEW JERSEY' : 'NJ',\n",
    "    'WEST VIRGINA' : 'WV',\n",
    "    'MARYLAND' : 'MD',\n",
    "    'DELAWARE' : 'DE',\n",
    "    'VIRGINIA' : 'VA',\n",
    "    'KENTUCKY' : 'KY',\n",
    "    'NORTH CAROLINA' : 'NC',\n",
    "    'TENNESSEE' : 'TN',\n",
    "    'SOUTH CAROLINA' : 'SC',\n",
    "    'GEORGIA' : 'GA',\n",
    "    'ALABAMA' : 'AL',\n",
    "    'MISSOURI' : 'MS', \n",
    "    'ARKANSAS' : 'AR', \n",
    "    'LOUISIANA' : 'LA', \n",
    "    'FLORIDA' : 'FL'\n",
    "}\n",
    "\n",
    "def convert_to_upper_abr(state):\n",
    "    state = state.upper()\n",
    "    if state in states_mappings:\n",
    "        return states_mappings[state]\n",
    "    return state\n",
    "\n",
    "# convert all state entries to upper case and fix inconsistencies with states fully spelled our vs abb\n",
    "for _, row in df_business.iterrows():\n",
    "    row.state = convert_to_upper_abr(row.state)\n",
    "    \n",
    "# filter dataset by region\n",
    "print(df_business['state'].value_counts())\n",
    "west_businesses = df_business.loc[df_business['state'].isin(west)]\n",
    "south_businesses = df_business.loc[df_business['state'].isin(southwest)]\n",
    "midwest_businesses = df_business.loc[df_business['state'].isin(midwest)]\n",
    "northeast_businesses = df_business.loc[df_business['state'].isin(northeast)]\n",
    "southeast_businesses = df_business.loc[df_business['state'].isin(southeast)]\n",
    "print(west_businesses['state'].value_counts())\n",
    "\n",
    "import matplotlib.pyplot as plt \n",
    "\n",
    "plt.boxplot([west_businesses.stars, south_businesses.stars, midwest_businesses.stars, northeast_businesses.stars, southeast_businesses.stars])\n",
    "plt.xticks([1, 2, 3, 4, 5], ['West', 'South', 'Midwest', 'Northeast', 'Southeast'])\n",
    "plt.show()"
   ]
  },
  {
   "cell_type": "markdown",
   "metadata": {},
   "source": [
    "Our questions we're trying to answer is \"Which cuisines are most positively received in certain region (West, Midwest, Northeast, and South) of the continental United States?” The subset of data that we will explore is the yelp dataset in business.json for entries in the continental United States only. (All US states except Alaska and Hawaii, not including Washington D.C.). The states will be divided up by region National Geographic's guideline for United States regions (https://www.nationalgeographic.org/maps/united-states-regions/). "
   ]
  },
  {
   "cell_type": "code",
   "execution_count": null,
   "metadata": {},
   "outputs": [],
   "source": []
  }
 ],
 "metadata": {
  "kernelspec": {
   "display_name": "Python 3",
   "language": "python",
   "name": "python3"
  },
  "language_info": {
   "codemirror_mode": {
    "name": "ipython",
    "version": 3
   },
   "file_extension": ".py",
   "mimetype": "text/x-python",
   "name": "python",
   "nbconvert_exporter": "python",
   "pygments_lexer": "ipython3",
   "version": "3.7.2"
  }
 },
 "nbformat": 4,
 "nbformat_minor": 2
}
