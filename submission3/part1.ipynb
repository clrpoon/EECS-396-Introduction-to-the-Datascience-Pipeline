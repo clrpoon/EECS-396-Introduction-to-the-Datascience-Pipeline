{
 "cells": [
  {
   "cell_type": "code",
   "execution_count": 28,
   "metadata": {},
   "outputs": [],
   "source": [
    "import pandas as pd\n",
    "import matplotlib.pyplot as plt \n",
    "import statsmodels.api as sm "
   ]
  },
  {
   "cell_type": "code",
   "execution_count": 3,
   "metadata": {},
   "outputs": [],
   "source": [
    "movies = pd.read_csv(\"../../movie_metadata.csv\");"
   ]
  },
  {
   "cell_type": "markdown",
   "metadata": {},
   "source": [
    "## Q1"
   ]
  },
  {
   "cell_type": "markdown",
   "metadata": {},
   "source": [
    "Plot the histogram of movie durations. Note: plot only movies with a duration of less than or equal to 240 minutes. Use a bin size of 30."
   ]
  },
  {
   "cell_type": "code",
   "execution_count": 12,
   "metadata": {},
   "outputs": [
    {
     "data": {
      "text/plain": [
       "<matplotlib.axes._subplots.AxesSubplot at 0x1116a4da0>"
      ]
     },
     "execution_count": 12,
     "metadata": {},
     "output_type": "execute_result"
    },
    {
     "data": {
      "image/png": "[encoded data removed]",
      "text/plain": [
       "<Figure size 432x288 with 1 Axes>"
      ]
     },
     "metadata": {
      "needs_background": "light"
     },
     "output_type": "display_data"
    }
   ],
   "source": [
    "movies.duration.plot.hist(bins=30)"
   ]
  },
  {
   "cell_type": "markdown",
   "metadata": {},
   "source": [
    "## Q2"
   ]
  },
  {
   "cell_type": "markdown",
   "metadata": {},
   "source": [
    "Generate a side-by-side box plot to show the distribution of the number of critic reviews on four rating categories: PG-13, PG, G, and R. What insights can you get from the plot?"
   ]
  },
  {
   "cell_type": "code",
   "execution_count": 25,
   "metadata": {},
   "outputs": [
    {
     "data": {
      "image/png": "[encoded data removed]",
      "text/plain": [
       "<Figure size 432x288 with 1 Axes>"
      ]
     },
     "metadata": {
      "needs_background": "light"
     },
     "output_type": "display_data"
    }
   ],
   "source": [
    "pg_thirteen_movies_critic_reviews = list(movies.loc[movies['content_rating'] == 'PG-13']['num_critic_for_reviews'])\n",
    "pg_thirteen_movies_critic_reviews = list(filter(lambda x: (not np.isnan(x)), pg_thirteen_movies_critic_reviews))\n",
    "\n",
    "pg_movies_critic_reviews = list(movies.loc[movies['content_rating'] == 'PG']['num_critic_for_reviews'])\n",
    "pg_movies_critic_reviews = list(filter(lambda x: (not np.isnan(x)), pg_movies_critic_reviews))\n",
    "\n",
    "g_movies_critic_reviews = list(movies.loc[movies['content_rating'] == 'G']['num_critic_for_reviews'])\n",
    "g_movies_critic_reviews = list(filter(lambda x: (not np.isnan(x)), g_movies_critic_reviews))\n",
    "\n",
    "r_movies_critic_reviews = list(movies.loc[movies['content_rating'] == 'R']['num_critic_for_reviews'])\n",
    "r_movies_critic_reviews = list(filter(lambda x: (not np.isnan(x)), r_movies_critic_reviews))\n",
    "\n",
    "plt.boxplot([pg_thirteen_movies_critic_reviews, pg_movies_critic_reviews, g_movies_critic_reviews, r_movies_critic_reviews])\n",
    "plt.xticks([1, 2, 3, 4], ['PG-13', 'PG', 'G', 'R'])\n",
    "plt.show()"
   ]
  },
  {
   "cell_type": "markdown",
   "metadata": {},
   "source": [
    "## Q3"
   ]
  },
  {
   "cell_type": "markdown",
   "metadata": {},
   "source": [
    "We want to specifically compare the distribution of the number of critic review on two rating categories: R and PG-13. Generate a QQ plot and make comparisons on the two distribution from the plot. What insights can you get from the plot?"
   ]
  },
  {
   "cell_type": "code",
   "execution_count": 30,
   "metadata": {},
   "outputs": [],
   "source": [
    "pg_thirteen_movies_critic_reviews = list(movies.loc[movies['content_rating'] == 'PG-13']['num_critic_for_reviews'])\n",
    "pg_thirteen_movies_critic_reviews = list(filter(lambda x: (not np.isnan(x)), pg_thirteen_movies_critic_reviews))\n",
    "\n",
    "r_movies_critic_reviews = list(movies.loc[movies['content_rating'] == 'R']['num_critic_for_reviews'])\n",
    "r_movies_critic_reviews = list(filter(lambda x: (not np.isnan(x)), r_movies_critic_reviews))\n",
    "\n",
    "# sm.qqplot(pg_thirteen_movies_critic_reviews, r_movies_critic_reviews, line ='45') \n",
    "# py.show() "
   ]
  },
  {
   "cell_type": "code",
   "execution_count": null,
   "metadata": {},
   "outputs": [],
   "source": []
  }
 ],
 "metadata": {
  "kernelspec": {
   "display_name": "Python 3",
   "language": "python",
   "name": "python3"
  },
  "language_info": {
   "codemirror_mode": {
    "name": "ipython",
    "version": 3
   },
   "file_extension": ".py",
   "mimetype": "text/x-python",
   "name": "python",
   "nbconvert_exporter": "python",
   "pygments_lexer": "ipython3",
   "version": "3.7.3"
  }
 },
 "nbformat": 4,
 "nbformat_minor": 4
}
