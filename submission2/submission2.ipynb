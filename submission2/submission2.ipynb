{
 "cells": [
  {
   "cell_type": "markdown",
   "metadata": {},
   "source": [
    "# Statistical Testing (Exercise)"
   ]
  },
  {
   "cell_type": "code",
   "execution_count": 116,
   "metadata": {},
   "outputs": [],
   "source": [
    "import json\n",
    "import numpy as np\n",
    "import pandas as pd\n",
    "import powerlaw\n",
    "import matplotlib.pyplot as plt\n",
    "from scipy import stats\n",
    "from scipy.stats import pearsonr\n",
    "import math"
   ]
  },
  {
   "cell_type": "code",
   "execution_count": 104,
   "metadata": {},
   "outputs": [
    {
     "ename": "FileNotFoundError",
     "evalue": "[Errno 2] No such file or directory: '../../yelp-dataset/business.json'",
     "output_type": "error",
     "traceback": [
      "\u001b[0;31m---------------------------------------------------------------------------\u001b[0m",
      "\u001b[0;31mFileNotFoundError\u001b[0m                         Traceback (most recent call last)",
      "\u001b[0;32m<ipython-input-104-1faea3765f36>\u001b[0m in \u001b[0;36m<module>\u001b[0;34m\u001b[0m\n\u001b[1;32m      1\u001b[0m \u001b[0mbusiness\u001b[0m\u001b[0;34m=\u001b[0m\u001b[0;34m[\u001b[0m\u001b[0;34m]\u001b[0m\u001b[0;34m\u001b[0m\u001b[0;34m\u001b[0m\u001b[0m\n\u001b[0;32m----> 2\u001b[0;31m \u001b[0;32mfor\u001b[0m \u001b[0ml\u001b[0m \u001b[0;32min\u001b[0m \u001b[0mopen\u001b[0m\u001b[0;34m(\u001b[0m\u001b[0;34m\"../../yelp-dataset/business.json\"\u001b[0m\u001b[0;34m,\u001b[0m \u001b[0mencoding\u001b[0m\u001b[0;34m=\u001b[0m\u001b[0;34m\"utf8\"\u001b[0m\u001b[0;34m)\u001b[0m\u001b[0;34m.\u001b[0m\u001b[0mreadlines\u001b[0m\u001b[0;34m(\u001b[0m\u001b[0;34m)\u001b[0m\u001b[0;34m:\u001b[0m\u001b[0;34m\u001b[0m\u001b[0;34m\u001b[0m\u001b[0m\n\u001b[0m\u001b[1;32m      3\u001b[0m     \u001b[0mbusiness\u001b[0m\u001b[0;34m.\u001b[0m\u001b[0mappend\u001b[0m\u001b[0;34m(\u001b[0m\u001b[0mjson\u001b[0m\u001b[0;34m.\u001b[0m\u001b[0mloads\u001b[0m\u001b[0;34m(\u001b[0m\u001b[0ml\u001b[0m\u001b[0;34m)\u001b[0m\u001b[0;34m)\u001b[0m\u001b[0;34m\u001b[0m\u001b[0;34m\u001b[0m\u001b[0m\n\u001b[1;32m      4\u001b[0m \u001b[0mdf_business\u001b[0m \u001b[0;34m=\u001b[0m \u001b[0mpd\u001b[0m\u001b[0;34m.\u001b[0m\u001b[0mDataFrame\u001b[0m\u001b[0;34m.\u001b[0m\u001b[0mfrom_records\u001b[0m\u001b[0;34m(\u001b[0m\u001b[0mbusiness\u001b[0m\u001b[0;34m)\u001b[0m\u001b[0;34m\u001b[0m\u001b[0;34m\u001b[0m\u001b[0m\n",
      "\u001b[0;31mFileNotFoundError\u001b[0m: [Errno 2] No such file or directory: '../../yelp-dataset/business.json'"
     ]
    }
   ],
   "source": [
    "business=[]\n",
    "for l in open(\"../../yelp-dataset/business.json\", encoding=\"utf8\").readlines():\n",
    "    business.append(json.loads(l))\n",
    "df_business = pd.DataFrame.from_records(business)"
   ]
  },
  {
   "cell_type": "markdown",
   "metadata": {},
   "source": [
    "## Q1:\n",
    "For all businesses, the number of reviews they get can differ a lot. We want to explore if the number of reviews (review_count) from all businesses have a power-law tail distribution. Please provide visualizations and reasonable explanations on how you draw your conclusions. If it is a power-law distribution, calculate the exponent alpha. If not, provide an explanation of the conclusion."
   ]
  },
  {
   "cell_type": "markdown",
   "metadata": {},
   "source": [
    "First we loaded the dataset from the json and caclulated the PDF of the review counts and graphed both the PDF and log scaled PDF of review counts for visual inspection "
   ]
  },
  {
   "cell_type": "code",
   "execution_count": null,
   "metadata": {
    "scrolled": false
   },
   "outputs": [],
   "source": [
    "total_entries = df_business.shape[0]\n",
    "\n",
    "review_value_counts = df_business['review_count'].value_counts().sort_index() \n",
    "review_value_percentages = review_value_counts.divide(total_entries)\n",
    "\n",
    "print(\"PDF of Review Counts\")\n",
    "plt.plot(review_value_percentages)"
   ]
  },
  {
   "cell_type": "code",
   "execution_count": null,
   "metadata": {},
   "outputs": [],
   "source": [
    "print(\"Log Scaled PDF of Review Counts\")\n",
    "plt.loglog(review_value_percentages)"
   ]
  },
  {
   "cell_type": "markdown",
   "metadata": {},
   "source": [
    "Since the log scaled PDF function appears to be relatively linear, we are going to proceed to assume that this dataset follows the Power Law, but we still need to prove it. With visual inspection we can tell that there is a lot of noise in the dataset. In order to clean up the noise, we will bin the values"
   ]
  },
  {
   "cell_type": "code",
   "execution_count": 105,
   "metadata": {},
   "outputs": [
    {
     "name": "stdout",
     "output_type": "stream",
     "text": [
      "Binned PDF Review Counts\n"
     ]
    },
    {
     "data": {
      "text/plain": [
       "[<matplotlib.lines.Line2D at 0x1494e9400>]"
      ]
     },
     "execution_count": 105,
     "metadata": {},
     "output_type": "execute_result"
    },
    {
     "data": {
      "image/png": "[encoded data removed]",
      "text/plain": [
       "<Figure size 432x288 with 1 Axes>"
      ]
     },
     "metadata": {
      "needs_background": "light"
     },
     "output_type": "display_data"
    }
   ],
   "source": [
    "review_value_percentages = np.array(review_value_percentages)\n",
    "counts, bins = np.histogram(review_value_percentages, bins = 190)\n",
    "\n",
    "x_min_index = 2\n",
    "\n",
    "\n",
    "bins=bins[x_min_index:]\n",
    "counts = counts[x_min_index-1:]\n",
    "\n",
    "print(\"Binned PDF Review Counts\")\n",
    "plt.plot(bins,counts)"
   ]
  },
  {
   "cell_type": "code",
   "execution_count": 106,
   "metadata": {},
   "outputs": [
    {
     "name": "stdout",
     "output_type": "stream",
     "text": [
      "Log Scaled Binned PDF Review Count\n"
     ]
    },
    {
     "data": {
      "text/plain": [
       "[<matplotlib.lines.Line2D at 0x149524668>]"
      ]
     },
     "execution_count": 106,
     "metadata": {},
     "output_type": "execute_result"
    },
    {
     "data": {
      "image/png": "[encoded data removed]",
      "text/plain": [
       "<Figure size 432x288 with 1 Axes>"
      ]
     },
     "metadata": {
      "needs_background": "light"
     },
     "output_type": "display_data"
    }
   ],
   "source": [
    "print(\"Log Scaled Binned PDF Review Count\")\n",
    "plt.plot(bins, counts)\n",
    "plt.loglog(bins, counts, 'x')"
   ]
  },
  {
   "cell_type": "code",
   "execution_count": 107,
   "metadata": {},
   "outputs": [
    {
     "data": {
      "text/plain": [
       "[<matplotlib.lines.Line2D at 0x1496633c8>]"
      ]
     },
     "execution_count": 107,
     "metadata": {},
     "output_type": "execute_result"
    },
    {
     "data": {
      "image/png": "[encoded data removed]",
      "text/plain": [
       "<Figure size 432x288 with 1 Axes>"
      ]
     },
     "metadata": {
      "needs_background": "light"
     },
     "output_type": "display_data"
    }
   ],
   "source": [
    "counts2 = counts[::-1]\n",
    "counts2 = np.cumsum(counts2)\n",
    "counts2 = counts2[::-1]\n",
    "\n",
    "plt.figure()\n",
    "plt.plot(bins, counts2)\n",
    "plt.loglog(bins, counts2, 'x')"
   ]
  },
  {
   "cell_type": "markdown",
   "metadata": {},
   "source": [
    "Now that we've reduced the noise of the dataset via binning, we will use the Pearsons Correlation Coefficient to determine how strongly linearly correlated the Log Scaled PDF is"
   ]
  },
  {
   "cell_type": "code",
   "execution_count": 108,
   "metadata": {},
   "outputs": [
    {
     "name": "stdout",
     "output_type": "stream",
     "text": [
      "Pearsons correlation: -0.981\n"
     ]
    }
   ],
   "source": [
    "bins_log = np.log(bins)\n",
    "counts2_log = np.log(counts2)\n",
    "\n",
    "corr, _ = pearsonr(bins_log, counts2_log)\n",
    "print('Pearsons correlation: %.3f' % corr)"
   ]
  },
  {
   "cell_type": "markdown",
   "metadata": {},
   "source": [
    "With a Pearsons Correlation Coefficient of '-0.981', we can conclude that the relationship is very strongly negatively correlated"
   ]
  },
  {
   "cell_type": "code",
   "execution_count": 109,
   "metadata": {},
   "outputs": [
    {
     "name": "stdout",
     "output_type": "stream",
     "text": [
      "alpha = 2.372597590296026\n"
     ]
    },
    {
     "name": "stderr",
     "output_type": "stream",
     "text": [
      "Calculating best minimal value for power law fit\n"
     ]
    }
   ],
   "source": [
    "data = counts2\n",
    "results = powerlaw.Fit(data)\n",
    "print(\"alpha =\", results.power_law.alpha)\n",
    "# print(results.power_law.xmin)"
   ]
  },
  {
   "cell_type": "markdown",
   "metadata": {},
   "source": [
    "Using Python's powerlaw library, we fit a power law curve to our dataset and got an alpha = 2.372597590296026"
   ]
  },
  {
   "cell_type": "markdown",
   "metadata": {},
   "source": [
    "## Q2:"
   ]
  },
  {
   "cell_type": "markdown",
   "metadata": {},
   "source": [
    "We want to further look at the number of reviews for business geographically. In particular, we want to explore if the distribution of review_count follows the same distribution between Illinois and South Carolina. Use a suitable test for this task and provide detailed steps and explanations."
   ]
  },
  {
   "cell_type": "code",
   "execution_count": 111,
   "metadata": {},
   "outputs": [],
   "source": [
    "il_businesses = df_business.loc[df_business['state'] == 'IL']\n",
    "il_review_counts = il_businesses['review_count'].value_counts().sort_index() \n",
    "\n",
    "sc_businesses = df_business.loc[df_business['state'] == 'SC']\n",
    "sc_review_counts = sc_businesses['review_count'].value_counts().sort_index() "
   ]
  },
  {
   "cell_type": "code",
   "execution_count": 122,
   "metadata": {},
   "outputs": [
    {
     "name": "stdout",
     "output_type": "stream",
     "text": [
      "D value 0.07002391708743025\n",
      "RHS of failure equation 0.1570960396922789\n",
      "Does the test fail? False\n",
      "p-value 0.89929169890248\n"
     ]
    }
   ],
   "source": [
    "ks_test_results = stats.ks_2samp(il_review_counts, sc_review_counts)\n",
    "\n",
    "confidence_level = 0.05\n",
    "c_alpha = math.sqrt(-0.5*math.log(confidence_level))\n",
    "n = len(il_review_counts)\n",
    "m = len(sc_review_counts)\n",
    "RHS = c_alpha * math.sqrt((n+m)/(n*m))\n",
    "\n",
    "print('D value', ks_test_results.statistic)\n",
    "print('RHS of failure equation', RHS)\n",
    "print('Does the test fail?', ks_test_results.statistic > RHS)\n",
    "print('p-value', ks_test_results.pvalue)"
   ]
  },
  {
   "cell_type": "code",
   "execution_count": null,
   "metadata": {},
   "outputs": [],
   "source": []
  }
 ],
 "metadata": {
  "kernelspec": {
   "display_name": "Python 3",
   "language": "python",
   "name": "python3"
  },
  "language_info": {
   "codemirror_mode": {
    "name": "ipython",
    "version": 3
   },
   "file_extension": ".py",
   "mimetype": "text/x-python",
   "name": "python",
   "nbconvert_exporter": "python",
   "pygments_lexer": "ipython3",
   "version": "3.7.3"
  }
 },
 "nbformat": 4,
 "nbformat_minor": 2
}
