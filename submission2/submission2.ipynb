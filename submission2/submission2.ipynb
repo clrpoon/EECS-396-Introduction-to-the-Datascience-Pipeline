{
 "cells": [
  {
   "cell_type": "markdown",
   "metadata": {},
   "source": [
    "# Statistical Testing (Exercise)"
   ]
  },
  {
   "cell_type": "code",
   "execution_count": 69,
   "metadata": {},
   "outputs": [],
   "source": [
    "import json\n",
    "import numpy as np\n",
    "import pandas as pd\n",
    "import powerlaw\n",
    "import matplotlib.pyplot as plt\n",
    "from scipy.stats import pearsonr\n"
   ]
  },
  {
   "cell_type": "code",
   "execution_count": 10,
   "metadata": {},
   "outputs": [],
   "source": [
    "business=[]\n",
    "for l in open(\"../../yelp-dataset/business.json\", encoding=\"utf8\").readlines():\n",
    "    business.append(json.loads(l))\n",
    "df_business = pd.DataFrame.from_records(business)\n",
    "az_businesses = df_business.loc[df_business['state'] == 'AZ']"
   ]
  },
  {
   "cell_type": "markdown",
   "metadata": {},
   "source": [
    "## Q1:\n",
    "For all businesses, the number of reviews they get can differ a lot. We want to explore if the number of reviews (review_count) from all businesses have a power-law tail distribution. Please provide visualizations and reasonable explanations on how you draw your conclusions. If it is a power-law distribution, calculate the exponent alpha. If not, provide an explanation of the conclusion."
   ]
  },
  {
   "cell_type": "code",
   "execution_count": 66,
   "metadata": {
    "scrolled": false
   },
   "outputs": [
    {
     "name": "stdout",
     "output_type": "stream",
     "text": [
      "PDF of review counts in AZ\n"
     ]
    },
    {
     "data": {
      "image/png": "[encoded data removed]",
      "text/plain": [
       "<Figure size 432x288 with 1 Axes>"
      ]
     },
     "metadata": {
      "needs_background": "light"
     },
     "output_type": "display_data"
    }
   ],
   "source": [
    "total_entries = az_businesses.shape[0]\n",
    "min_review_count = az_businesses['review_count'].min()\n",
    "max_review_count = az_businesses['review_count'].max()\n",
    "\n",
    "review_value_counts = az_businesses['review_count'].value_counts().sort_index() \n",
    "review_value_percentages = review_value_counts.divide(total_entries)\n",
    "\n",
    "# print('Min review count:', min_review_count)\n",
    "# print('Max review count:', max_review_count)\n",
    "\n",
    "review_value_percentages.plot.line(x='Review Counts', y='percentages')\n",
    "print(\"PDF of review counts in AZ\")"
   ]
  },
  {
   "cell_type": "code",
   "execution_count": 68,
   "metadata": {},
   "outputs": [
    {
     "name": "stdout",
     "output_type": "stream",
     "text": [
      "Log Scale PDF of review counts in AZ\n"
     ]
    },
    {
     "data": {
      "text/plain": [
       "[<matplotlib.lines.Line2D at 0x1ca1af622b0>]"
      ]
     },
     "execution_count": 68,
     "metadata": {},
     "output_type": "execute_result"
    },
    {
     "data": {
      "image/png": "[encoded data removed]",
      "text/plain": [
       "<Figure size 432x288 with 1 Axes>"
      ]
     },
     "metadata": {
      "needs_background": "light"
     },
     "output_type": "display_data"
    }
   ],
   "source": [
    "print(\"Log Scale PDF of review counts in AZ\")\n",
    "plt.loglog(review_value_percentages)"
   ]
  },
  {
   "cell_type": "code",
   "execution_count": null,
   "metadata": {},
   "outputs": [],
   "source": []
  },
  {
   "cell_type": "markdown",
   "metadata": {},
   "source": [
    "Cumulative distributions with a power-law form are sometimes said to follow Zipf’s law or a Pareto distribution.\n",
    "\n",
    "Since power-law cumulative distributions imply a power-law form for p(x), “Zipf’slaw” and “Pareto distribution” are effectively synonymous with “power-law distribution”"
   ]
  },
  {
   "cell_type": "code",
   "execution_count": null,
   "metadata": {},
   "outputs": [],
   "source": []
  }
 ],
 "metadata": {
  "kernelspec": {
   "display_name": "Python 3",
   "language": "python",
   "name": "python3"
  },
  "language_info": {
   "codemirror_mode": {
    "name": "ipython",
    "version": 3
   },
   "file_extension": ".py",
   "mimetype": "text/x-python",
   "name": "python",
   "nbconvert_exporter": "python",
   "pygments_lexer": "ipython3",
   "version": "3.7.2"
  }
 },
 "nbformat": 4,
 "nbformat_minor": 2
}
