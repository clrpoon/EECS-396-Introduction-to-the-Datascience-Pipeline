{
 "cells": [
  {
   "cell_type": "markdown",
   "metadata": {},
   "source": [
    "## Q4:"
   ]
  },
  {
   "cell_type": "markdown",
   "metadata": {},
   "source": [
    "We want to test if the following two events are independent if the business is open or closed and if the number of review_count is greater than 20 or not."
   ]
  },
  {
   "cell_type": "code",
   "execution_count": null,
   "metadata": {},
   "outputs": [],
   "source": [
    "# Get data\n",
    "open_businesses = df_business.loc[df_business['is_open'] == 1]\n",
    "open_count = open_businesses.count().loc['business_id']\n",
    "closed_businesses = df_business.loc[df_business['is_open'] == 0]\n",
    "closed_count = closed_businesses.count().loc['business_id']\n",
    "\n",
    "more_than_20_review_businesses = df_business.loc[df_business['review_count'] <= 20]\n",
    "more_than_20_review_count = more_than_20_review_businesses.count().loc['business_id']\n",
    "less_than_20_review_businesses = df_business.loc[df_business['review_count'] > 20]\n",
    "less_than_20_review_count = less_than_20_review_businesses.count().loc['business_id']\n",
    "\n",
    "open_more_than_20_review_count = more_than_20_review_businesses.loc[df_business['is_open'] == 1].count().loc['business_id']\n",
    "closed_more_than_20_review_count = more_than_20_review_businesses.loc[df_business['is_open'] == 0].count().loc['business_id']\n",
    "open_less_than_20_review_count = less_than_20_review_businesses.loc[df_business['is_open'] == 1].count().loc['business_id']\n",
    "closed_less_than_20_review_count = less_than_20_review_businesses.loc[df_business['is_open'] == 0].count().loc['business_id']\n",
    "\n",
    "data_observed = [open_more_than_20_review_count, closed_more_than_20_review_count, open_less_than_20_review_count, closed_less_than_20_review_count]\n"
   ]
  },
  {
   "cell_type": "code",
   "execution_count": null,
   "metadata": {},
   "outputs": [],
   "source": [
    "# Find expected values\n",
    "total = more_than_20_review_count + less_than_20_review_count\n",
    "expected_open_more_than_20_review = (open_count*more_than_20_review_count)/total\n",
    "expected_closed_more_than_20_review = (closed_count*more_than_20_review_count)/total\n",
    "expected_open_less_than_20_review = (open_count*less_than_20_review_count)/total\n",
    "expected_closed_less_than_20_review = (closed_count*less_than_20_review_count)/total\n",
    "\n",
    "data_expected = [expected_open_more_than_20_review, expected_closed_more_than_20_review, expected_open_less_than_20_review, expected_closed_less_than_20_review]\n",
    "\n",
    "# Calculate chi-square test\n",
    "chisq, p = stats.chisquare(data_observed, f_exp=data_expected, ddof=1)\n",
    "print('p:', p)"
   ]
  },
  {
   "cell_type": "markdown",
   "metadata": {},
   "source": [
    "The p-value is very small, so we conclude that a business being open or closed and a business having greater than 20 reviews or not are dependent."
   ]
  }
 ],
 "metadata": {
  "kernelspec": {
   "display_name": "Python 3",
   "language": "python",
   "name": "python3"
  },
  "language_info": {
   "codemirror_mode": {
    "name": "ipython",
    "version": 3
   },
   "file_extension": ".py",
   "mimetype": "text/x-python",
   "name": "python",
   "nbconvert_exporter": "python",
   "pygments_lexer": "ipython3",
   "version": "3.7.3"
  }
 },
 "nbformat": 4,
 "nbformat_minor": 4
}
